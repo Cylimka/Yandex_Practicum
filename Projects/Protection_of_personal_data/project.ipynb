{
 "cells": [
  {
   "cell_type": "markdown",
   "metadata": {
    "toc": true
   },
   "source": [
    "<h1>Содержание<span class=\"tocSkip\"></span></h1>\n",
    "<div class=\"toc\"><ul class=\"toc-item\"><li><span><a href=\"#Загрузка-и-знакомство-с-данными\" data-toc-modified-id=\"Загрузка-и-знакомство-с-данными-1\"><span class=\"toc-item-num\">1&nbsp;&nbsp;</span>Загрузка и знакомство с данными</a></span><ul class=\"toc-item\"><li><span><a href=\"#Выводы-по-знакомству-с-данными\" data-toc-modified-id=\"Выводы-по-знакомству-с-данными-1.1\"><span class=\"toc-item-num\">1.1&nbsp;&nbsp;</span>Выводы по знакомству с данными</a></span></li></ul></li><li><span><a href=\"#Предобработка-данных\" data-toc-modified-id=\"Предобработка-данных-2\"><span class=\"toc-item-num\">2&nbsp;&nbsp;</span>Предобработка данных</a></span><ul class=\"toc-item\"><li><span><a href=\"#Переименуем-столбцы\" data-toc-modified-id=\"Переименуем-столбцы-2.1\"><span class=\"toc-item-num\">2.1&nbsp;&nbsp;</span>Переименуем столбцы</a></span></li><li><span><a href=\"#Дубликаты\" data-toc-modified-id=\"Дубликаты-2.2\"><span class=\"toc-item-num\">2.2&nbsp;&nbsp;</span>Дубликаты</a></span></li><li><span><a href=\"#Изменим-типы-данных\" data-toc-modified-id=\"Изменим-типы-данных-2.3\"><span class=\"toc-item-num\">2.3&nbsp;&nbsp;</span>Изменим типы данных</a></span></li><li><span><a href=\"#Вывод-по-предобработке\" data-toc-modified-id=\"Вывод-по-предобработке-2.4\"><span class=\"toc-item-num\">2.4&nbsp;&nbsp;</span>Вывод по предобработке</a></span></li></ul></li><li><span><a href=\"#Умножение-матриц\" data-toc-modified-id=\"Умножение-матриц-3\"><span class=\"toc-item-num\">3&nbsp;&nbsp;</span>Умножение матриц</a></span></li><li><span><a href=\"#Алгоритм-преобразования\" data-toc-modified-id=\"Алгоритм-преобразования-4\"><span class=\"toc-item-num\">4&nbsp;&nbsp;</span>Алгоритм преобразования</a></span></li><li><span><a href=\"#Проверка-алгоритма\" data-toc-modified-id=\"Проверка-алгоритма-5\"><span class=\"toc-item-num\">5&nbsp;&nbsp;</span>Проверка алгоритма</a></span><ul class=\"toc-item\"><li><span><a href=\"#Модель-на-матрице-признаков-X\" data-toc-modified-id=\"Модель-на-матрице-признаков-X-5.1\"><span class=\"toc-item-num\">5.1&nbsp;&nbsp;</span>Модель на матрице признаков X</a></span></li><li><span><a href=\"#Модель-на-произведении-матрицы-признакаов-X-и-обратимой-матрицы-P\" data-toc-modified-id=\"Модель-на-произведении-матрицы-признакаов-X-и-обратимой-матрицы-P-5.2\"><span class=\"toc-item-num\">5.2&nbsp;&nbsp;</span>Модель на произведении матрицы признакаов X и обратимой матрицы P</a></span></li><li><span><a href=\"#Сравним-модели\" data-toc-modified-id=\"Сравним-модели-5.3\"><span class=\"toc-item-num\">5.3&nbsp;&nbsp;</span>Сравним модели</a></span></li></ul></li><li><span><a href=\"#Вывод:\" data-toc-modified-id=\"Вывод:-6\"><span class=\"toc-item-num\">6&nbsp;&nbsp;</span>Вывод:</a></span></li></ul></div>"
   ]
  },
  {
   "cell_type": "markdown",
   "metadata": {},
   "source": [
    "* Знакомство с данными\n",
    "    * Выявим проблемы в наших данных\n",
    "* Предобработка\n",
    "    * Исправим неточности которые были в наших данных\n",
    "* Умножение матриц\n",
    "    * Нам нужно определить изменится ли качество линейной регрессии если мы умножим матрицу признаков на обратимую матрицу\n",
    "* Алгоритм преобразования\n",
    "    * Подтвердим наш вывод из прошлого пункта с помощью написания функций на языке программирования\n",
    "* Проверка алгоритма\n",
    "    * Проверьте, качество линейной регрессии из sklearn до и после преобразования c помощью метрики R2."
   ]
  },
  {
   "cell_type": "markdown",
   "metadata": {},
   "source": [
    "# Защита персональных данных клиентов"
   ]
  },
  {
   "cell_type": "markdown",
   "metadata": {},
   "source": [
    "Вам нужно защитить данные клиентов страховой компании «Хоть потоп». Разработайте такой метод преобразования данных, чтобы по ним было сложно восстановить персональную информацию. Обоснуйте корректность его работы.\n",
    "\n",
    "Нужно защитить данные, чтобы при преобразовании качество моделей машинного обучения не ухудшилось. Подбирать наилучшую модель не требуется."
   ]
  },
  {
   "cell_type": "markdown",
   "metadata": {},
   "source": [
    "## Загрузка и знакомство с данными"
   ]
  },
  {
   "cell_type": "markdown",
   "metadata": {},
   "source": [
    "Загрузим необходимые для работы библиотеки"
   ]
  },
  {
   "cell_type": "code",
   "execution_count": 1,
   "metadata": {
    "tags": []
   },
   "outputs": [],
   "source": [
    "import pandas as pd\n",
    "pd.set_option('display.float_format', '{:.3f}'.format)\n",
    "\n",
    "import matplotlib.pyplot as plt\n",
    "import seaborn as sns\n",
    "\n",
    "import numpy as np\n",
    "from sklearn.linear_model import LinearRegression \n",
    "from sklearn.metrics import r2_score"
   ]
  },
  {
   "cell_type": "markdown",
   "metadata": {},
   "source": [
    "Загрузим наши данные и сохраним их в переменную: **df**"
   ]
  },
  {
   "cell_type": "code",
   "execution_count": 2,
   "metadata": {
    "tags": []
   },
   "outputs": [],
   "source": [
    "df = pd.read_csv('insurance.csv')"
   ]
  },
  {
   "cell_type": "markdown",
   "metadata": {},
   "source": [
    "Посмотрим на первый 5 строк нашего датафрейма"
   ]
  },
  {
   "cell_type": "code",
   "execution_count": 3,
   "metadata": {
    "tags": []
   },
   "outputs": [
    {
     "data": {
      "text/html": [
       "<div>\n",
       "<style scoped>\n",
       "    .dataframe tbody tr th:only-of-type {\n",
       "        vertical-align: middle;\n",
       "    }\n",
       "\n",
       "    .dataframe tbody tr th {\n",
       "        vertical-align: top;\n",
       "    }\n",
       "\n",
       "    .dataframe thead th {\n",
       "        text-align: right;\n",
       "    }\n",
       "</style>\n",
       "<table border=\"1\" class=\"dataframe\">\n",
       "  <thead>\n",
       "    <tr style=\"text-align: right;\">\n",
       "      <th></th>\n",
       "      <th>Пол</th>\n",
       "      <th>Возраст</th>\n",
       "      <th>Зарплата</th>\n",
       "      <th>Члены семьи</th>\n",
       "      <th>Страховые выплаты</th>\n",
       "    </tr>\n",
       "  </thead>\n",
       "  <tbody>\n",
       "    <tr>\n",
       "      <th>0</th>\n",
       "      <td>1</td>\n",
       "      <td>41.000</td>\n",
       "      <td>49600.000</td>\n",
       "      <td>1</td>\n",
       "      <td>0</td>\n",
       "    </tr>\n",
       "    <tr>\n",
       "      <th>1</th>\n",
       "      <td>0</td>\n",
       "      <td>46.000</td>\n",
       "      <td>38000.000</td>\n",
       "      <td>1</td>\n",
       "      <td>1</td>\n",
       "    </tr>\n",
       "    <tr>\n",
       "      <th>2</th>\n",
       "      <td>0</td>\n",
       "      <td>29.000</td>\n",
       "      <td>21000.000</td>\n",
       "      <td>0</td>\n",
       "      <td>0</td>\n",
       "    </tr>\n",
       "    <tr>\n",
       "      <th>3</th>\n",
       "      <td>0</td>\n",
       "      <td>21.000</td>\n",
       "      <td>41700.000</td>\n",
       "      <td>2</td>\n",
       "      <td>0</td>\n",
       "    </tr>\n",
       "    <tr>\n",
       "      <th>4</th>\n",
       "      <td>1</td>\n",
       "      <td>28.000</td>\n",
       "      <td>26100.000</td>\n",
       "      <td>0</td>\n",
       "      <td>0</td>\n",
       "    </tr>\n",
       "  </tbody>\n",
       "</table>\n",
       "</div>"
      ],
      "text/plain": [
       "   Пол  Возраст  Зарплата  Члены семьи  Страховые выплаты\n",
       "0    1   41.000 49600.000            1                  0\n",
       "1    0   46.000 38000.000            1                  1\n",
       "2    0   29.000 21000.000            0                  0\n",
       "3    0   21.000 41700.000            2                  0\n",
       "4    1   28.000 26100.000            0                  0"
      ]
     },
     "execution_count": 3,
     "metadata": {},
     "output_type": "execute_result"
    }
   ],
   "source": [
    "df.head(5)"
   ]
  },
  {
   "cell_type": "code",
   "execution_count": 4,
   "metadata": {
    "tags": []
   },
   "outputs": [
    {
     "name": "stdout",
     "output_type": "stream",
     "text": [
      "<class 'pandas.core.frame.DataFrame'>\n",
      "RangeIndex: 5000 entries, 0 to 4999\n",
      "Data columns (total 5 columns):\n",
      " #   Column             Non-Null Count  Dtype  \n",
      "---  ------             --------------  -----  \n",
      " 0   Пол                5000 non-null   int64  \n",
      " 1   Возраст            5000 non-null   float64\n",
      " 2   Зарплата           5000 non-null   float64\n",
      " 3   Члены семьи        5000 non-null   int64  \n",
      " 4   Страховые выплаты  5000 non-null   int64  \n",
      "dtypes: float64(2), int64(3)\n",
      "memory usage: 195.4 KB\n"
     ]
    }
   ],
   "source": [
    "df.info()"
   ]
  },
  {
   "cell_type": "markdown",
   "metadata": {},
   "source": [
    "* Пропусков в данных нет \n",
    "* Можно изменить тип данных в колонке **Возраст**\n",
    "* Можно привести названия колонок к стилю *snake_case*"
   ]
  },
  {
   "cell_type": "markdown",
   "metadata": {},
   "source": [
    "Посмотрим как распределенны наши данные"
   ]
  },
  {
   "cell_type": "code",
   "execution_count": 5,
   "metadata": {
    "tags": []
   },
   "outputs": [
    {
     "data": {
      "text/html": [
       "<div>\n",
       "<style scoped>\n",
       "    .dataframe tbody tr th:only-of-type {\n",
       "        vertical-align: middle;\n",
       "    }\n",
       "\n",
       "    .dataframe tbody tr th {\n",
       "        vertical-align: top;\n",
       "    }\n",
       "\n",
       "    .dataframe thead th {\n",
       "        text-align: right;\n",
       "    }\n",
       "</style>\n",
       "<table border=\"1\" class=\"dataframe\">\n",
       "  <thead>\n",
       "    <tr style=\"text-align: right;\">\n",
       "      <th></th>\n",
       "      <th>Пол</th>\n",
       "      <th>Возраст</th>\n",
       "      <th>Зарплата</th>\n",
       "      <th>Члены семьи</th>\n",
       "      <th>Страховые выплаты</th>\n",
       "    </tr>\n",
       "  </thead>\n",
       "  <tbody>\n",
       "    <tr>\n",
       "      <th>count</th>\n",
       "      <td>5000.000</td>\n",
       "      <td>5000.000</td>\n",
       "      <td>5000.000</td>\n",
       "      <td>5000.000</td>\n",
       "      <td>5000.000</td>\n",
       "    </tr>\n",
       "    <tr>\n",
       "      <th>mean</th>\n",
       "      <td>0.499</td>\n",
       "      <td>30.953</td>\n",
       "      <td>39916.360</td>\n",
       "      <td>1.194</td>\n",
       "      <td>0.148</td>\n",
       "    </tr>\n",
       "    <tr>\n",
       "      <th>std</th>\n",
       "      <td>0.500</td>\n",
       "      <td>8.441</td>\n",
       "      <td>9900.084</td>\n",
       "      <td>1.091</td>\n",
       "      <td>0.463</td>\n",
       "    </tr>\n",
       "    <tr>\n",
       "      <th>min</th>\n",
       "      <td>0.000</td>\n",
       "      <td>18.000</td>\n",
       "      <td>5300.000</td>\n",
       "      <td>0.000</td>\n",
       "      <td>0.000</td>\n",
       "    </tr>\n",
       "    <tr>\n",
       "      <th>25%</th>\n",
       "      <td>0.000</td>\n",
       "      <td>24.000</td>\n",
       "      <td>33300.000</td>\n",
       "      <td>0.000</td>\n",
       "      <td>0.000</td>\n",
       "    </tr>\n",
       "    <tr>\n",
       "      <th>50%</th>\n",
       "      <td>0.000</td>\n",
       "      <td>30.000</td>\n",
       "      <td>40200.000</td>\n",
       "      <td>1.000</td>\n",
       "      <td>0.000</td>\n",
       "    </tr>\n",
       "    <tr>\n",
       "      <th>75%</th>\n",
       "      <td>1.000</td>\n",
       "      <td>37.000</td>\n",
       "      <td>46600.000</td>\n",
       "      <td>2.000</td>\n",
       "      <td>0.000</td>\n",
       "    </tr>\n",
       "    <tr>\n",
       "      <th>max</th>\n",
       "      <td>1.000</td>\n",
       "      <td>65.000</td>\n",
       "      <td>79000.000</td>\n",
       "      <td>6.000</td>\n",
       "      <td>5.000</td>\n",
       "    </tr>\n",
       "  </tbody>\n",
       "</table>\n",
       "</div>"
      ],
      "text/plain": [
       "           Пол  Возраст  Зарплата  Члены семьи  Страховые выплаты\n",
       "count 5000.000 5000.000  5000.000     5000.000           5000.000\n",
       "mean     0.499   30.953 39916.360        1.194              0.148\n",
       "std      0.500    8.441  9900.084        1.091              0.463\n",
       "min      0.000   18.000  5300.000        0.000              0.000\n",
       "25%      0.000   24.000 33300.000        0.000              0.000\n",
       "50%      0.000   30.000 40200.000        1.000              0.000\n",
       "75%      1.000   37.000 46600.000        2.000              0.000\n",
       "max      1.000   65.000 79000.000        6.000              5.000"
      ]
     },
     "execution_count": 5,
     "metadata": {},
     "output_type": "execute_result"
    }
   ],
   "source": [
    "df.describe()"
   ]
  },
  {
   "cell_type": "markdown",
   "metadata": {},
   "source": [
    "Построим гистограммы и посмотим на распределенние данных"
   ]
  },
  {
   "cell_type": "code",
   "execution_count": 6,
   "metadata": {
    "tags": []
   },
   "outputs": [
    {
     "data": {
      "image/png": "[encoded data removed]",
      "text/plain": [
       "<Figure size 1600x1400 with 6 Axes>"
      ]
     },
     "metadata": {},
     "output_type": "display_data"
    }
   ],
   "source": [
    "df.hist(bins=40, figsize=(16,14));"
   ]
  },
  {
   "cell_type": "markdown",
   "metadata": {},
   "source": [
    "Проверим данные на мультиколлинеарность"
   ]
  },
  {
   "cell_type": "code",
   "execution_count": 7,
   "metadata": {},
   "outputs": [
    {
     "data": {
      "image/png": "[encoded data removed]",
      "text/plain": [
       "<Figure size 640x480 with 2 Axes>"
      ]
     },
     "metadata": {},
     "output_type": "display_data"
    }
   ],
   "source": [
    "sns.heatmap(df.corr(),annot=True);"
   ]
  },
  {
   "cell_type": "markdown",
   "metadata": {},
   "source": [
    "### Выводы по знакомству с данными\n",
    "* Мы загрузили нужные нам для выполнения работы библиотеки и данные, которые храняться в датафрейме **df**\n",
    "* Пропусков в данных не было обнаруженно\n",
    "* Можно изменить тип данных в колонке **Возраст**\n",
    "* Можно привести названия колонок к стилю *snake_case*\n",
    "* Мульиколлинеарности нет"
   ]
  },
  {
   "cell_type": "markdown",
   "metadata": {},
   "source": [
    "## Предобработка данных"
   ]
  },
  {
   "cell_type": "markdown",
   "metadata": {},
   "source": [
    "### Переименуем столбцы "
   ]
  },
  {
   "cell_type": "markdown",
   "metadata": {},
   "source": [
    "Приведем столбцы к стилю snake_case"
   ]
  },
  {
   "cell_type": "code",
   "execution_count": 8,
   "metadata": {
    "tags": []
   },
   "outputs": [],
   "source": [
    "df.columns = ['пол', 'возраст', 'зарплата', 'члены_семьи', 'страховые_выплаты']"
   ]
  },
  {
   "cell_type": "markdown",
   "metadata": {},
   "source": [
    "### Дубликаты"
   ]
  },
  {
   "cell_type": "markdown",
   "metadata": {},
   "source": [
    "Проверим наш датафрейм на дубликаты"
   ]
  },
  {
   "cell_type": "code",
   "execution_count": 9,
   "metadata": {
    "tags": []
   },
   "outputs": [
    {
     "data": {
      "text/plain": [
       "153"
      ]
     },
     "execution_count": 9,
     "metadata": {},
     "output_type": "execute_result"
    }
   ],
   "source": [
    "df.duplicated().sum()"
   ]
  },
  {
   "cell_type": "markdown",
   "metadata": {},
   "source": [
    "В наших данных присутствуют 153 явных дубликата избавимся от них"
   ]
  },
  {
   "cell_type": "code",
   "execution_count": 10,
   "metadata": {
    "tags": []
   },
   "outputs": [],
   "source": [
    "df = df.drop_duplicates().reset_index(drop=True)"
   ]
  },
  {
   "cell_type": "markdown",
   "metadata": {},
   "source": [
    "Мы избавились от явных дубликатов"
   ]
  },
  {
   "cell_type": "markdown",
   "metadata": {},
   "source": [
    "### Изменим типы данных"
   ]
  },
  {
   "cell_type": "markdown",
   "metadata": {},
   "source": [
    "Посмотрим на типы данных в нашем датафрейме"
   ]
  },
  {
   "cell_type": "code",
   "execution_count": 11,
   "metadata": {
    "tags": []
   },
   "outputs": [
    {
     "data": {
      "text/plain": [
       "пол                    int64\n",
       "возраст              float64\n",
       "зарплата             float64\n",
       "члены_семьи            int64\n",
       "страховые_выплаты      int64\n",
       "dtype: object"
      ]
     },
     "execution_count": 11,
     "metadata": {},
     "output_type": "execute_result"
    }
   ],
   "source": [
    "df.dtypes"
   ]
  },
  {
   "cell_type": "code",
   "execution_count": 12,
   "metadata": {
    "tags": []
   },
   "outputs": [
    {
     "data": {
      "text/html": [
       "<div>\n",
       "<style scoped>\n",
       "    .dataframe tbody tr th:only-of-type {\n",
       "        vertical-align: middle;\n",
       "    }\n",
       "\n",
       "    .dataframe tbody tr th {\n",
       "        vertical-align: top;\n",
       "    }\n",
       "\n",
       "    .dataframe thead th {\n",
       "        text-align: right;\n",
       "    }\n",
       "</style>\n",
       "<table border=\"1\" class=\"dataframe\">\n",
       "  <thead>\n",
       "    <tr style=\"text-align: right;\">\n",
       "      <th></th>\n",
       "      <th>пол</th>\n",
       "      <th>возраст</th>\n",
       "      <th>зарплата</th>\n",
       "      <th>члены_семьи</th>\n",
       "      <th>страховые_выплаты</th>\n",
       "    </tr>\n",
       "  </thead>\n",
       "  <tbody>\n",
       "    <tr>\n",
       "      <th>count</th>\n",
       "      <td>4847.000</td>\n",
       "      <td>4847.000</td>\n",
       "      <td>4847.000</td>\n",
       "      <td>4847.000</td>\n",
       "      <td>4847.000</td>\n",
       "    </tr>\n",
       "    <tr>\n",
       "      <th>mean</th>\n",
       "      <td>0.498</td>\n",
       "      <td>31.024</td>\n",
       "      <td>39895.812</td>\n",
       "      <td>1.203</td>\n",
       "      <td>0.152</td>\n",
       "    </tr>\n",
       "    <tr>\n",
       "      <th>std</th>\n",
       "      <td>0.500</td>\n",
       "      <td>8.488</td>\n",
       "      <td>9972.954</td>\n",
       "      <td>1.099</td>\n",
       "      <td>0.469</td>\n",
       "    </tr>\n",
       "    <tr>\n",
       "      <th>min</th>\n",
       "      <td>0.000</td>\n",
       "      <td>18.000</td>\n",
       "      <td>5300.000</td>\n",
       "      <td>0.000</td>\n",
       "      <td>0.000</td>\n",
       "    </tr>\n",
       "    <tr>\n",
       "      <th>25%</th>\n",
       "      <td>0.000</td>\n",
       "      <td>24.000</td>\n",
       "      <td>33200.000</td>\n",
       "      <td>0.000</td>\n",
       "      <td>0.000</td>\n",
       "    </tr>\n",
       "    <tr>\n",
       "      <th>50%</th>\n",
       "      <td>0.000</td>\n",
       "      <td>30.000</td>\n",
       "      <td>40200.000</td>\n",
       "      <td>1.000</td>\n",
       "      <td>0.000</td>\n",
       "    </tr>\n",
       "    <tr>\n",
       "      <th>75%</th>\n",
       "      <td>1.000</td>\n",
       "      <td>37.000</td>\n",
       "      <td>46600.000</td>\n",
       "      <td>2.000</td>\n",
       "      <td>0.000</td>\n",
       "    </tr>\n",
       "    <tr>\n",
       "      <th>max</th>\n",
       "      <td>1.000</td>\n",
       "      <td>65.000</td>\n",
       "      <td>79000.000</td>\n",
       "      <td>6.000</td>\n",
       "      <td>5.000</td>\n",
       "    </tr>\n",
       "  </tbody>\n",
       "</table>\n",
       "</div>"
      ],
      "text/plain": [
       "           пол  возраст  зарплата  члены_семьи  страховые_выплаты\n",
       "count 4847.000 4847.000  4847.000     4847.000           4847.000\n",
       "mean     0.498   31.024 39895.812        1.203              0.152\n",
       "std      0.500    8.488  9972.954        1.099              0.469\n",
       "min      0.000   18.000  5300.000        0.000              0.000\n",
       "25%      0.000   24.000 33200.000        0.000              0.000\n",
       "50%      0.000   30.000 40200.000        1.000              0.000\n",
       "75%      1.000   37.000 46600.000        2.000              0.000\n",
       "max      1.000   65.000 79000.000        6.000              5.000"
      ]
     },
     "execution_count": 12,
     "metadata": {},
     "output_type": "execute_result"
    }
   ],
   "source": [
    "df.describe()"
   ]
  },
  {
   "cell_type": "markdown",
   "metadata": {},
   "source": [
    "пол: int64 -> unit8 \\\n",
    "возраст: float64 -> unit8 \\\n",
    "члены_семьи: int64 -> unit8 \\\n",
    "страховые_выплаты: int64 -> unit8 \\\n",
    "Посмотрим сколько весил наш датафрейм"
   ]
  },
  {
   "cell_type": "code",
   "execution_count": 13,
   "metadata": {
    "tags": []
   },
   "outputs": [
    {
     "name": "stdout",
     "output_type": "stream",
     "text": [
      "<class 'pandas.core.frame.DataFrame'>\n",
      "RangeIndex: 4847 entries, 0 to 4846\n",
      "Data columns (total 5 columns):\n",
      " #   Column             Non-Null Count  Dtype  \n",
      "---  ------             --------------  -----  \n",
      " 0   пол                4847 non-null   int64  \n",
      " 1   возраст            4847 non-null   float64\n",
      " 2   зарплата           4847 non-null   float64\n",
      " 3   члены_семьи        4847 non-null   int64  \n",
      " 4   страховые_выплаты  4847 non-null   int64  \n",
      "dtypes: float64(2), int64(3)\n",
      "memory usage: 189.5 KB\n"
     ]
    }
   ],
   "source": [
    "df.info()"
   ]
  },
  {
   "cell_type": "code",
   "execution_count": 14,
   "metadata": {},
   "outputs": [],
   "source": [
    "df['пол'] = df['пол'].astype('uint8')\n",
    "df['возраст'] = df['возраст'].astype('uint8')\n",
    "df['члены_семьи'] = df['члены_семьи'].astype('uint8')\n",
    "df['страховые_выплаты'] = df['страховые_выплаты'].astype('uint8')"
   ]
  },
  {
   "cell_type": "code",
   "execution_count": 15,
   "metadata": {
    "tags": []
   },
   "outputs": [
    {
     "data": {
      "text/plain": [
       "пол                    uint8\n",
       "возраст                uint8\n",
       "зарплата             float64\n",
       "члены_семьи            uint8\n",
       "страховые_выплаты      uint8\n",
       "dtype: object"
      ]
     },
     "execution_count": 15,
     "metadata": {},
     "output_type": "execute_result"
    }
   ],
   "source": [
    "df.dtypes"
   ]
  },
  {
   "cell_type": "code",
   "execution_count": 16,
   "metadata": {
    "tags": []
   },
   "outputs": [
    {
     "name": "stdout",
     "output_type": "stream",
     "text": [
      "<class 'pandas.core.frame.DataFrame'>\n",
      "RangeIndex: 4847 entries, 0 to 4846\n",
      "Data columns (total 5 columns):\n",
      " #   Column             Non-Null Count  Dtype  \n",
      "---  ------             --------------  -----  \n",
      " 0   пол                4847 non-null   uint8  \n",
      " 1   возраст            4847 non-null   uint8  \n",
      " 2   зарплата           4847 non-null   float64\n",
      " 3   члены_семьи        4847 non-null   uint8  \n",
      " 4   страховые_выплаты  4847 non-null   uint8  \n",
      "dtypes: float64(1), uint8(4)\n",
      "memory usage: 56.9 KB\n"
     ]
    }
   ],
   "source": [
    "df.info()"
   ]
  },
  {
   "cell_type": "markdown",
   "metadata": {},
   "source": [
    "Мы изменили типы данных, что увеличить нашу вычислительную производительность"
   ]
  },
  {
   "cell_type": "markdown",
   "metadata": {},
   "source": [
    "### Вывод по предобработке\n",
    "* Мы переменавали столбцы нашего датафрейма\n",
    "* Удалили дубликаты \n",
    "* Изменили типы данных у колонок:\n",
    "    * пол: int64 -> unit8 \\\n",
    "    * возраст: float64 -> unit8 \\\n",
    "    * члены_семьи: int64 -> unit8 \\\n",
    "    * страховые_выплаты: int64 -> unit8 \\"
   ]
  },
  {
   "cell_type": "markdown",
   "metadata": {},
   "source": [
    "## Умножение матриц"
   ]
  },
  {
   "cell_type": "markdown",
   "metadata": {},
   "source": [
    "В этом задании вы можете записывать формулы в *Jupyter Notebook.*\n",
    "\n",
    "Чтобы записать формулу внутри текста, окружите её символами доллара \\\\$; если снаружи —  двойными символами \\\\$\\\\$. Эти формулы записываются на языке вёрстки *LaTeX.* \n",
    "\n",
    "Для примера мы записали формулы линейной регрессии. Можете их скопировать и отредактировать, чтобы решить задачу.\n",
    "\n",
    "Работать в *LaTeX* необязательно."
   ]
  },
  {
   "cell_type": "markdown",
   "metadata": {},
   "source": [
    "Обозначения:\n",
    "\n",
    "- $X$ — матрица признаков (нулевой столбец состоит из единиц)\n",
    "\n",
    "- $y$ — вектор целевого признака\n",
    "\n",
    "- $P$ — матрица, на которую умножаются признаки\n",
    "\n",
    "- $w$ — вектор весов линейной регрессии (нулевой элемент равен сдвигу)"
   ]
  },
  {
   "cell_type": "markdown",
   "metadata": {},
   "source": [
    "Предсказания:\n",
    "\n",
    "$$\n",
    "a = Xw\n",
    "$$\n",
    "\n",
    "Задача обучения:\n",
    "\n",
    "$$\n",
    "w = \\arg\\min_w MSE(Xw, y)\n",
    "$$\n",
    "\n",
    "Формула обучения:\n",
    "\n",
    "$$\n",
    "w = (X^T X)^{-1} X^T y\n",
    "$$"
   ]
  },
  {
   "cell_type": "markdown",
   "metadata": {},
   "source": [
    "**Ответ:**  Если признаки умножают на обратимую матрицу качество линейной регрессии не измениться\n",
    "\n",
    "**Обоснование:** "
   ]
  },
  {
   "cell_type": "markdown",
   "metadata": {},
   "source": [
    "Заменим матрицу признаков $X$ в формуле обучения ($w_n = (X^T X)^{-1} X^T y$) на матрицу признаков $X$ умноженную на обратимую матрицу $P$\n",
    "\n",
    "\n",
    "$$w_n = ((XP)^T XP)^{-1} (XP)^T y$$ "
   ]
  },
  {
   "cell_type": "markdown",
   "metadata": {},
   "source": [
    "Раскроем скобки с помощью свойства матриц $(AB)^T = B^T A^T$\n",
    "\n",
    "$$w_n = ( P^T X^T XP)^{-1}P^T X^T y$$\n"
   ]
  },
  {
   "cell_type": "markdown",
   "metadata": {},
   "source": [
    "Раскроем скобки с помощью свойства матриц $(AB)^{-1} = B^{-1}A^{-1}$, $(ABC)^T=((AB)C)^T=C^T(AB)^T=C^TB^TA^T$\n",
    "\n",
    "$$w_n = P^{-1} (X^T X)^{-1}  (P^T)^{-1}  P^T X^T y$$"
   ]
  },
  {
   "cell_type": "markdown",
   "metadata": {},
   "source": [
    "Так как $P$ это обратимая матрица можем воспользоваться свойством $AA^{-1} = E$, по этому сократим $(P^T)^{-1} P^T$ и получим единичную матрицу и сразу отбросим ее по свойству $AE=EA=A$ \n",
    "\n",
    "$$w_n = P^{-1} (X^T X)^{-1} X^T y$$"
   ]
  },
  {
   "cell_type": "markdown",
   "metadata": {
    "tags": []
   },
   "source": [
    "Заменим $(X^T X)^{-1} X^T y$ в нашей формуле на $w$, так как  $w = (X^T X)^{-1} X^T y$\n",
    "\n",
    "$$w_n = P^{-1}w $$"
   ]
  },
  {
   "cell_type": "markdown",
   "metadata": {},
   "source": [
    "Напишем формулу предсказания $a_n$ по формуле $a = Xw$ не забудем что в данной формуле $X$ = $XP$, а $w$  = $w_n$\n",
    "\n",
    "$$a_n = XPw_n$$"
   ]
  },
  {
   "cell_type": "markdown",
   "metadata": {},
   "source": [
    "Заменим $w_n$ на $P^{-1}w $, так как $w_n = P^{-1}w $ \n",
    "$$a_n = X P P^{-1}w$$"
   ]
  },
  {
   "cell_type": "markdown",
   "metadata": {},
   "source": [
    "Заменим $PP^{-1}$ на $E$, по свойствам матриц $AA^{-1} = E$, отбросим еденичную матрицу $AE=EA=A$.\n",
    "\n",
    "$$a_n = Xw$$"
   ]
  },
  {
   "cell_type": "markdown",
   "metadata": {},
   "source": [
    "Мы получили $a_n = Xw$, так же мы имеем $a = Xw$ из условия,  мы можем заметить что формулы $a_n$, $a$  одинаковы, а значит качество линейной регрессии не измениться"
   ]
  },
  {
   "cell_type": "markdown",
   "metadata": {},
   "source": [
    "## Алгоритм преобразования"
   ]
  },
  {
   "cell_type": "markdown",
   "metadata": {},
   "source": [
    "**Алгоритм**"
   ]
  },
  {
   "cell_type": "markdown",
   "metadata": {},
   "source": [
    "Создадим матрицу и проверим её на обратимость"
   ]
  },
  {
   "cell_type": "code",
   "execution_count": 17,
   "metadata": {
    "tags": []
   },
   "outputs": [
    {
     "data": {
      "text/plain": [
       "array([[-0.8127522 ,  1.75173985, -0.7572332 , -0.95116785],\n",
       "       [ 2.21319202,  0.10848104,  1.6772702 , -0.49003479],\n",
       "       [ 0.07238181,  2.15858278, -0.01621394,  0.23789759],\n",
       "       [-1.20435851,  1.20089467, -0.8079123 , -0.14590461]])"
      ]
     },
     "execution_count": 17,
     "metadata": {},
     "output_type": "execute_result"
    }
   ],
   "source": [
    "P = np.random.normal(size=(4, 4))\n",
    "P"
   ]
  },
  {
   "cell_type": "code",
   "execution_count": 18,
   "metadata": {
    "tags": []
   },
   "outputs": [
    {
     "data": {
      "text/plain": [
       "array([[ 1.61944020e+00, -1.31923489e+00,  1.13286183e+00,\n",
       "        -4.27939445e+00],\n",
       "       [-5.17706228e-03,  1.08064034e-01,  3.38303098e-01,\n",
       "         2.22409786e-01],\n",
       "       [-2.31283460e+00,  2.20467152e+00, -1.31227395e+00,\n",
       "         5.53335073e+00],\n",
       "       [-6.03381729e-01, -4.28882601e-01,  6.99750817e-01,\n",
       "        -3.38894512e-01]])"
      ]
     },
     "execution_count": 18,
     "metadata": {},
     "output_type": "execute_result"
    }
   ],
   "source": [
    "np.linalg.inv(P)"
   ]
  },
  {
   "cell_type": "markdown",
   "metadata": {},
   "source": [
    "Матрица обратимая"
   ]
  },
  {
   "cell_type": "markdown",
   "metadata": {},
   "source": [
    "Создадим матрицу признаков $X$ и $y$ вектор целевого признака"
   ]
  },
  {
   "cell_type": "code",
   "execution_count": 19,
   "metadata": {
    "tags": []
   },
   "outputs": [
    {
     "data": {
      "text/plain": [
       "array([[1.00e+00, 4.10e+01, 4.96e+04, 1.00e+00],\n",
       "       [0.00e+00, 4.60e+01, 3.80e+04, 1.00e+00],\n",
       "       [0.00e+00, 2.90e+01, 2.10e+04, 0.00e+00],\n",
       "       ...,\n",
       "       [0.00e+00, 2.00e+01, 3.39e+04, 2.00e+00],\n",
       "       [1.00e+00, 2.20e+01, 3.27e+04, 3.00e+00],\n",
       "       [1.00e+00, 2.80e+01, 4.06e+04, 1.00e+00]])"
      ]
     },
     "execution_count": 19,
     "metadata": {},
     "output_type": "execute_result"
    }
   ],
   "source": [
    "X = df.drop('страховые_выплаты', axis=1).values\n",
    "X"
   ]
  },
  {
   "cell_type": "code",
   "execution_count": 20,
   "metadata": {
    "tags": []
   },
   "outputs": [
    {
     "data": {
      "text/plain": [
       "0       0\n",
       "1       1\n",
       "2       0\n",
       "3       0\n",
       "4       0\n",
       "       ..\n",
       "4842    0\n",
       "4843    0\n",
       "4844    0\n",
       "4845    0\n",
       "4846    0\n",
       "Name: страховые_выплаты, Length: 4847, dtype: uint8"
      ]
     },
     "execution_count": 20,
     "metadata": {},
     "output_type": "execute_result"
    }
   ],
   "source": [
    "y = df['страховые_выплаты']\n",
    "y"
   ]
  },
  {
   "cell_type": "markdown",
   "metadata": {},
   "source": [
    "Напишем формулу умнажения матрицы признаков на обратимую матрицу $XP$"
   ]
  },
  {
   "cell_type": "code",
   "execution_count": 21,
   "metadata": {
    "tags": []
   },
   "outputs": [
    {
     "data": {
      "text/plain": [
       "array([[  3678.86176298, 107073.10618478,   -737.00842335,\n",
       "         11778.53210043],\n",
       "       [  2851.11142674,  82032.3366162 ,   -539.78315098,\n",
       "          9017.42101874],\n",
       "       [  1584.20067383,  45333.38430455,   -291.85187538,\n",
       "          4981.6384384 ],\n",
       "       ...,\n",
       "       [  2495.59863604,  73180.52761091,   -517.72294019,\n",
       "          8054.63588842],\n",
       "       [  2411.14973194,  70593.39787296,   -496.47681893,\n",
       "          7767.08163512],\n",
       "       [  2998.6539359 ,  87644.45092224,   -612.8874883 ,\n",
       "          9643.82421814]])"
      ]
     },
     "execution_count": 21,
     "metadata": {},
     "output_type": "execute_result"
    }
   ],
   "source": [
    "XP = X@P\n",
    "XP"
   ]
  },
  {
   "cell_type": "markdown",
   "metadata": {},
   "source": [
    "Напишем формулу $w$"
   ]
  },
  {
   "cell_type": "code",
   "execution_count": 22,
   "metadata": {
    "tags": []
   },
   "outputs": [
    {
     "data": {
      "text/plain": [
       "array([-4.39473393e-02,  2.35998538e-02, -1.18490564e-05, -4.71380350e-02])"
      ]
     },
     "execution_count": 22,
     "metadata": {},
     "output_type": "execute_result"
    }
   ],
   "source": [
    "w = np.linalg.inv(X.T.dot(X)).dot(X.T).dot(y)\n",
    "w"
   ]
  },
  {
   "cell_type": "markdown",
   "metadata": {},
   "source": [
    "Напишем формулу $a$"
   ]
  },
  {
   "cell_type": "code",
   "execution_count": 23,
   "metadata": {
    "tags": []
   },
   "outputs": [
    {
     "data": {
      "text/plain": [
       "array([ 0.28879544,  0.5881911 ,  0.43556558, ..., -0.023962  ,\n",
       "       -0.0536288 ,  0.08863884])"
      ]
     },
     "execution_count": 23,
     "metadata": {},
     "output_type": "execute_result"
    }
   ],
   "source": [
    "a = X@w\n",
    "a"
   ]
  },
  {
   "cell_type": "markdown",
   "metadata": {},
   "source": [
    "Напишем формулу для $w_n$"
   ]
  },
  {
   "cell_type": "code",
   "execution_count": 24,
   "metadata": {
    "tags": []
   },
   "outputs": [
    {
     "data": {
      "text/plain": [
       "array([ 0.09940499, -0.00771016, -0.10714289,  0.03236198])"
      ]
     },
     "execution_count": 24,
     "metadata": {},
     "output_type": "execute_result"
    }
   ],
   "source": [
    "w_n = np.linalg.inv(XP.T.dot(XP)).dot(XP.T).dot(y)\n",
    "w_n"
   ]
  },
  {
   "cell_type": "markdown",
   "metadata": {},
   "source": [
    "Напишем формулу для $a_n$"
   ]
  },
  {
   "cell_type": "code",
   "execution_count": 25,
   "metadata": {
    "tags": []
   },
   "outputs": [
    {
     "data": {
      "text/plain": [
       "array([ 0.28879544,  0.5881911 ,  0.43556558, ..., -0.02396201,\n",
       "       -0.05362881,  0.08863884])"
      ]
     },
     "execution_count": 25,
     "metadata": {},
     "output_type": "execute_result"
    }
   ],
   "source": [
    "a_n = XP@w_n\n",
    "a_n"
   ]
  },
  {
   "cell_type": "markdown",
   "metadata": {},
   "source": [
    "Посмотрим на разницу между $a$ и $a_n$"
   ]
  },
  {
   "cell_type": "code",
   "execution_count": 26,
   "metadata": {
    "tags": []
   },
   "outputs": [
    {
     "name": "stdout",
     "output_type": "stream",
     "text": [
      "Разница между предсказаниями: 1.999999999999615e-05\n"
     ]
    }
   ],
   "source": [
    "print('Разница между предсказаниями:', (np.round(a,5) - np.round(a_n,5)).sum())"
   ]
  },
  {
   "cell_type": "markdown",
   "metadata": {},
   "source": [
    "**Обоснование**\n",
    "Разность между $a_n$ и $a$ слишком мала, что может нам говорить что $a_n$ и $a$ почти одинаковы"
   ]
  },
  {
   "cell_type": "markdown",
   "metadata": {},
   "source": [
    "## Проверка алгоритма"
   ]
  },
  {
   "cell_type": "markdown",
   "metadata": {},
   "source": [
    "Напишем модель для $X$ и $XP$ и сравним их по метрике r2_score"
   ]
  },
  {
   "cell_type": "markdown",
   "metadata": {},
   "source": [
    "### Модель на матрице признаков X"
   ]
  },
  {
   "cell_type": "code",
   "execution_count": 27,
   "metadata": {},
   "outputs": [],
   "source": [
    "model_X = LinearRegression()"
   ]
  },
  {
   "cell_type": "markdown",
   "metadata": {},
   "source": [
    "Обучим модель на $X$"
   ]
  },
  {
   "cell_type": "code",
   "execution_count": 28,
   "metadata": {
    "tags": []
   },
   "outputs": [
    {
     "data": {
      "text/html": [
       "<style>#sk-container-id-1 {color: black;background-color: white;}#sk-container-id-1 pre{padding: 0;}#sk-container-id-1 div.sk-toggleable {background-color: white;}#sk-container-id-1 label.sk-toggleable__label {cursor: pointer;display: block;width: 100%;margin-bottom: 0;padding: 0.3em;box-sizing: border-box;text-align: center;}#sk-container-id-1 label.sk-toggleable__label-arrow:before {content: \"▸\";float: left;margin-right: 0.25em;color: #696969;}#sk-container-id-1 label.sk-toggleable__label-arrow:hover:before {color: black;}#sk-container-id-1 div.sk-estimator:hover label.sk-toggleable__label-arrow:before {color: black;}#sk-container-id-1 div.sk-toggleable__content {max-height: 0;max-width: 0;overflow: hidden;text-align: left;background-color: #f0f8ff;}#sk-container-id-1 div.sk-toggleable__content pre {margin: 0.2em;color: black;border-radius: 0.25em;background-color: #f0f8ff;}#sk-container-id-1 input.sk-toggleable__control:checked~div.sk-toggleable__content {max-height: 200px;max-width: 100%;overflow: auto;}#sk-container-id-1 input.sk-toggleable__control:checked~label.sk-toggleable__label-arrow:before {content: \"▾\";}#sk-container-id-1 div.sk-estimator input.sk-toggleable__control:checked~label.sk-toggleable__label {background-color: #d4ebff;}#sk-container-id-1 div.sk-label input.sk-toggleable__control:checked~label.sk-toggleable__label {background-color: #d4ebff;}#sk-container-id-1 input.sk-hidden--visually {border: 0;clip: rect(1px 1px 1px 1px);clip: rect(1px, 1px, 1px, 1px);height: 1px;margin: -1px;overflow: hidden;padding: 0;position: absolute;width: 1px;}#sk-container-id-1 div.sk-estimator {font-family: monospace;background-color: #f0f8ff;border: 1px dotted black;border-radius: 0.25em;box-sizing: border-box;margin-bottom: 0.5em;}#sk-container-id-1 div.sk-estimator:hover {background-color: #d4ebff;}#sk-container-id-1 div.sk-parallel-item::after {content: \"\";width: 100%;border-bottom: 1px solid gray;flex-grow: 1;}#sk-container-id-1 div.sk-label:hover label.sk-toggleable__label {background-color: #d4ebff;}#sk-container-id-1 div.sk-serial::before {content: \"\";position: absolute;border-left: 1px solid gray;box-sizing: border-box;top: 0;bottom: 0;left: 50%;z-index: 0;}#sk-container-id-1 div.sk-serial {display: flex;flex-direction: column;align-items: center;background-color: white;padding-right: 0.2em;padding-left: 0.2em;position: relative;}#sk-container-id-1 div.sk-item {position: relative;z-index: 1;}#sk-container-id-1 div.sk-parallel {display: flex;align-items: stretch;justify-content: center;background-color: white;position: relative;}#sk-container-id-1 div.sk-item::before, #sk-container-id-1 div.sk-parallel-item::before {content: \"\";position: absolute;border-left: 1px solid gray;box-sizing: border-box;top: 0;bottom: 0;left: 50%;z-index: -1;}#sk-container-id-1 div.sk-parallel-item {display: flex;flex-direction: column;z-index: 1;position: relative;background-color: white;}#sk-container-id-1 div.sk-parallel-item:first-child::after {align-self: flex-end;width: 50%;}#sk-container-id-1 div.sk-parallel-item:last-child::after {align-self: flex-start;width: 50%;}#sk-container-id-1 div.sk-parallel-item:only-child::after {width: 0;}#sk-container-id-1 div.sk-dashed-wrapped {border: 1px dashed gray;margin: 0 0.4em 0.5em 0.4em;box-sizing: border-box;padding-bottom: 0.4em;background-color: white;}#sk-container-id-1 div.sk-label label {font-family: monospace;font-weight: bold;display: inline-block;line-height: 1.2em;}#sk-container-id-1 div.sk-label-container {text-align: center;}#sk-container-id-1 div.sk-container {/* jupyter's `normalize.less` sets `[hidden] { display: none; }` but bootstrap.min.css set `[hidden] { display: none !important; }` so we also need the `!important` here to be able to override the default hidden behavior on the sphinx rendered scikit-learn.org. See: https://github.com/scikit-learn/scikit-learn/issues/21755 */display: inline-block !important;position: relative;}#sk-container-id-1 div.sk-text-repr-fallback {display: none;}</style><div id=\"sk-container-id-1\" class=\"sk-top-container\"><div class=\"sk-text-repr-fallback\"><pre>LinearRegression()</pre><b>In a Jupyter environment, please rerun this cell to show the HTML representation or trust the notebook. <br />On GitHub, the HTML representation is unable to render, please try loading this page with nbviewer.org.</b></div><div class=\"sk-container\" hidden><div class=\"sk-item\"><div class=\"sk-estimator sk-toggleable\"><input class=\"sk-toggleable__control sk-hidden--visually\" id=\"sk-estimator-id-1\" type=\"checkbox\" checked><label for=\"sk-estimator-id-1\" class=\"sk-toggleable__label sk-toggleable__label-arrow\">LinearRegression</label><div class=\"sk-toggleable__content\"><pre>LinearRegression()</pre></div></div></div></div></div>"
      ],
      "text/plain": [
       "LinearRegression()"
      ]
     },
     "execution_count": 28,
     "metadata": {},
     "output_type": "execute_result"
    }
   ],
   "source": [
    "model_X.fit(X, y)"
   ]
  },
  {
   "cell_type": "markdown",
   "metadata": {},
   "source": [
    "Получим предсказания по модели обученной на признаках $X$"
   ]
  },
  {
   "cell_type": "code",
   "execution_count": 29,
   "metadata": {
    "tags": []
   },
   "outputs": [],
   "source": [
    "predict_X = model_X.predict(X)"
   ]
  },
  {
   "cell_type": "markdown",
   "metadata": {},
   "source": [
    "### Модель на произведении матрицы признакаов X и обратимой матрицы P "
   ]
  },
  {
   "cell_type": "code",
   "execution_count": 30,
   "metadata": {
    "tags": []
   },
   "outputs": [],
   "source": [
    "model_XP = LinearRegression()"
   ]
  },
  {
   "cell_type": "markdown",
   "metadata": {},
   "source": [
    "Обучим модель на $XP$"
   ]
  },
  {
   "cell_type": "code",
   "execution_count": 31,
   "metadata": {
    "tags": []
   },
   "outputs": [
    {
     "data": {
      "text/html": [
       "<style>#sk-container-id-2 {color: black;background-color: white;}#sk-container-id-2 pre{padding: 0;}#sk-container-id-2 div.sk-toggleable {background-color: white;}#sk-container-id-2 label.sk-toggleable__label {cursor: pointer;display: block;width: 100%;margin-bottom: 0;padding: 0.3em;box-sizing: border-box;text-align: center;}#sk-container-id-2 label.sk-toggleable__label-arrow:before {content: \"▸\";float: left;margin-right: 0.25em;color: #696969;}#sk-container-id-2 label.sk-toggleable__label-arrow:hover:before {color: black;}#sk-container-id-2 div.sk-estimator:hover label.sk-toggleable__label-arrow:before {color: black;}#sk-container-id-2 div.sk-toggleable__content {max-height: 0;max-width: 0;overflow: hidden;text-align: left;background-color: #f0f8ff;}#sk-container-id-2 div.sk-toggleable__content pre {margin: 0.2em;color: black;border-radius: 0.25em;background-color: #f0f8ff;}#sk-container-id-2 input.sk-toggleable__control:checked~div.sk-toggleable__content {max-height: 200px;max-width: 100%;overflow: auto;}#sk-container-id-2 input.sk-toggleable__control:checked~label.sk-toggleable__label-arrow:before {content: \"▾\";}#sk-container-id-2 div.sk-estimator input.sk-toggleable__control:checked~label.sk-toggleable__label {background-color: #d4ebff;}#sk-container-id-2 div.sk-label input.sk-toggleable__control:checked~label.sk-toggleable__label {background-color: #d4ebff;}#sk-container-id-2 input.sk-hidden--visually {border: 0;clip: rect(1px 1px 1px 1px);clip: rect(1px, 1px, 1px, 1px);height: 1px;margin: -1px;overflow: hidden;padding: 0;position: absolute;width: 1px;}#sk-container-id-2 div.sk-estimator {font-family: monospace;background-color: #f0f8ff;border: 1px dotted black;border-radius: 0.25em;box-sizing: border-box;margin-bottom: 0.5em;}#sk-container-id-2 div.sk-estimator:hover {background-color: #d4ebff;}#sk-container-id-2 div.sk-parallel-item::after {content: \"\";width: 100%;border-bottom: 1px solid gray;flex-grow: 1;}#sk-container-id-2 div.sk-label:hover label.sk-toggleable__label {background-color: #d4ebff;}#sk-container-id-2 div.sk-serial::before {content: \"\";position: absolute;border-left: 1px solid gray;box-sizing: border-box;top: 0;bottom: 0;left: 50%;z-index: 0;}#sk-container-id-2 div.sk-serial {display: flex;flex-direction: column;align-items: center;background-color: white;padding-right: 0.2em;padding-left: 0.2em;position: relative;}#sk-container-id-2 div.sk-item {position: relative;z-index: 1;}#sk-container-id-2 div.sk-parallel {display: flex;align-items: stretch;justify-content: center;background-color: white;position: relative;}#sk-container-id-2 div.sk-item::before, #sk-container-id-2 div.sk-parallel-item::before {content: \"\";position: absolute;border-left: 1px solid gray;box-sizing: border-box;top: 0;bottom: 0;left: 50%;z-index: -1;}#sk-container-id-2 div.sk-parallel-item {display: flex;flex-direction: column;z-index: 1;position: relative;background-color: white;}#sk-container-id-2 div.sk-parallel-item:first-child::after {align-self: flex-end;width: 50%;}#sk-container-id-2 div.sk-parallel-item:last-child::after {align-self: flex-start;width: 50%;}#sk-container-id-2 div.sk-parallel-item:only-child::after {width: 0;}#sk-container-id-2 div.sk-dashed-wrapped {border: 1px dashed gray;margin: 0 0.4em 0.5em 0.4em;box-sizing: border-box;padding-bottom: 0.4em;background-color: white;}#sk-container-id-2 div.sk-label label {font-family: monospace;font-weight: bold;display: inline-block;line-height: 1.2em;}#sk-container-id-2 div.sk-label-container {text-align: center;}#sk-container-id-2 div.sk-container {/* jupyter's `normalize.less` sets `[hidden] { display: none; }` but bootstrap.min.css set `[hidden] { display: none !important; }` so we also need the `!important` here to be able to override the default hidden behavior on the sphinx rendered scikit-learn.org. See: https://github.com/scikit-learn/scikit-learn/issues/21755 */display: inline-block !important;position: relative;}#sk-container-id-2 div.sk-text-repr-fallback {display: none;}</style><div id=\"sk-container-id-2\" class=\"sk-top-container\"><div class=\"sk-text-repr-fallback\"><pre>LinearRegression()</pre><b>In a Jupyter environment, please rerun this cell to show the HTML representation or trust the notebook. <br />On GitHub, the HTML representation is unable to render, please try loading this page with nbviewer.org.</b></div><div class=\"sk-container\" hidden><div class=\"sk-item\"><div class=\"sk-estimator sk-toggleable\"><input class=\"sk-toggleable__control sk-hidden--visually\" id=\"sk-estimator-id-2\" type=\"checkbox\" checked><label for=\"sk-estimator-id-2\" class=\"sk-toggleable__label sk-toggleable__label-arrow\">LinearRegression</label><div class=\"sk-toggleable__content\"><pre>LinearRegression()</pre></div></div></div></div></div>"
      ],
      "text/plain": [
       "LinearRegression()"
      ]
     },
     "execution_count": 31,
     "metadata": {},
     "output_type": "execute_result"
    }
   ],
   "source": [
    "model_XP.fit(XP, y)"
   ]
  },
  {
   "cell_type": "markdown",
   "metadata": {},
   "source": [
    "Получим предсказания по модели обученной на признаках $XP$"
   ]
  },
  {
   "cell_type": "code",
   "execution_count": 32,
   "metadata": {
    "tags": []
   },
   "outputs": [],
   "source": [
    "predict_XP = model_X.predict(X)"
   ]
  },
  {
   "cell_type": "markdown",
   "metadata": {},
   "source": [
    "### Сравним модели"
   ]
  },
  {
   "cell_type": "code",
   "execution_count": 33,
   "metadata": {
    "tags": []
   },
   "outputs": [
    {
     "name": "stdout",
     "output_type": "stream",
     "text": [
      "r2_score на матрице X 0.32449480492645333\n",
      "r2_score на матрице XP 0.32449480492645333\n"
     ]
    }
   ],
   "source": [
    "print(f'r2_score на матрице X', -r2_score(predict_X, y))\n",
    "print(f'r2_score на матрице XP', -r2_score(predict_XP, y))"
   ]
  },
  {
   "cell_type": "markdown",
   "metadata": {},
   "source": [
    "Как мы можем заметить качество линейной регрессии из sklearn не отличается до и после преобразования на метрике R2."
   ]
  },
  {
   "cell_type": "markdown",
   "metadata": {},
   "source": [
    "## Вывод:\n",
    "* Знакомство с данными\n",
    "    * С данными в основном все было в порядке\n",
    "* Предобработка\n",
    "    * Привели столбцы к формату *snake_case*\n",
    "    * Убрали дубликаты\n",
    "    * Изменили типы данных\n",
    "* Умножение матриц\n",
    "    * Мы выяснили, что если признаки умножают на обратимую матрицу качество линейной регрессии не измениться.\n",
    "* Алгоритм преобразования\n",
    "    * Мы подтвердили, то что качество линейной регрессии не измениться с помощью написания всех функций на языке программирования\n",
    "* Проверка алгоритма\n",
    "    * Мы создали две модели обученные на матрице признаков и матрице признаков умноженной на обратимую матрицу\n",
    "    * Наши модели показали одинаковые результаты на метрике r2_score"
   ]
  }
 ],
 "metadata": {
  "ExecuteTimeLog": [
   {
    "duration": 1546,
    "start_time": "2023-10-08T18:51:04.438Z"
   },
   {
    "duration": 153,
    "start_time": "2023-10-08T18:51:05.987Z"
   },
   {
    "duration": 0,
    "start_time": "2023-10-08T18:51:06.142Z"
   },
   {
    "duration": 0,
    "start_time": "2023-10-08T18:51:06.143Z"
   },
   {
    "duration": 0,
    "start_time": "2023-10-08T18:51:06.144Z"
   },
   {
    "duration": 0,
    "start_time": "2023-10-08T18:51:06.145Z"
   },
   {
    "duration": 0,
    "start_time": "2023-10-08T18:51:06.145Z"
   },
   {
    "duration": 0,
    "start_time": "2023-10-08T18:51:06.147Z"
   },
   {
    "duration": 0,
    "start_time": "2023-10-08T18:51:06.148Z"
   },
   {
    "duration": 0,
    "start_time": "2023-10-08T18:51:06.149Z"
   },
   {
    "duration": 0,
    "start_time": "2023-10-08T18:51:06.150Z"
   },
   {
    "duration": 0,
    "start_time": "2023-10-08T18:51:06.151Z"
   },
   {
    "duration": 0,
    "start_time": "2023-10-08T18:51:06.152Z"
   },
   {
    "duration": 0,
    "start_time": "2023-10-08T18:51:06.153Z"
   },
   {
    "duration": 0,
    "start_time": "2023-10-08T18:51:06.153Z"
   },
   {
    "duration": 0,
    "start_time": "2023-10-08T18:51:06.154Z"
   },
   {
    "duration": 0,
    "start_time": "2023-10-08T18:51:06.155Z"
   },
   {
    "duration": 0,
    "start_time": "2023-10-08T18:51:06.156Z"
   },
   {
    "duration": 0,
    "start_time": "2023-10-08T18:51:06.157Z"
   },
   {
    "duration": 0,
    "start_time": "2023-10-08T18:51:06.158Z"
   },
   {
    "duration": 0,
    "start_time": "2023-10-08T18:51:06.159Z"
   },
   {
    "duration": 0,
    "start_time": "2023-10-08T18:51:06.160Z"
   },
   {
    "duration": 0,
    "start_time": "2023-10-08T18:51:06.161Z"
   },
   {
    "duration": 0,
    "start_time": "2023-10-08T18:51:06.162Z"
   },
   {
    "duration": 0,
    "start_time": "2023-10-08T18:51:06.165Z"
   },
   {
    "duration": 0,
    "start_time": "2023-10-08T18:51:06.166Z"
   },
   {
    "duration": 0,
    "start_time": "2023-10-08T18:51:06.167Z"
   },
   {
    "duration": 0,
    "start_time": "2023-10-08T18:51:06.168Z"
   },
   {
    "duration": 0,
    "start_time": "2023-10-08T18:51:06.169Z"
   },
   {
    "duration": 0,
    "start_time": "2023-10-08T18:51:06.170Z"
   },
   {
    "duration": 0,
    "start_time": "2023-10-08T18:51:06.172Z"
   },
   {
    "duration": 0,
    "start_time": "2023-10-08T18:51:06.173Z"
   },
   {
    "duration": 90,
    "start_time": "2023-10-08T18:53:20.280Z"
   },
   {
    "duration": 4,
    "start_time": "2023-10-08T18:53:25.301Z"
   },
   {
    "duration": 37,
    "start_time": "2023-10-08T18:53:25.306Z"
   },
   {
    "duration": 15,
    "start_time": "2023-10-08T18:53:25.345Z"
   },
   {
    "duration": 12,
    "start_time": "2023-10-08T18:53:25.361Z"
   },
   {
    "duration": 21,
    "start_time": "2023-10-08T18:53:25.376Z"
   },
   {
    "duration": 816,
    "start_time": "2023-10-08T18:53:25.399Z"
   },
   {
    "duration": 4,
    "start_time": "2023-10-08T18:53:26.217Z"
   },
   {
    "duration": 10,
    "start_time": "2023-10-08T18:53:26.223Z"
   },
   {
    "duration": 22,
    "start_time": "2023-10-08T18:53:26.235Z"
   },
   {
    "duration": 21,
    "start_time": "2023-10-08T18:53:26.259Z"
   },
   {
    "duration": 23,
    "start_time": "2023-10-08T18:53:26.282Z"
   },
   {
    "duration": 10,
    "start_time": "2023-10-08T18:53:26.307Z"
   },
   {
    "duration": 15,
    "start_time": "2023-10-08T18:53:26.318Z"
   },
   {
    "duration": 9,
    "start_time": "2023-10-08T18:53:26.336Z"
   },
   {
    "duration": 14,
    "start_time": "2023-10-08T18:53:26.349Z"
   },
   {
    "duration": 5,
    "start_time": "2023-10-08T18:53:26.365Z"
   },
   {
    "duration": 173,
    "start_time": "2023-10-08T18:53:26.372Z"
   },
   {
    "duration": 13,
    "start_time": "2023-10-08T18:53:26.547Z"
   },
   {
    "duration": 96,
    "start_time": "2023-10-08T18:53:26.562Z"
   },
   {
    "duration": 9,
    "start_time": "2023-10-08T18:53:26.659Z"
   },
   {
    "duration": 10,
    "start_time": "2023-10-08T18:53:26.669Z"
   },
   {
    "duration": 74,
    "start_time": "2023-10-08T18:53:26.681Z"
   },
   {
    "duration": 88,
    "start_time": "2023-10-08T18:53:26.757Z"
   },
   {
    "duration": 14,
    "start_time": "2023-10-08T18:53:26.847Z"
   },
   {
    "duration": 82,
    "start_time": "2023-10-08T18:53:26.864Z"
   },
   {
    "duration": 4,
    "start_time": "2023-10-08T18:53:26.948Z"
   },
   {
    "duration": 102,
    "start_time": "2023-10-08T18:53:26.953Z"
   },
   {
    "duration": 5,
    "start_time": "2023-10-08T18:53:27.057Z"
   },
   {
    "duration": 77,
    "start_time": "2023-10-08T18:53:27.073Z"
   },
   {
    "duration": 96,
    "start_time": "2023-10-08T18:53:27.152Z"
   },
   {
    "duration": 7,
    "start_time": "2023-10-08T18:53:27.250Z"
   },
   {
    "duration": 6,
    "start_time": "2023-10-08T18:53:27.260Z"
   },
   {
    "duration": 2810,
    "start_time": "2023-10-09T14:30:34.719Z"
   },
   {
    "duration": 79,
    "start_time": "2023-10-09T14:30:37.533Z"
   },
   {
    "duration": 15,
    "start_time": "2023-10-09T14:30:37.614Z"
   },
   {
    "duration": 33,
    "start_time": "2023-10-09T14:30:37.631Z"
   },
   {
    "duration": 71,
    "start_time": "2023-10-09T14:30:37.667Z"
   },
   {
    "duration": 892,
    "start_time": "2023-10-09T14:30:37.740Z"
   },
   {
    "duration": 4,
    "start_time": "2023-10-09T14:30:38.634Z"
   },
   {
    "duration": 56,
    "start_time": "2023-10-09T14:30:38.639Z"
   },
   {
    "duration": 32,
    "start_time": "2023-10-09T14:30:38.697Z"
   },
   {
    "duration": 23,
    "start_time": "2023-10-09T14:30:38.731Z"
   },
   {
    "duration": 77,
    "start_time": "2023-10-09T14:30:38.756Z"
   },
   {
    "duration": 29,
    "start_time": "2023-10-09T14:30:38.835Z"
   },
   {
    "duration": 29,
    "start_time": "2023-10-09T14:30:38.866Z"
   },
   {
    "duration": 45,
    "start_time": "2023-10-09T14:30:38.899Z"
   },
   {
    "duration": 29,
    "start_time": "2023-10-09T14:30:38.946Z"
   },
   {
    "duration": 172,
    "start_time": "2023-10-09T14:30:38.978Z"
   },
   {
    "duration": 29,
    "start_time": "2023-10-09T14:30:39.152Z"
   },
   {
    "duration": 44,
    "start_time": "2023-10-09T14:30:39.185Z"
   },
   {
    "duration": 96,
    "start_time": "2023-10-09T14:30:39.232Z"
   },
   {
    "duration": 10,
    "start_time": "2023-10-09T14:30:39.330Z"
   },
   {
    "duration": 30,
    "start_time": "2023-10-09T14:30:39.342Z"
   },
   {
    "duration": 70,
    "start_time": "2023-10-09T14:30:39.374Z"
   },
   {
    "duration": 179,
    "start_time": "2023-10-09T14:30:39.447Z"
   },
   {
    "duration": 104,
    "start_time": "2023-10-09T14:30:39.629Z"
   },
   {
    "duration": 89,
    "start_time": "2023-10-09T14:30:39.737Z"
   },
   {
    "duration": 27,
    "start_time": "2023-10-09T14:30:39.828Z"
   },
   {
    "duration": 41,
    "start_time": "2023-10-09T14:30:39.857Z"
   },
   {
    "duration": 88,
    "start_time": "2023-10-09T14:30:39.900Z"
   },
   {
    "duration": 208,
    "start_time": "2023-10-09T14:30:39.990Z"
   },
   {
    "duration": 77,
    "start_time": "2023-10-09T14:30:40.200Z"
   },
   {
    "duration": 272,
    "start_time": "2023-10-09T14:30:40.279Z"
   },
   {
    "duration": 75,
    "start_time": "2023-10-09T14:30:40.554Z"
   }
  ],
  "kernelspec": {
   "display_name": "Python 3 (ipykernel)",
   "language": "python",
   "name": "python3"
  },
  "language_info": {
   "codemirror_mode": {
    "name": "ipython",
    "version": 3
   },
   "file_extension": ".py",
   "mimetype": "text/x-python",
   "name": "python",
   "nbconvert_exporter": "python",
   "pygments_lexer": "ipython3",
   "version": "3.11.5"
  },
  "toc": {
   "base_numbering": 1,
   "nav_menu": {},
   "number_sections": true,
   "sideBar": true,
   "skip_h1_title": true,
   "title_cell": "Содержание",
   "title_sidebar": "Contents",
   "toc_cell": true,
   "toc_position": {},
   "toc_section_display": true,
   "toc_window_display": true
  }
 },
 "nbformat": 4,
 "nbformat_minor": 4
}
