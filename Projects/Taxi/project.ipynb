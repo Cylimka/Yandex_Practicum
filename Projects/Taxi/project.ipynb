{
 "cells": [
  {
   "cell_type": "markdown",
   "id": "c70f2706-7e7d-477c-bb15-3e3d91fe0fe1",
   "metadata": {},
   "source": [
    "#  Прогнозирование заказов такси"
   ]
  },
  {
   "cell_type": "markdown",
   "id": "0e6a03ad-f247-492c-b51c-f0b90ece2aac",
   "metadata": {},
   "source": [
    "Компания «Чётенькое такси» собрала исторические данные о заказах такси в аэропортах. Чтобы привлекать больше водителей в период пиковой нагрузки, нужно спрогнозировать количество заказов такси на следующий час. Постройте модель для такого предсказания.\n",
    "\n",
    "Значение метрики *RMSE* на тестовой выборке должно быть не больше 48.\n",
    "\n",
    "Вам нужно:\n",
    "\n",
    "1. Загрузить данные и выполнить их ресемплирование по одному часу.\n",
    "2. Проанализировать данные.\n",
    "3. Обучить разные модели с различными гиперпараметрами. Сделать тестовую выборку размером 10% от исходных данных.\n",
    "4. Проверить данные на тестовой выборке и сделать выводы.\n",
    "\n",
    "\n",
    "Данные лежат в файле `taxi.csv`. Количество заказов находится в столбце `num_orders` (от англ. *number of orders*, «число заказов»)."
   ]
  },
  {
   "cell_type": "markdown",
   "id": "3d84764f-61f4-48cc-bd43-a61b42ae15e3",
   "metadata": {},
   "source": [
    "## Знакомство с данными"
   ]
  },
  {
   "cell_type": "markdown",
   "id": "4fddfd6a-2ccf-4cad-a4a9-4e39b065287f",
   "metadata": {},
   "source": [
    "Импортируем библиотеки"
   ]
  },
  {
   "cell_type": "code",
   "execution_count": 1,
   "id": "c18288a9-fa60-41fa-9e80-15a60cd49ba9",
   "metadata": {
    "tags": []
   },
   "outputs": [],
   "source": [
    "import pandas as pd\n",
    "\n",
    "import numpy as np\n",
    "\n",
    "import seaborn as sns\n",
    "import matplotlib.pyplot as plt\n",
    "\n",
    "from statsmodels.tsa.seasonal import seasonal_decompose\n",
    "\n",
    "from sklearn.model_selection import train_test_split, GridSearchCV, TimeSeriesSplit\n",
    "from sklearn.preprocessing import OneHotEncoder, StandardScaler\n",
    "from sklearn.linear_model import LinearRegression, Ridge, Lasso\n",
    "from sklearn.metrics import mean_squared_error, make_scorer\n",
    "from sklearn.pipeline import Pipeline\n",
    "from sklearn.compose import make_column_transformer\n",
    "from sklearn.tree import DecisionTreeRegressor\n",
    "from sklearn.ensemble import RandomForestRegressor\n",
    "\n",
    "\n",
    "\n",
    "from catboost import CatBoostRegressor\n",
    "\n",
    "import lightgbm as lgb\n",
    "\n",
    "RANDOM_STATE = 333"
   ]
  },
  {
   "cell_type": "markdown",
   "id": "991b8220-205b-429f-85c6-a29e899954f9",
   "metadata": {},
   "source": [
    "Загрузим данные"
   ]
  },
  {
   "cell_type": "code",
   "execution_count": 2,
   "id": "22594066-59fa-4405-90e9-e220d2bfb337",
   "metadata": {
    "tags": []
   },
   "outputs": [],
   "source": [
    "data = pd.read_csv('taxi.csv')"
   ]
  },
  {
   "cell_type": "markdown",
   "id": "07c03a4e-6816-45c2-b281-57153366ae8b",
   "metadata": {},
   "source": [
    "Выведем первые 5 строк датафрейма"
   ]
  },
  {
   "cell_type": "code",
   "execution_count": 3,
   "id": "79851e27-21de-4e21-9872-e31b0a05803b",
   "metadata": {
    "tags": []
   },
   "outputs": [
    {
     "data": {
      "text/html": [
       "<div>\n",
       "<style scoped>\n",
       "    .dataframe tbody tr th:only-of-type {\n",
       "        vertical-align: middle;\n",
       "    }\n",
       "\n",
       "    .dataframe tbody tr th {\n",
       "        vertical-align: top;\n",
       "    }\n",
       "\n",
       "    .dataframe thead th {\n",
       "        text-align: right;\n",
       "    }\n",
       "</style>\n",
       "<table border=\"1\" class=\"dataframe\">\n",
       "  <thead>\n",
       "    <tr style=\"text-align: right;\">\n",
       "      <th></th>\n",
       "      <th>datetime</th>\n",
       "      <th>num_orders</th>\n",
       "    </tr>\n",
       "  </thead>\n",
       "  <tbody>\n",
       "    <tr>\n",
       "      <th>0</th>\n",
       "      <td>2018-03-01 00:00:00</td>\n",
       "      <td>9</td>\n",
       "    </tr>\n",
       "    <tr>\n",
       "      <th>1</th>\n",
       "      <td>2018-03-01 00:10:00</td>\n",
       "      <td>14</td>\n",
       "    </tr>\n",
       "    <tr>\n",
       "      <th>2</th>\n",
       "      <td>2018-03-01 00:20:00</td>\n",
       "      <td>28</td>\n",
       "    </tr>\n",
       "    <tr>\n",
       "      <th>3</th>\n",
       "      <td>2018-03-01 00:30:00</td>\n",
       "      <td>20</td>\n",
       "    </tr>\n",
       "    <tr>\n",
       "      <th>4</th>\n",
       "      <td>2018-03-01 00:40:00</td>\n",
       "      <td>32</td>\n",
       "    </tr>\n",
       "  </tbody>\n",
       "</table>\n",
       "</div>"
      ],
      "text/plain": [
       "              datetime  num_orders\n",
       "0  2018-03-01 00:00:00           9\n",
       "1  2018-03-01 00:10:00          14\n",
       "2  2018-03-01 00:20:00          28\n",
       "3  2018-03-01 00:30:00          20\n",
       "4  2018-03-01 00:40:00          32"
      ]
     },
     "execution_count": 3,
     "metadata": {},
     "output_type": "execute_result"
    }
   ],
   "source": [
    "data.head(5)"
   ]
  },
  {
   "cell_type": "markdown",
   "id": "44dfe5ea-7152-4e41-8867-fb3d0f5f30d2",
   "metadata": {},
   "source": [
    "Выведем информацию по нашему датафрейму"
   ]
  },
  {
   "cell_type": "code",
   "execution_count": 4,
   "id": "6439eafb-2130-422f-877c-2149b2ef0818",
   "metadata": {
    "tags": []
   },
   "outputs": [
    {
     "name": "stdout",
     "output_type": "stream",
     "text": [
      "<class 'pandas.core.frame.DataFrame'>\n",
      "RangeIndex: 26496 entries, 0 to 26495\n",
      "Data columns (total 2 columns):\n",
      " #   Column      Non-Null Count  Dtype \n",
      "---  ------      --------------  ----- \n",
      " 0   datetime    26496 non-null  object\n",
      " 1   num_orders  26496 non-null  int64 \n",
      "dtypes: int64(1), object(1)\n",
      "memory usage: 414.1+ KB\n"
     ]
    },
    {
     "data": {
      "text/html": [
       "<div>\n",
       "<style scoped>\n",
       "    .dataframe tbody tr th:only-of-type {\n",
       "        vertical-align: middle;\n",
       "    }\n",
       "\n",
       "    .dataframe tbody tr th {\n",
       "        vertical-align: top;\n",
       "    }\n",
       "\n",
       "    .dataframe thead th {\n",
       "        text-align: right;\n",
       "    }\n",
       "</style>\n",
       "<table border=\"1\" class=\"dataframe\">\n",
       "  <thead>\n",
       "    <tr style=\"text-align: right;\">\n",
       "      <th></th>\n",
       "      <th>num_orders</th>\n",
       "    </tr>\n",
       "  </thead>\n",
       "  <tbody>\n",
       "    <tr>\n",
       "      <th>count</th>\n",
       "      <td>26496.000000</td>\n",
       "    </tr>\n",
       "    <tr>\n",
       "      <th>mean</th>\n",
       "      <td>14.070463</td>\n",
       "    </tr>\n",
       "    <tr>\n",
       "      <th>std</th>\n",
       "      <td>9.211330</td>\n",
       "    </tr>\n",
       "    <tr>\n",
       "      <th>min</th>\n",
       "      <td>0.000000</td>\n",
       "    </tr>\n",
       "    <tr>\n",
       "      <th>25%</th>\n",
       "      <td>8.000000</td>\n",
       "    </tr>\n",
       "    <tr>\n",
       "      <th>50%</th>\n",
       "      <td>13.000000</td>\n",
       "    </tr>\n",
       "    <tr>\n",
       "      <th>75%</th>\n",
       "      <td>19.000000</td>\n",
       "    </tr>\n",
       "    <tr>\n",
       "      <th>max</th>\n",
       "      <td>119.000000</td>\n",
       "    </tr>\n",
       "  </tbody>\n",
       "</table>\n",
       "</div>"
      ],
      "text/plain": [
       "         num_orders\n",
       "count  26496.000000\n",
       "mean      14.070463\n",
       "std        9.211330\n",
       "min        0.000000\n",
       "25%        8.000000\n",
       "50%       13.000000\n",
       "75%       19.000000\n",
       "max      119.000000"
      ]
     },
     "execution_count": 4,
     "metadata": {},
     "output_type": "execute_result"
    }
   ],
   "source": [
    "data.info()\n",
    "data.describe()"
   ]
  },
  {
   "cell_type": "markdown",
   "id": "53f44d99-cfe5-4739-95b5-bc1f63bd4d81",
   "metadata": {},
   "source": [
    "* Пропусков в данных нет\n",
    "* Нужно изменить типы данных"
   ]
  },
  {
   "cell_type": "markdown",
   "id": "b9894853-0fd5-4c78-85d3-8c640c0ee83a",
   "metadata": {},
   "source": [
    "Проверим количество дубликатов "
   ]
  },
  {
   "cell_type": "code",
   "execution_count": 5,
   "id": "eb39f54c-bf8c-400e-be0a-abad5ffc9950",
   "metadata": {
    "tags": []
   },
   "outputs": [
    {
     "data": {
      "text/plain": [
       "0"
      ]
     },
     "execution_count": 5,
     "metadata": {},
     "output_type": "execute_result"
    }
   ],
   "source": [
    "data.duplicated().sum()"
   ]
  },
  {
   "cell_type": "markdown",
   "id": "9b46cd29-862c-442d-84f0-b89bcc3f1826",
   "metadata": {},
   "source": [
    "Проверим количество дубликатов по колонке **datetime**"
   ]
  },
  {
   "cell_type": "code",
   "execution_count": 6,
   "id": "13239af8-aeb8-4b69-9bea-af1bf63ef178",
   "metadata": {
    "tags": []
   },
   "outputs": [
    {
     "data": {
      "text/plain": [
       "0"
      ]
     },
     "execution_count": 6,
     "metadata": {},
     "output_type": "execute_result"
    }
   ],
   "source": [
    "data.duplicated(subset=['datetime']).sum()"
   ]
  },
  {
   "cell_type": "markdown",
   "id": "cdd4d47f-c522-4a6d-acc8-af6dd17cfb2b",
   "metadata": {},
   "source": [
    "Дубликатов в данных нет"
   ]
  },
  {
   "cell_type": "markdown",
   "id": "856dc377-29bd-4329-a56a-642c572d5504",
   "metadata": {},
   "source": [
    "Посмотрим на распределение целевого признака **num_orders**"
   ]
  },
  {
   "cell_type": "code",
   "execution_count": 7,
   "id": "1027034d-019c-4b3f-9684-122bb3e88fed",
   "metadata": {
    "tags": []
   },
   "outputs": [
    {
     "data": {
      "image/png": "[encoded data removed]",
      "text/plain": [
       "<Figure size 1200x800 with 2 Axes>"
      ]
     },
     "metadata": {},
     "output_type": "display_data"
    }
   ],
   "source": [
    "fig, ax = plt.subplots(2,1, figsize=(12,8))\n",
    "sns.histplot(data['num_orders'], ax=ax[0]);\n",
    "sns.histplot(data['num_orders'], ax=ax[1]).set(xlim = (0,50));"
   ]
  },
  {
   "cell_type": "markdown",
   "id": "9040debc-0089-4322-affa-6fc1f96fb8cb",
   "metadata": {},
   "source": [
    "Целевая переменная принимает обычное распределение Пуассона, которое представляет собой число событий, произошедших за фиксированное время, при условии, что эти события происходят с некоторой фиксированной средней интенсивностью и независимо друг от друга."
   ]
  },
  {
   "cell_type": "markdown",
   "id": "bf60f320-febf-4d7c-94ff-c0179ed4bc17",
   "metadata": {},
   "source": [
    "### Вывод\n",
    "* Загрузили нужные нам для работы библиотеки\n",
    "* Загрузили и сохранили данные в датафрейм **df**\n",
    "* Пропусков в данных нет\n",
    "* Нужно изменить типы данных\n",
    "* Дубликатов как явных, так и неявных в данных нет\n",
    "* Целевая переменная принимает распределение Пуассона, что ей должно быть и свойственно "
   ]
  },
  {
   "cell_type": "markdown",
   "id": "ced82c42-888f-4711-81b3-2f39ccdf8d76",
   "metadata": {},
   "source": [
    "## Предобработка"
   ]
  },
  {
   "cell_type": "markdown",
   "id": "dc0f222c-3cfb-4182-8ec4-c66b06d3a34e",
   "metadata": {},
   "source": [
    "### Изменим типы данных"
   ]
  },
  {
   "cell_type": "markdown",
   "id": "6f80f703-8fa7-4de0-acf1-4d4fe7405b4b",
   "metadata": {},
   "source": [
    "Посмотрим на типы данных и информацию о нашем датафрейме"
   ]
  },
  {
   "cell_type": "code",
   "execution_count": 8,
   "id": "8c4334fc-7ce7-4161-b13c-554d16dc6478",
   "metadata": {
    "tags": []
   },
   "outputs": [
    {
     "data": {
      "text/plain": [
       "datetime      object\n",
       "num_orders     int64\n",
       "dtype: object"
      ]
     },
     "metadata": {},
     "output_type": "display_data"
    },
    {
     "data": {
      "text/html": [
       "<div>\n",
       "<style scoped>\n",
       "    .dataframe tbody tr th:only-of-type {\n",
       "        vertical-align: middle;\n",
       "    }\n",
       "\n",
       "    .dataframe tbody tr th {\n",
       "        vertical-align: top;\n",
       "    }\n",
       "\n",
       "    .dataframe thead th {\n",
       "        text-align: right;\n",
       "    }\n",
       "</style>\n",
       "<table border=\"1\" class=\"dataframe\">\n",
       "  <thead>\n",
       "    <tr style=\"text-align: right;\">\n",
       "      <th></th>\n",
       "      <th>num_orders</th>\n",
       "    </tr>\n",
       "  </thead>\n",
       "  <tbody>\n",
       "    <tr>\n",
       "      <th>count</th>\n",
       "      <td>26496.000000</td>\n",
       "    </tr>\n",
       "    <tr>\n",
       "      <th>mean</th>\n",
       "      <td>14.070463</td>\n",
       "    </tr>\n",
       "    <tr>\n",
       "      <th>std</th>\n",
       "      <td>9.211330</td>\n",
       "    </tr>\n",
       "    <tr>\n",
       "      <th>min</th>\n",
       "      <td>0.000000</td>\n",
       "    </tr>\n",
       "    <tr>\n",
       "      <th>25%</th>\n",
       "      <td>8.000000</td>\n",
       "    </tr>\n",
       "    <tr>\n",
       "      <th>50%</th>\n",
       "      <td>13.000000</td>\n",
       "    </tr>\n",
       "    <tr>\n",
       "      <th>75%</th>\n",
       "      <td>19.000000</td>\n",
       "    </tr>\n",
       "    <tr>\n",
       "      <th>max</th>\n",
       "      <td>119.000000</td>\n",
       "    </tr>\n",
       "  </tbody>\n",
       "</table>\n",
       "</div>"
      ],
      "text/plain": [
       "         num_orders\n",
       "count  26496.000000\n",
       "mean      14.070463\n",
       "std        9.211330\n",
       "min        0.000000\n",
       "25%        8.000000\n",
       "50%       13.000000\n",
       "75%       19.000000\n",
       "max      119.000000"
      ]
     },
     "execution_count": 8,
     "metadata": {},
     "output_type": "execute_result"
    }
   ],
   "source": [
    "display(data.dtypes)\n",
    "data.describe()"
   ]
  },
  {
   "cell_type": "markdown",
   "id": "a0df07be-77a0-435e-8eb4-5bf51cf712e3",
   "metadata": {},
   "source": [
    "Мы можем изменить тип данных в:\n",
    "* **datetime** object -> datetime\n",
    "* **num_orders** int64 -> uint16"
   ]
  },
  {
   "cell_type": "code",
   "execution_count": 9,
   "id": "0e5c4916-996a-4522-b820-8ac841a44700",
   "metadata": {
    "tags": []
   },
   "outputs": [],
   "source": [
    "data['datetime'] = pd.to_datetime(data['datetime'])\n",
    "data['num_orders'] = data['num_orders'].astype('uint16')"
   ]
  },
  {
   "cell_type": "markdown",
   "id": "a3deddc9-84ce-47c1-ad42-8328ed82594c",
   "metadata": {},
   "source": [
    "Посмотрим на типы данных, после их измененния "
   ]
  },
  {
   "cell_type": "code",
   "execution_count": 10,
   "id": "880dd42f-0c02-421c-8b27-6b3a163088d9",
   "metadata": {
    "tags": []
   },
   "outputs": [
    {
     "data": {
      "text/plain": [
       "datetime      datetime64[ns]\n",
       "num_orders            uint16\n",
       "dtype: object"
      ]
     },
     "execution_count": 10,
     "metadata": {},
     "output_type": "execute_result"
    }
   ],
   "source": [
    "data.dtypes"
   ]
  },
  {
   "cell_type": "markdown",
   "id": "c75f59be-95d5-49b2-b9d2-3e2723ffdcdc",
   "metadata": {},
   "source": [
    "Мы успешно изменили типы данных"
   ]
  },
  {
   "cell_type": "markdown",
   "id": "b3c6fbb0-1478-49ac-9915-39c95e519212",
   "metadata": {
    "tags": []
   },
   "source": [
    "### Ресемплирование"
   ]
  },
  {
   "cell_type": "markdown",
   "id": "eb72a683-6ccc-4859-8f23-8ac499fc1c6b",
   "metadata": {},
   "source": [
    "Чтобы проресемплировать данные по одному часу, нужно выставить столбец datetime как индекс"
   ]
  },
  {
   "cell_type": "code",
   "execution_count": 11,
   "id": "c01d5bc9-48ee-4fcd-9db7-e2b62e00ae15",
   "metadata": {
    "tags": []
   },
   "outputs": [
    {
     "data": {
      "text/html": [
       "<div>\n",
       "<style scoped>\n",
       "    .dataframe tbody tr th:only-of-type {\n",
       "        vertical-align: middle;\n",
       "    }\n",
       "\n",
       "    .dataframe tbody tr th {\n",
       "        vertical-align: top;\n",
       "    }\n",
       "\n",
       "    .dataframe thead th {\n",
       "        text-align: right;\n",
       "    }\n",
       "</style>\n",
       "<table border=\"1\" class=\"dataframe\">\n",
       "  <thead>\n",
       "    <tr style=\"text-align: right;\">\n",
       "      <th></th>\n",
       "      <th>num_orders</th>\n",
       "    </tr>\n",
       "    <tr>\n",
       "      <th>datetime</th>\n",
       "      <th></th>\n",
       "    </tr>\n",
       "  </thead>\n",
       "  <tbody>\n",
       "    <tr>\n",
       "      <th>2018-03-01 00:00:00</th>\n",
       "      <td>9</td>\n",
       "    </tr>\n",
       "    <tr>\n",
       "      <th>2018-03-01 00:10:00</th>\n",
       "      <td>14</td>\n",
       "    </tr>\n",
       "    <tr>\n",
       "      <th>2018-03-01 00:20:00</th>\n",
       "      <td>28</td>\n",
       "    </tr>\n",
       "    <tr>\n",
       "      <th>2018-03-01 00:30:00</th>\n",
       "      <td>20</td>\n",
       "    </tr>\n",
       "    <tr>\n",
       "      <th>2018-03-01 00:40:00</th>\n",
       "      <td>32</td>\n",
       "    </tr>\n",
       "  </tbody>\n",
       "</table>\n",
       "</div>"
      ],
      "text/plain": [
       "                     num_orders\n",
       "datetime                       \n",
       "2018-03-01 00:00:00           9\n",
       "2018-03-01 00:10:00          14\n",
       "2018-03-01 00:20:00          28\n",
       "2018-03-01 00:30:00          20\n",
       "2018-03-01 00:40:00          32"
      ]
     },
     "execution_count": 11,
     "metadata": {},
     "output_type": "execute_result"
    }
   ],
   "source": [
    "data = data.set_index('datetime')\n",
    "data.sort_index(inplace=True)\n",
    "data.head(5)"
   ]
  },
  {
   "cell_type": "markdown",
   "id": "4fb6ae17-efbe-478e-a0e1-8c97917f1ee4",
   "metadata": {},
   "source": [
    "проресемплируем данные по одному часу"
   ]
  },
  {
   "cell_type": "code",
   "execution_count": 12,
   "id": "f5d64ded-0b26-431e-83c6-dc48b447d244",
   "metadata": {
    "tags": []
   },
   "outputs": [
    {
     "data": {
      "text/html": [
       "<div>\n",
       "<style scoped>\n",
       "    .dataframe tbody tr th:only-of-type {\n",
       "        vertical-align: middle;\n",
       "    }\n",
       "\n",
       "    .dataframe tbody tr th {\n",
       "        vertical-align: top;\n",
       "    }\n",
       "\n",
       "    .dataframe thead th {\n",
       "        text-align: right;\n",
       "    }\n",
       "</style>\n",
       "<table border=\"1\" class=\"dataframe\">\n",
       "  <thead>\n",
       "    <tr style=\"text-align: right;\">\n",
       "      <th></th>\n",
       "      <th>num_orders</th>\n",
       "    </tr>\n",
       "    <tr>\n",
       "      <th>datetime</th>\n",
       "      <th></th>\n",
       "    </tr>\n",
       "  </thead>\n",
       "  <tbody>\n",
       "    <tr>\n",
       "      <th>2018-03-01 00:00:00</th>\n",
       "      <td>124</td>\n",
       "    </tr>\n",
       "    <tr>\n",
       "      <th>2018-03-01 01:00:00</th>\n",
       "      <td>85</td>\n",
       "    </tr>\n",
       "    <tr>\n",
       "      <th>2018-03-01 02:00:00</th>\n",
       "      <td>71</td>\n",
       "    </tr>\n",
       "    <tr>\n",
       "      <th>2018-03-01 03:00:00</th>\n",
       "      <td>66</td>\n",
       "    </tr>\n",
       "    <tr>\n",
       "      <th>2018-03-01 04:00:00</th>\n",
       "      <td>43</td>\n",
       "    </tr>\n",
       "  </tbody>\n",
       "</table>\n",
       "</div>"
      ],
      "text/plain": [
       "                     num_orders\n",
       "datetime                       \n",
       "2018-03-01 00:00:00         124\n",
       "2018-03-01 01:00:00          85\n",
       "2018-03-01 02:00:00          71\n",
       "2018-03-01 03:00:00          66\n",
       "2018-03-01 04:00:00          43"
      ]
     },
     "execution_count": 12,
     "metadata": {},
     "output_type": "execute_result"
    }
   ],
   "source": [
    "data = data.resample('1H').sum()\n",
    "data.head(5)"
   ]
  },
  {
   "cell_type": "code",
   "execution_count": 13,
   "id": "fbcad4c0-988b-4ac0-a9ea-5504efdf82ed",
   "metadata": {
    "tags": []
   },
   "outputs": [
    {
     "data": {
      "text/html": [
       "<div>\n",
       "<style scoped>\n",
       "    .dataframe tbody tr th:only-of-type {\n",
       "        vertical-align: middle;\n",
       "    }\n",
       "\n",
       "    .dataframe tbody tr th {\n",
       "        vertical-align: top;\n",
       "    }\n",
       "\n",
       "    .dataframe thead th {\n",
       "        text-align: right;\n",
       "    }\n",
       "</style>\n",
       "<table border=\"1\" class=\"dataframe\">\n",
       "  <thead>\n",
       "    <tr style=\"text-align: right;\">\n",
       "      <th></th>\n",
       "      <th>num_orders</th>\n",
       "    </tr>\n",
       "  </thead>\n",
       "  <tbody>\n",
       "    <tr>\n",
       "      <th>count</th>\n",
       "      <td>4416.000000</td>\n",
       "    </tr>\n",
       "    <tr>\n",
       "      <th>mean</th>\n",
       "      <td>84.422781</td>\n",
       "    </tr>\n",
       "    <tr>\n",
       "      <th>std</th>\n",
       "      <td>45.023853</td>\n",
       "    </tr>\n",
       "    <tr>\n",
       "      <th>min</th>\n",
       "      <td>0.000000</td>\n",
       "    </tr>\n",
       "    <tr>\n",
       "      <th>25%</th>\n",
       "      <td>54.000000</td>\n",
       "    </tr>\n",
       "    <tr>\n",
       "      <th>50%</th>\n",
       "      <td>78.000000</td>\n",
       "    </tr>\n",
       "    <tr>\n",
       "      <th>75%</th>\n",
       "      <td>107.000000</td>\n",
       "    </tr>\n",
       "    <tr>\n",
       "      <th>max</th>\n",
       "      <td>462.000000</td>\n",
       "    </tr>\n",
       "  </tbody>\n",
       "</table>\n",
       "</div>"
      ],
      "text/plain": [
       "        num_orders\n",
       "count  4416.000000\n",
       "mean     84.422781\n",
       "std      45.023853\n",
       "min       0.000000\n",
       "25%      54.000000\n",
       "50%      78.000000\n",
       "75%     107.000000\n",
       "max     462.000000"
      ]
     },
     "execution_count": 13,
     "metadata": {},
     "output_type": "execute_result"
    }
   ],
   "source": [
    "data.describe()"
   ]
  },
  {
   "cell_type": "markdown",
   "id": "4b569f3d-d8ca-4384-bef5-51bc750f489a",
   "metadata": {
    "tags": []
   },
   "source": [
    "### Создадим новые столбцы из datetime "
   ]
  },
  {
   "cell_type": "markdown",
   "id": "0cea233d-9860-4bb5-af10-c93cf5011b3e",
   "metadata": {},
   "source": [
    "Напишем функцию для создания столбцов:\n",
    "* **year** - год заказа\n",
    "* **month** - месяц заказа\n",
    "* **day** - день заказа\n",
    "* **day_of_week** - день недели заказа\n",
    "* **lag_N** - данные за N часов назад, создадим 24 столбца, так как нам интересны данные за 24 часа\n",
    "* **rolling_mean** - Скользящее среднее за 25 часов"
   ]
  },
  {
   "cell_type": "code",
   "execution_count": 14,
   "id": "2d07bfa6-cc26-4359-9273-23939b2dc16a",
   "metadata": {
    "tags": []
   },
   "outputs": [],
   "source": [
    "def make_features(data, max_lag, rolling_mean_size):\n",
    "    df = data.copy()\n",
    "    df['year'] = df.index.year\n",
    "    df['month'] = df.index.month\n",
    "    df['day'] = df.index.day\n",
    "    df['day_of_week'] = df.index.dayofweek\n",
    "    \n",
    "    for lag in range(1, max_lag + 1):\n",
    "        df['lag_{}'.format(lag)] = df['num_orders'].shift(lag)\n",
    "\n",
    "    df['rolling_mean'] = df['num_orders'].shift().rolling(rolling_mean_size).mean()\n",
    "    return df"
   ]
  },
  {
   "cell_type": "code",
   "execution_count": 15,
   "id": "b152a522-1dff-4ca4-87bc-a7f666903560",
   "metadata": {
    "tags": []
   },
   "outputs": [],
   "source": [
    "df = make_features(data, 24, 25)"
   ]
  },
  {
   "cell_type": "code",
   "execution_count": 16,
   "id": "2322dbf5-68a3-46f7-aa95-91283f2cc92b",
   "metadata": {
    "tags": []
   },
   "outputs": [
    {
     "data": {
      "text/html": [
       "<div>\n",
       "<style scoped>\n",
       "    .dataframe tbody tr th:only-of-type {\n",
       "        vertical-align: middle;\n",
       "    }\n",
       "\n",
       "    .dataframe tbody tr th {\n",
       "        vertical-align: top;\n",
       "    }\n",
       "\n",
       "    .dataframe thead th {\n",
       "        text-align: right;\n",
       "    }\n",
       "</style>\n",
       "<table border=\"1\" class=\"dataframe\">\n",
       "  <thead>\n",
       "    <tr style=\"text-align: right;\">\n",
       "      <th></th>\n",
       "      <th>num_orders</th>\n",
       "      <th>year</th>\n",
       "      <th>month</th>\n",
       "      <th>day</th>\n",
       "      <th>day_of_week</th>\n",
       "      <th>lag_1</th>\n",
       "      <th>lag_2</th>\n",
       "      <th>lag_3</th>\n",
       "      <th>lag_4</th>\n",
       "      <th>lag_5</th>\n",
       "      <th>...</th>\n",
       "      <th>lag_16</th>\n",
       "      <th>lag_17</th>\n",
       "      <th>lag_18</th>\n",
       "      <th>lag_19</th>\n",
       "      <th>lag_20</th>\n",
       "      <th>lag_21</th>\n",
       "      <th>lag_22</th>\n",
       "      <th>lag_23</th>\n",
       "      <th>lag_24</th>\n",
       "      <th>rolling_mean</th>\n",
       "    </tr>\n",
       "    <tr>\n",
       "      <th>datetime</th>\n",
       "      <th></th>\n",
       "      <th></th>\n",
       "      <th></th>\n",
       "      <th></th>\n",
       "      <th></th>\n",
       "      <th></th>\n",
       "      <th></th>\n",
       "      <th></th>\n",
       "      <th></th>\n",
       "      <th></th>\n",
       "      <th></th>\n",
       "      <th></th>\n",
       "      <th></th>\n",
       "      <th></th>\n",
       "      <th></th>\n",
       "      <th></th>\n",
       "      <th></th>\n",
       "      <th></th>\n",
       "      <th></th>\n",
       "      <th></th>\n",
       "      <th></th>\n",
       "    </tr>\n",
       "  </thead>\n",
       "  <tbody>\n",
       "    <tr>\n",
       "      <th>2018-03-01 00:00:00</th>\n",
       "      <td>124</td>\n",
       "      <td>2018</td>\n",
       "      <td>3</td>\n",
       "      <td>1</td>\n",
       "      <td>3</td>\n",
       "      <td>NaN</td>\n",
       "      <td>NaN</td>\n",
       "      <td>NaN</td>\n",
       "      <td>NaN</td>\n",
       "      <td>NaN</td>\n",
       "      <td>...</td>\n",
       "      <td>NaN</td>\n",
       "      <td>NaN</td>\n",
       "      <td>NaN</td>\n",
       "      <td>NaN</td>\n",
       "      <td>NaN</td>\n",
       "      <td>NaN</td>\n",
       "      <td>NaN</td>\n",
       "      <td>NaN</td>\n",
       "      <td>NaN</td>\n",
       "      <td>NaN</td>\n",
       "    </tr>\n",
       "    <tr>\n",
       "      <th>2018-03-01 01:00:00</th>\n",
       "      <td>85</td>\n",
       "      <td>2018</td>\n",
       "      <td>3</td>\n",
       "      <td>1</td>\n",
       "      <td>3</td>\n",
       "      <td>124.0</td>\n",
       "      <td>NaN</td>\n",
       "      <td>NaN</td>\n",
       "      <td>NaN</td>\n",
       "      <td>NaN</td>\n",
       "      <td>...</td>\n",
       "      <td>NaN</td>\n",
       "      <td>NaN</td>\n",
       "      <td>NaN</td>\n",
       "      <td>NaN</td>\n",
       "      <td>NaN</td>\n",
       "      <td>NaN</td>\n",
       "      <td>NaN</td>\n",
       "      <td>NaN</td>\n",
       "      <td>NaN</td>\n",
       "      <td>NaN</td>\n",
       "    </tr>\n",
       "    <tr>\n",
       "      <th>2018-03-01 02:00:00</th>\n",
       "      <td>71</td>\n",
       "      <td>2018</td>\n",
       "      <td>3</td>\n",
       "      <td>1</td>\n",
       "      <td>3</td>\n",
       "      <td>85.0</td>\n",
       "      <td>124.0</td>\n",
       "      <td>NaN</td>\n",
       "      <td>NaN</td>\n",
       "      <td>NaN</td>\n",
       "      <td>...</td>\n",
       "      <td>NaN</td>\n",
       "      <td>NaN</td>\n",
       "      <td>NaN</td>\n",
       "      <td>NaN</td>\n",
       "      <td>NaN</td>\n",
       "      <td>NaN</td>\n",
       "      <td>NaN</td>\n",
       "      <td>NaN</td>\n",
       "      <td>NaN</td>\n",
       "      <td>NaN</td>\n",
       "    </tr>\n",
       "    <tr>\n",
       "      <th>2018-03-01 03:00:00</th>\n",
       "      <td>66</td>\n",
       "      <td>2018</td>\n",
       "      <td>3</td>\n",
       "      <td>1</td>\n",
       "      <td>3</td>\n",
       "      <td>71.0</td>\n",
       "      <td>85.0</td>\n",
       "      <td>124.0</td>\n",
       "      <td>NaN</td>\n",
       "      <td>NaN</td>\n",
       "      <td>...</td>\n",
       "      <td>NaN</td>\n",
       "      <td>NaN</td>\n",
       "      <td>NaN</td>\n",
       "      <td>NaN</td>\n",
       "      <td>NaN</td>\n",
       "      <td>NaN</td>\n",
       "      <td>NaN</td>\n",
       "      <td>NaN</td>\n",
       "      <td>NaN</td>\n",
       "      <td>NaN</td>\n",
       "    </tr>\n",
       "    <tr>\n",
       "      <th>2018-03-01 04:00:00</th>\n",
       "      <td>43</td>\n",
       "      <td>2018</td>\n",
       "      <td>3</td>\n",
       "      <td>1</td>\n",
       "      <td>3</td>\n",
       "      <td>66.0</td>\n",
       "      <td>71.0</td>\n",
       "      <td>85.0</td>\n",
       "      <td>124.0</td>\n",
       "      <td>NaN</td>\n",
       "      <td>...</td>\n",
       "      <td>NaN</td>\n",
       "      <td>NaN</td>\n",
       "      <td>NaN</td>\n",
       "      <td>NaN</td>\n",
       "      <td>NaN</td>\n",
       "      <td>NaN</td>\n",
       "      <td>NaN</td>\n",
       "      <td>NaN</td>\n",
       "      <td>NaN</td>\n",
       "      <td>NaN</td>\n",
       "    </tr>\n",
       "    <tr>\n",
       "      <th>...</th>\n",
       "      <td>...</td>\n",
       "      <td>...</td>\n",
       "      <td>...</td>\n",
       "      <td>...</td>\n",
       "      <td>...</td>\n",
       "      <td>...</td>\n",
       "      <td>...</td>\n",
       "      <td>...</td>\n",
       "      <td>...</td>\n",
       "      <td>...</td>\n",
       "      <td>...</td>\n",
       "      <td>...</td>\n",
       "      <td>...</td>\n",
       "      <td>...</td>\n",
       "      <td>...</td>\n",
       "      <td>...</td>\n",
       "      <td>...</td>\n",
       "      <td>...</td>\n",
       "      <td>...</td>\n",
       "      <td>...</td>\n",
       "      <td>...</td>\n",
       "    </tr>\n",
       "    <tr>\n",
       "      <th>2018-08-31 19:00:00</th>\n",
       "      <td>136</td>\n",
       "      <td>2018</td>\n",
       "      <td>8</td>\n",
       "      <td>31</td>\n",
       "      <td>4</td>\n",
       "      <td>207.0</td>\n",
       "      <td>217.0</td>\n",
       "      <td>197.0</td>\n",
       "      <td>116.0</td>\n",
       "      <td>133.0</td>\n",
       "      <td>...</td>\n",
       "      <td>99.0</td>\n",
       "      <td>230.0</td>\n",
       "      <td>194.0</td>\n",
       "      <td>276.0</td>\n",
       "      <td>246.0</td>\n",
       "      <td>158.0</td>\n",
       "      <td>198.0</td>\n",
       "      <td>142.0</td>\n",
       "      <td>72.0</td>\n",
       "      <td>165.36</td>\n",
       "    </tr>\n",
       "    <tr>\n",
       "      <th>2018-08-31 20:00:00</th>\n",
       "      <td>154</td>\n",
       "      <td>2018</td>\n",
       "      <td>8</td>\n",
       "      <td>31</td>\n",
       "      <td>4</td>\n",
       "      <td>136.0</td>\n",
       "      <td>207.0</td>\n",
       "      <td>217.0</td>\n",
       "      <td>197.0</td>\n",
       "      <td>116.0</td>\n",
       "      <td>...</td>\n",
       "      <td>268.0</td>\n",
       "      <td>99.0</td>\n",
       "      <td>230.0</td>\n",
       "      <td>194.0</td>\n",
       "      <td>276.0</td>\n",
       "      <td>246.0</td>\n",
       "      <td>158.0</td>\n",
       "      <td>198.0</td>\n",
       "      <td>142.0</td>\n",
       "      <td>163.72</td>\n",
       "    </tr>\n",
       "    <tr>\n",
       "      <th>2018-08-31 21:00:00</th>\n",
       "      <td>159</td>\n",
       "      <td>2018</td>\n",
       "      <td>8</td>\n",
       "      <td>31</td>\n",
       "      <td>4</td>\n",
       "      <td>154.0</td>\n",
       "      <td>136.0</td>\n",
       "      <td>207.0</td>\n",
       "      <td>217.0</td>\n",
       "      <td>197.0</td>\n",
       "      <td>...</td>\n",
       "      <td>78.0</td>\n",
       "      <td>268.0</td>\n",
       "      <td>99.0</td>\n",
       "      <td>230.0</td>\n",
       "      <td>194.0</td>\n",
       "      <td>276.0</td>\n",
       "      <td>246.0</td>\n",
       "      <td>158.0</td>\n",
       "      <td>198.0</td>\n",
       "      <td>167.00</td>\n",
       "    </tr>\n",
       "    <tr>\n",
       "      <th>2018-08-31 22:00:00</th>\n",
       "      <td>223</td>\n",
       "      <td>2018</td>\n",
       "      <td>8</td>\n",
       "      <td>31</td>\n",
       "      <td>4</td>\n",
       "      <td>159.0</td>\n",
       "      <td>154.0</td>\n",
       "      <td>136.0</td>\n",
       "      <td>207.0</td>\n",
       "      <td>217.0</td>\n",
       "      <td>...</td>\n",
       "      <td>35.0</td>\n",
       "      <td>78.0</td>\n",
       "      <td>268.0</td>\n",
       "      <td>99.0</td>\n",
       "      <td>230.0</td>\n",
       "      <td>194.0</td>\n",
       "      <td>276.0</td>\n",
       "      <td>246.0</td>\n",
       "      <td>158.0</td>\n",
       "      <td>167.68</td>\n",
       "    </tr>\n",
       "    <tr>\n",
       "      <th>2018-08-31 23:00:00</th>\n",
       "      <td>205</td>\n",
       "      <td>2018</td>\n",
       "      <td>8</td>\n",
       "      <td>31</td>\n",
       "      <td>4</td>\n",
       "      <td>223.0</td>\n",
       "      <td>159.0</td>\n",
       "      <td>154.0</td>\n",
       "      <td>136.0</td>\n",
       "      <td>207.0</td>\n",
       "      <td>...</td>\n",
       "      <td>46.0</td>\n",
       "      <td>35.0</td>\n",
       "      <td>78.0</td>\n",
       "      <td>268.0</td>\n",
       "      <td>99.0</td>\n",
       "      <td>230.0</td>\n",
       "      <td>194.0</td>\n",
       "      <td>276.0</td>\n",
       "      <td>246.0</td>\n",
       "      <td>168.68</td>\n",
       "    </tr>\n",
       "  </tbody>\n",
       "</table>\n",
       "<p>4416 rows × 30 columns</p>\n",
       "</div>"
      ],
      "text/plain": [
       "                     num_orders  year  month  day  day_of_week  lag_1  lag_2  \\\n",
       "datetime                                                                       \n",
       "2018-03-01 00:00:00         124  2018      3    1            3    NaN    NaN   \n",
       "2018-03-01 01:00:00          85  2018      3    1            3  124.0    NaN   \n",
       "2018-03-01 02:00:00          71  2018      3    1            3   85.0  124.0   \n",
       "2018-03-01 03:00:00          66  2018      3    1            3   71.0   85.0   \n",
       "2018-03-01 04:00:00          43  2018      3    1            3   66.0   71.0   \n",
       "...                         ...   ...    ...  ...          ...    ...    ...   \n",
       "2018-08-31 19:00:00         136  2018      8   31            4  207.0  217.0   \n",
       "2018-08-31 20:00:00         154  2018      8   31            4  136.0  207.0   \n",
       "2018-08-31 21:00:00         159  2018      8   31            4  154.0  136.0   \n",
       "2018-08-31 22:00:00         223  2018      8   31            4  159.0  154.0   \n",
       "2018-08-31 23:00:00         205  2018      8   31            4  223.0  159.0   \n",
       "\n",
       "                     lag_3  lag_4  lag_5  ...  lag_16  lag_17  lag_18  lag_19  \\\n",
       "datetime                                  ...                                   \n",
       "2018-03-01 00:00:00    NaN    NaN    NaN  ...     NaN     NaN     NaN     NaN   \n",
       "2018-03-01 01:00:00    NaN    NaN    NaN  ...     NaN     NaN     NaN     NaN   \n",
       "2018-03-01 02:00:00    NaN    NaN    NaN  ...     NaN     NaN     NaN     NaN   \n",
       "2018-03-01 03:00:00  124.0    NaN    NaN  ...     NaN     NaN     NaN     NaN   \n",
       "2018-03-01 04:00:00   85.0  124.0    NaN  ...     NaN     NaN     NaN     NaN   \n",
       "...                    ...    ...    ...  ...     ...     ...     ...     ...   \n",
       "2018-08-31 19:00:00  197.0  116.0  133.0  ...    99.0   230.0   194.0   276.0   \n",
       "2018-08-31 20:00:00  217.0  197.0  116.0  ...   268.0    99.0   230.0   194.0   \n",
       "2018-08-31 21:00:00  207.0  217.0  197.0  ...    78.0   268.0    99.0   230.0   \n",
       "2018-08-31 22:00:00  136.0  207.0  217.0  ...    35.0    78.0   268.0    99.0   \n",
       "2018-08-31 23:00:00  154.0  136.0  207.0  ...    46.0    35.0    78.0   268.0   \n",
       "\n",
       "                     lag_20  lag_21  lag_22  lag_23  lag_24  rolling_mean  \n",
       "datetime                                                                   \n",
       "2018-03-01 00:00:00     NaN     NaN     NaN     NaN     NaN           NaN  \n",
       "2018-03-01 01:00:00     NaN     NaN     NaN     NaN     NaN           NaN  \n",
       "2018-03-01 02:00:00     NaN     NaN     NaN     NaN     NaN           NaN  \n",
       "2018-03-01 03:00:00     NaN     NaN     NaN     NaN     NaN           NaN  \n",
       "2018-03-01 04:00:00     NaN     NaN     NaN     NaN     NaN           NaN  \n",
       "...                     ...     ...     ...     ...     ...           ...  \n",
       "2018-08-31 19:00:00   246.0   158.0   198.0   142.0    72.0        165.36  \n",
       "2018-08-31 20:00:00   276.0   246.0   158.0   198.0   142.0        163.72  \n",
       "2018-08-31 21:00:00   194.0   276.0   246.0   158.0   198.0        167.00  \n",
       "2018-08-31 22:00:00   230.0   194.0   276.0   246.0   158.0        167.68  \n",
       "2018-08-31 23:00:00    99.0   230.0   194.0   276.0   246.0        168.68  \n",
       "\n",
       "[4416 rows x 30 columns]"
      ]
     },
     "execution_count": 16,
     "metadata": {},
     "output_type": "execute_result"
    }
   ],
   "source": [
    "df"
   ]
  },
  {
   "cell_type": "markdown",
   "id": "8874523e-06c0-45b5-a226-813e08001299",
   "metadata": {},
   "source": [
    "Посмотрим сколько строк имеют пропуски "
   ]
  },
  {
   "cell_type": "code",
   "execution_count": 17,
   "id": "13d800d5-4fa8-4e34-8782-d197acaf7521",
   "metadata": {
    "tags": []
   },
   "outputs": [
    {
     "data": {
      "text/plain": [
       "25"
      ]
     },
     "execution_count": 17,
     "metadata": {},
     "output_type": "execute_result"
    }
   ],
   "source": [
    "df.isna().sum().max()"
   ]
  },
  {
   "cell_type": "markdown",
   "id": "d028c603-dcaf-4c46-a7ff-ef66087cd1a0",
   "metadata": {},
   "source": [
    "Всего 5 строк имеют пропуски, можно отбросить эти строчки"
   ]
  },
  {
   "cell_type": "code",
   "execution_count": 18,
   "id": "1d862f8a-954e-4ec1-b06f-81f4392d1c31",
   "metadata": {
    "tags": []
   },
   "outputs": [],
   "source": [
    "df.dropna(inplace=True)"
   ]
  },
  {
   "cell_type": "markdown",
   "id": "e4ad3996-5325-4fda-a8ed-301b34dd1f62",
   "metadata": {},
   "source": [
    "### Выбросы в данных"
   ]
  },
  {
   "cell_type": "code",
   "execution_count": 19,
   "id": "82867927-2c25-4471-adfe-ec141ccb4a9a",
   "metadata": {
    "tags": []
   },
   "outputs": [],
   "source": [
    "def show_hists_box(data, data_label, num_bins, rug=False, log_scale=False):\n",
    "    sns.set()\n",
    "    f, axes = plt.subplots(1, 2, figsize=(16, 4))\n",
    "    axes[0].set_title(\"Плотность распределения \" + data_label, fontsize=18)\n",
    "    axes[0].set_ylabel('плотность', fontsize=15)\n",
    "    sns.histplot(data, bins=num_bins, ax=axes[0])\n",
    "    axes[1].set_title(\"Boxplot \" + data_label, fontsize=18)\n",
    "    sns.boxplot(data=df, x=data_label, ax=axes[1])\n",
    "    plt.show()"
   ]
  },
  {
   "cell_type": "code",
   "execution_count": 20,
   "id": "8739ed28-6370-4271-9170-b30a8436d1c7",
   "metadata": {
    "tags": []
   },
   "outputs": [
    {
     "data": {
      "image/png": "[encoded data removed]",
      "text/plain": [
       "<Figure size 1600x400 with 2 Axes>"
      ]
     },
     "metadata": {},
     "output_type": "display_data"
    },
    {
     "data": {
      "image/png": "[encoded data removed]",
      "text/plain": [
       "<Figure size 1600x400 with 2 Axes>"
      ]
     },
     "metadata": {},
     "output_type": "display_data"
    },
    {
     "data": {
      "image/png": "[encoded data removed]",
      "text/plain": [
       "<Figure size 1600x400 with 2 Axes>"
      ]
     },
     "metadata": {},
     "output_type": "display_data"
    },
    {
     "data": {
      "image/png": "[encoded data removed]",
      "text/plain": [
       "<Figure size 1600x400 with 2 Axes>"
      ]
     },
     "metadata": {},
     "output_type": "display_data"
    },
    {
     "data": {
      "image/png": "[encoded data removed]",
      "text/plain": [
       "<Figure size 1600x400 with 2 Axes>"
      ]
     },
     "metadata": {},
     "output_type": "display_data"
    }
   ],
   "source": [
    "numerics = ['num_orders', 'year', 'month', 'day', 'day_of_week']\n",
    "for column in numerics:\n",
    "    show_hists_box(df[column], column, num_bins=50)"
   ]
  },
  {
   "cell_type": "markdown",
   "id": "5031f026-f723-4dd3-b11b-3b8119632492",
   "metadata": {},
   "source": [
    "* Нам представлены данные за 3 месяца 2018 год\n",
    "* Удалим переменную год так как она будет мешать работе модели\n",
    "* Распределение целевой переменной соответствует распределению Пуассона\n",
    "\n",
    "Посмотрим на выбросы целевого признака **num_orders**, для этого напишем функцию **number_of_emissions**"
   ]
  },
  {
   "cell_type": "code",
   "execution_count": 21,
   "id": "d76ae7af-c2b3-4202-8a01-c247261965da",
   "metadata": {
    "tags": []
   },
   "outputs": [],
   "source": [
    "def number_of_emissions(data,col, multiplier=1.5, keep='all', details=False):\n",
    "    rate_min = 0\n",
    "    rate_max = 0\n",
    "    if keep == 'all':\n",
    "        score_max = (data[col].quantile(0.75) - data[col].quantile(0.25))*multiplier + data[col].quantile(0.75)\n",
    "        rate_max = round(len(data.loc[data[col] > score_max]) / len(data) * 100, 2)\n",
    "\n",
    "        score_min = data[col].quantile(0.25) - \\\n",
    "                (data[col].quantile(0.75) - data[col].quantile(0.25))*1.5\n",
    "        rate_min = round(len(data.loc[data[col] < score_min]) / len(data) * 100, 2)\n",
    "        \n",
    "        if details:\n",
    "            print(f'Параметр: {col}\\n'\n",
    "                 f'Гранницы: {score_min} - {score_max}\\n'\n",
    "                 f'min - max значения: {df[col].min()} - {df[col].max()}\\n'\n",
    "                 f'Доля выбросов: {rate_min} - {rate_max}')\n",
    "        \n",
    "        rate = rate_max + rate_min\n",
    "        print(f'Доля всех выбросов в параметре {col}: {rate}%\\n')\n",
    "        return   \n",
    "        \n",
    "        \n",
    "    if keep == 'lower':\n",
    "        score_min = data[col].quantile(0.25) - \\\n",
    "                (data[col].quantile(0.75) - data[col].quantile(0.25))*1.5\n",
    "        rate_min = round(len(data.loc[data[col] < score_min]) / len(data) * 100, 2)\n",
    "        \n",
    "        if details:\n",
    "            print(f'Параметр: {col}\\n'\n",
    "                 f'Гранница: {score_min}\\n'\n",
    "                 f'man: {df[col].max()}')\n",
    "        print(f'Доля выбросов в параметре {col}: {rate_min}%\\n')\n",
    "        return\n",
    "        \n",
    "    if keep == 'higher':\n",
    "        score_max = (data[col].quantile(0.75) - data[col].quantile(0.25))*multiplier + data[col].quantile(0.75)\n",
    "        rate_max = round(len(data.loc[data[col] > score_max]) / len(data) * 100, 2)\n",
    "        \n",
    "        if details:\n",
    "            print(f'Параметр: {col}\\n'\n",
    "                 f'Гранница: {score_max}\\n'\n",
    "                 f'man: {df[col].max()}')\n",
    "        print(f'Доля выбросов в параметре {col}: {rate_max}%\\n')\n",
    "        return  "
   ]
  },
  {
   "cell_type": "code",
   "execution_count": 22,
   "id": "93d6b30c-0103-45a7-b8ac-ecceb5e320a8",
   "metadata": {
    "tags": []
   },
   "outputs": [
    {
     "name": "stdout",
     "output_type": "stream",
     "text": [
      "Параметр: num_orders\n",
      "Гранницы: -27.0 - 189.0\n",
      "min - max значения: 0 - 462\n",
      "Доля выбросов: 0.0 - 2.53\n",
      "Доля всех выбросов в параметре num_orders: 2.53%\n",
      "\n"
     ]
    }
   ],
   "source": [
    "number_of_emissions(df, 'num_orders', details=True)"
   ]
  },
  {
   "cell_type": "markdown",
   "id": "86a0e264-d50d-4d1c-9895-cf67b18544d1",
   "metadata": {},
   "source": [
    "Посмотрим не возникают ли такое большое количество заказов в один определенный день, например понедельник из-за того что все хотят успеть на работу или в воскресенье так как люди отдыхают. "
   ]
  },
  {
   "cell_type": "code",
   "execution_count": 23,
   "id": "9054cd47-31c3-4124-aad2-6108472ebb5c",
   "metadata": {
    "tags": []
   },
   "outputs": [
    {
     "data": {
      "text/plain": [
       "day_of_week\n",
       "4    26\n",
       "3    21\n",
       "0    21\n",
       "5    18\n",
       "2    14\n",
       "1    11\n",
       "6     6\n",
       "Name: count, dtype: int64"
      ]
     },
     "execution_count": 23,
     "metadata": {},
     "output_type": "execute_result"
    }
   ],
   "source": [
    "df.loc[df['num_orders'] > 187, 'day_of_week'].value_counts()"
   ]
  },
  {
   "cell_type": "markdown",
   "id": "e2858494-4ef1-4e5d-932c-a0d11dde7990",
   "metadata": {},
   "source": [
    "Не будем удалять эти данные"
   ]
  },
  {
   "cell_type": "code",
   "execution_count": 24,
   "id": "8cfe51c4-a563-4a3e-8ccd-e9b13ab149d7",
   "metadata": {
    "tags": []
   },
   "outputs": [],
   "source": [
    "df.drop(['year'], axis=1, inplace=True)"
   ]
  },
  {
   "cell_type": "markdown",
   "id": "d891404d-ef8a-4b22-b4dc-9cdf99361993",
   "metadata": {},
   "source": [
    "### Вывод по предобработке\n",
    "* Мы изменили типы данных\n",
    "    * **datetime** object -> datetime\n",
    "    * **num_orders** int64 -> uint16\n",
    "* Индексами нашего датафрейма стал столбец **datetime**\n",
    "* Проресемплировали данные по одному часу\n",
    "* Создали новые столбцы:\n",
    "    * **year** - год заказа\n",
    "    * **month** - месяц заказа\n",
    "    * **day** - день заказа\n",
    "    * **day_of_week** - день недели заказа\n",
    "    * **lag_N** - данные за N дней назад\n",
    "    * **rolling_mean** - Скользящее среднее за 5 дней\n",
    "* Выбросы были только в целевом признаке, но было принято решение не удалять данные"
   ]
  },
  {
   "cell_type": "markdown",
   "id": "7e28d1e1-703e-4931-8783-90b490c5ce9e",
   "metadata": {
    "tags": []
   },
   "source": [
    "## Анализ данных"
   ]
  },
  {
   "cell_type": "markdown",
   "id": "e74b50e6-28bd-428a-bcba-cf566ed1b2ef",
   "metadata": {},
   "source": [
    "Посмотрим за какое количество дней у нас есть данные"
   ]
  },
  {
   "cell_type": "code",
   "execution_count": 25,
   "id": "84396bb7-690d-48ef-a571-a10639592cf5",
   "metadata": {
    "tags": []
   },
   "outputs": [
    {
     "data": {
      "text/plain": [
       "Timedelta('182 days 22:00:00')"
      ]
     },
     "execution_count": 25,
     "metadata": {},
     "output_type": "execute_result"
    }
   ],
   "source": [
    "df.index.max() - df.index.min()"
   ]
  },
  {
   "cell_type": "markdown",
   "id": "ca2958e0-5ce5-4da3-b085-27f33d721392",
   "metadata": {},
   "source": [
    "У нас есть данные за 179 дней"
   ]
  },
  {
   "cell_type": "markdown",
   "id": "8bb7ca42-0518-4ba2-8c5f-424829249690",
   "metadata": {},
   "source": [
    "Посмотрим график вызовов по дням"
   ]
  },
  {
   "cell_type": "code",
   "execution_count": 26,
   "id": "f1819485-1b19-483f-aade-ef5372868956",
   "metadata": {
    "tags": []
   },
   "outputs": [
    {
     "data": {
      "image/png": "[encoded data removed]",
      "text/plain": [
       "<Figure size 1600x600 with 1 Axes>"
      ]
     },
     "metadata": {},
     "output_type": "display_data"
    }
   ],
   "source": [
    "plt.figure(figsize=(16,6))\n",
    "df.resample('1D')['num_orders'].sum().plot()\n",
    "plt.ylabel('Количество заказов')\n",
    "plt.xlabel('Дни')\n",
    "plt.title('Количество заказов по дням', size=20);"
   ]
  },
  {
   "cell_type": "markdown",
   "id": "1a443398-ac00-44aa-bb32-daed0ab702ee",
   "metadata": {},
   "source": [
    "На графике по дням слишком большой разброс, посмотрим график вызовов такси по месяцам"
   ]
  },
  {
   "cell_type": "code",
   "execution_count": 27,
   "id": "904560f1-011d-48d1-beaf-0d55c681416b",
   "metadata": {
    "tags": []
   },
   "outputs": [
    {
     "data": {
      "image/png": "[encoded data removed]",
      "text/plain": [
       "<Figure size 1600x600 with 1 Axes>"
      ]
     },
     "metadata": {},
     "output_type": "display_data"
    }
   ],
   "source": [
    "plt.figure(figsize=(16,6))\n",
    "df.resample('1M')['num_orders'].sum().plot()\n",
    "plt.ylabel('Количество заказов')\n",
    "plt.xlabel('Месяц')\n",
    "plt.title('Количество заказов по дням', size=20);"
   ]
  },
  {
   "cell_type": "markdown",
   "id": "3e3f2249-9f23-4dc6-947b-cf59f29f01d8",
   "metadata": {},
   "source": [
    "Можем заметить что количество заказов такси каждый месяц только растет, а за 5 месяцев количество заказов выросло в 2 раза \n",
    "\n",
    "Проведем анализ временных рядов за первую неделю мая"
   ]
  },
  {
   "cell_type": "code",
   "execution_count": 28,
   "id": "d517603c-94e3-4df0-bd79-78a0f165c4fc",
   "metadata": {
    "tags": []
   },
   "outputs": [
    {
     "data": {
      "image/png": "[encoded data removed]",
      "text/plain": [
       "<Figure size 1600x1600 with 2 Axes>"
      ]
     },
     "metadata": {},
     "output_type": "display_data"
    }
   ],
   "source": [
    "decomposed = seasonal_decompose(df.loc['2018-05-01':'2018-05-07','num_orders'])\n",
    "\n",
    "fig, ax = plt.subplots(2,1, figsize=(16,16))\n",
    "decomposed.trend.plot(ax=ax[0])\n",
    "ax[0].set_title('Тренд')\n",
    "ax[0].set_ylabel('Количество заказов')\n",
    "ax[0].set_xlabel('День недели')\n",
    "\n",
    "decomposed.seasonal.plot(ax=ax[1])\n",
    "ax[1].set_title('Сезонность')\n",
    "ax[1].set_ylabel('Количество заказов')\n",
    "ax[1].set_xlabel('День недели');"
   ]
  },
  {
   "cell_type": "markdown",
   "id": "7565629a-25f8-49eb-bc6e-84094d5b16c8",
   "metadata": {},
   "source": [
    "### Вывод по анализу данных\n",
    "* Количество заказов такси каждый постоянно растет, а за 5 месяцев количество заказов выросло в 2 раза, что может говорить что фирма развивается и у нее появляются новые клиенты\n",
    "* Есть суточная сезонность. Ночью количество заказов близко к нулю, а утром, в обед и вечером достигаются локальные максимумы дня"
   ]
  },
  {
   "cell_type": "markdown",
   "id": "0e5d5227-c9ea-4255-882c-cfbafedd014c",
   "metadata": {
    "tags": []
   },
   "source": [
    "## Подготовка данных"
   ]
  },
  {
   "cell_type": "markdown",
   "id": "0b0c77e1-3c7e-4c99-b2f8-cb3bfdcd7b7e",
   "metadata": {},
   "source": [
    "Разделим данные на целевой признак и признаки"
   ]
  },
  {
   "cell_type": "code",
   "execution_count": 29,
   "id": "72effdb8-e5ff-4d93-915f-b6f909fd66cc",
   "metadata": {
    "tags": []
   },
   "outputs": [],
   "source": [
    "features = df.drop(['num_orders'], axis=1)\n",
    "target = df['num_orders']"
   ]
  },
  {
   "cell_type": "markdown",
   "id": "b82eda43-7371-4dcf-a92d-dff86b802216",
   "metadata": {},
   "source": [
    "Разделим данные на обучающую и тестовую выборку"
   ]
  },
  {
   "cell_type": "code",
   "execution_count": 30,
   "id": "dffc965d-7dae-4de2-b6e5-4d1fb6898b27",
   "metadata": {
    "tags": []
   },
   "outputs": [],
   "source": [
    "features_train, features_test, target_train, target_test = train_test_split(features, target, shuffle=False, test_size=0.2)"
   ]
  },
  {
   "cell_type": "markdown",
   "id": "9eff2d5e-ee87-4664-8308-3c7d886ec11c",
   "metadata": {},
   "source": [
    "Проверим количество данны в ваборках"
   ]
  },
  {
   "cell_type": "code",
   "execution_count": 31,
   "id": "4539372e-0636-4695-8965-3b0f3a9973e1",
   "metadata": {
    "tags": []
   },
   "outputs": [],
   "source": [
    "features_valid, features_test, target_valid, target_test = train_test_split(features_test, target_test, shuffle=False, test_size=0.5)"
   ]
  },
  {
   "cell_type": "code",
   "execution_count": 32,
   "id": "d82350ed-f6ed-4573-ba7d-44e3420a29df",
   "metadata": {
    "scrolled": true,
    "tags": []
   },
   "outputs": [
    {
     "name": "stdout",
     "output_type": "stream",
     "text": [
      "features_train: 3512\n",
      "target_train: 3512\n",
      "\n",
      "features_valid: 439\n",
      "target_valid: 439\n",
      "\n",
      "features_test: 440\n",
      "target_test: 440\n"
     ]
    }
   ],
   "source": [
    "print('features_train:',features_train.shape[0])\n",
    "print('target_train:',target_train.shape[0])\n",
    "print()\n",
    "print('features_valid:',features_valid.shape[0])\n",
    "print('target_valid:',target_valid.shape[0])\n",
    "print()\n",
    "print('features_test:',features_test.shape[0])\n",
    "print('target_test:',target_test.shape[0])"
   ]
  },
  {
   "cell_type": "code",
   "execution_count": 33,
   "id": "01dacb02",
   "metadata": {
    "scrolled": true,
    "tags": []
   },
   "outputs": [],
   "source": [
    "tscv = TimeSeriesSplit(n_splits=3)"
   ]
  },
  {
   "cell_type": "markdown",
   "id": "e832336b-ea7d-44df-b499-951810e3e9ce",
   "metadata": {},
   "source": [
    "### Напишем функцию RMSE:"
   ]
  },
  {
   "cell_type": "code",
   "execution_count": 34,
   "id": "9e974b51-9250-4532-bd1d-03f31e12549d",
   "metadata": {
    "tags": []
   },
   "outputs": [],
   "source": [
    "def RMSE(predict, target):\n",
    "    return (mean_squared_error(predict, target)) ** 0.5\n",
    "rmse_score = make_scorer(RMSE, greater_is_better=False)"
   ]
  },
  {
   "cell_type": "markdown",
   "id": "d600c0b1-4360-4065-b73a-5f877df844ab",
   "metadata": {},
   "source": [
    "### Вывод по подготовке данных:\n",
    "* Разбили данные на признаки и целевой признак\n",
    "* Разделили данные на обучающую, тестовые и валидационную выборки\n",
    "* Написали функцию RMSE"
   ]
  },
  {
   "cell_type": "markdown",
   "id": "4ff69407-68a2-4d5f-8b03-0dec0e9483f8",
   "metadata": {},
   "source": [
    "## Обучение моделей"
   ]
  },
  {
   "cell_type": "markdown",
   "id": "49be3266-8064-4a7b-8f72-d4d444f2d010",
   "metadata": {},
   "source": [
    "### Модель LinearRegression"
   ]
  },
  {
   "cell_type": "markdown",
   "id": "711ab21f-c31c-4073-9cf5-fc1b06e485ef",
   "metadata": {},
   "source": [
    "обучим модель LinearRegression из библиотеки sklearn"
   ]
  },
  {
   "cell_type": "code",
   "execution_count": 35,
   "id": "f6d53f57-e20c-459e-b1b4-3b081cabb2e1",
   "metadata": {
    "tags": []
   },
   "outputs": [],
   "source": [
    "pipeline_lin = Pipeline([\n",
    "    ('scaler', StandardScaler()),\n",
    "    ('reg', LinearRegression())\n",
    "])"
   ]
  },
  {
   "cell_type": "markdown",
   "id": "3cb5d09e-131e-4c20-a017-877b92b98ef6",
   "metadata": {},
   "source": [
    "Обучим модель"
   ]
  },
  {
   "cell_type": "code",
   "execution_count": 36,
   "id": "82c3b024-4e27-44df-9069-670cf0f04d28",
   "metadata": {
    "tags": []
   },
   "outputs": [
    {
     "name": "stdout",
     "output_type": "stream",
     "text": [
      "CPU times: user 12.2 ms, sys: 4.32 ms, total: 16.5 ms\n",
      "Wall time: 12.4 ms\n"
     ]
    },
    {
     "data": {
      "text/html": [
       "<style>#sk-container-id-1 {color: black;background-color: white;}#sk-container-id-1 pre{padding: 0;}#sk-container-id-1 div.sk-toggleable {background-color: white;}#sk-container-id-1 label.sk-toggleable__label {cursor: pointer;display: block;width: 100%;margin-bottom: 0;padding: 0.3em;box-sizing: border-box;text-align: center;}#sk-container-id-1 label.sk-toggleable__label-arrow:before {content: \"▸\";float: left;margin-right: 0.25em;color: #696969;}#sk-container-id-1 label.sk-toggleable__label-arrow:hover:before {color: black;}#sk-container-id-1 div.sk-estimator:hover label.sk-toggleable__label-arrow:before {color: black;}#sk-container-id-1 div.sk-toggleable__content {max-height: 0;max-width: 0;overflow: hidden;text-align: left;background-color: #f0f8ff;}#sk-container-id-1 div.sk-toggleable__content pre {margin: 0.2em;color: black;border-radius: 0.25em;background-color: #f0f8ff;}#sk-container-id-1 input.sk-toggleable__control:checked~div.sk-toggleable__content {max-height: 200px;max-width: 100%;overflow: auto;}#sk-container-id-1 input.sk-toggleable__control:checked~label.sk-toggleable__label-arrow:before {content: \"▾\";}#sk-container-id-1 div.sk-estimator input.sk-toggleable__control:checked~label.sk-toggleable__label {background-color: #d4ebff;}#sk-container-id-1 div.sk-label input.sk-toggleable__control:checked~label.sk-toggleable__label {background-color: #d4ebff;}#sk-container-id-1 input.sk-hidden--visually {border: 0;clip: rect(1px 1px 1px 1px);clip: rect(1px, 1px, 1px, 1px);height: 1px;margin: -1px;overflow: hidden;padding: 0;position: absolute;width: 1px;}#sk-container-id-1 div.sk-estimator {font-family: monospace;background-color: #f0f8ff;border: 1px dotted black;border-radius: 0.25em;box-sizing: border-box;margin-bottom: 0.5em;}#sk-container-id-1 div.sk-estimator:hover {background-color: #d4ebff;}#sk-container-id-1 div.sk-parallel-item::after {content: \"\";width: 100%;border-bottom: 1px solid gray;flex-grow: 1;}#sk-container-id-1 div.sk-label:hover label.sk-toggleable__label {background-color: #d4ebff;}#sk-container-id-1 div.sk-serial::before {content: \"\";position: absolute;border-left: 1px solid gray;box-sizing: border-box;top: 0;bottom: 0;left: 50%;z-index: 0;}#sk-container-id-1 div.sk-serial {display: flex;flex-direction: column;align-items: center;background-color: white;padding-right: 0.2em;padding-left: 0.2em;position: relative;}#sk-container-id-1 div.sk-item {position: relative;z-index: 1;}#sk-container-id-1 div.sk-parallel {display: flex;align-items: stretch;justify-content: center;background-color: white;position: relative;}#sk-container-id-1 div.sk-item::before, #sk-container-id-1 div.sk-parallel-item::before {content: \"\";position: absolute;border-left: 1px solid gray;box-sizing: border-box;top: 0;bottom: 0;left: 50%;z-index: -1;}#sk-container-id-1 div.sk-parallel-item {display: flex;flex-direction: column;z-index: 1;position: relative;background-color: white;}#sk-container-id-1 div.sk-parallel-item:first-child::after {align-self: flex-end;width: 50%;}#sk-container-id-1 div.sk-parallel-item:last-child::after {align-self: flex-start;width: 50%;}#sk-container-id-1 div.sk-parallel-item:only-child::after {width: 0;}#sk-container-id-1 div.sk-dashed-wrapped {border: 1px dashed gray;margin: 0 0.4em 0.5em 0.4em;box-sizing: border-box;padding-bottom: 0.4em;background-color: white;}#sk-container-id-1 div.sk-label label {font-family: monospace;font-weight: bold;display: inline-block;line-height: 1.2em;}#sk-container-id-1 div.sk-label-container {text-align: center;}#sk-container-id-1 div.sk-container {/* jupyter's `normalize.less` sets `[hidden] { display: none; }` but bootstrap.min.css set `[hidden] { display: none !important; }` so we also need the `!important` here to be able to override the default hidden behavior on the sphinx rendered scikit-learn.org. See: https://github.com/scikit-learn/scikit-learn/issues/21755 */display: inline-block !important;position: relative;}#sk-container-id-1 div.sk-text-repr-fallback {display: none;}</style><div id=\"sk-container-id-1\" class=\"sk-top-container\"><div class=\"sk-text-repr-fallback\"><pre>Pipeline(steps=[(&#x27;scaler&#x27;, StandardScaler()), (&#x27;reg&#x27;, LinearRegression())])</pre><b>In a Jupyter environment, please rerun this cell to show the HTML representation or trust the notebook. <br />On GitHub, the HTML representation is unable to render, please try loading this page with nbviewer.org.</b></div><div class=\"sk-container\" hidden><div class=\"sk-item sk-dashed-wrapped\"><div class=\"sk-label-container\"><div class=\"sk-label sk-toggleable\"><input class=\"sk-toggleable__control sk-hidden--visually\" id=\"sk-estimator-id-1\" type=\"checkbox\" ><label for=\"sk-estimator-id-1\" class=\"sk-toggleable__label sk-toggleable__label-arrow\">Pipeline</label><div class=\"sk-toggleable__content\"><pre>Pipeline(steps=[(&#x27;scaler&#x27;, StandardScaler()), (&#x27;reg&#x27;, LinearRegression())])</pre></div></div></div><div class=\"sk-serial\"><div class=\"sk-item\"><div class=\"sk-estimator sk-toggleable\"><input class=\"sk-toggleable__control sk-hidden--visually\" id=\"sk-estimator-id-2\" type=\"checkbox\" ><label for=\"sk-estimator-id-2\" class=\"sk-toggleable__label sk-toggleable__label-arrow\">StandardScaler</label><div class=\"sk-toggleable__content\"><pre>StandardScaler()</pre></div></div></div><div class=\"sk-item\"><div class=\"sk-estimator sk-toggleable\"><input class=\"sk-toggleable__control sk-hidden--visually\" id=\"sk-estimator-id-3\" type=\"checkbox\" ><label for=\"sk-estimator-id-3\" class=\"sk-toggleable__label sk-toggleable__label-arrow\">LinearRegression</label><div class=\"sk-toggleable__content\"><pre>LinearRegression()</pre></div></div></div></div></div></div></div>"
      ],
      "text/plain": [
       "Pipeline(steps=[('scaler', StandardScaler()), ('reg', LinearRegression())])"
      ]
     },
     "execution_count": 36,
     "metadata": {},
     "output_type": "execute_result"
    }
   ],
   "source": [
    "%%time\n",
    "pipeline_lin.fit(features_train, target_train)"
   ]
  },
  {
   "cell_type": "markdown",
   "id": "c4e1c863-91b1-48fa-bf4e-e44177afd9c2",
   "metadata": {},
   "source": [
    "Получим предсказания нашей модели и посмотрим RMSE"
   ]
  },
  {
   "cell_type": "code",
   "execution_count": 37,
   "id": "48bb012f-23c1-46ba-9456-7e660f8780df",
   "metadata": {
    "tags": []
   },
   "outputs": [
    {
     "name": "stdout",
     "output_type": "stream",
     "text": [
      "CPU times: user 9.3 ms, sys: 6.94 ms, total: 16.2 ms\n",
      "Wall time: 5.78 ms\n"
     ]
    }
   ],
   "source": [
    "%%time\n",
    "predict = pipeline_lin.predict(features_valid)"
   ]
  },
  {
   "cell_type": "markdown",
   "id": "f1e5b93a-b606-4d7f-9ef5-247cf3c9ff2f",
   "metadata": {
    "tags": []
   },
   "source": [
    "Посмотрим на RMSE"
   ]
  },
  {
   "cell_type": "code",
   "execution_count": 38,
   "id": "e3edbd5d-c7d5-48f2-b098-f745f713d4a4",
   "metadata": {
    "tags": []
   },
   "outputs": [
    {
     "data": {
      "text/plain": [
       "34.293707878441396"
      ]
     },
     "execution_count": 38,
     "metadata": {},
     "output_type": "execute_result"
    }
   ],
   "source": [
    "RMSE(predict, target_valid)"
   ]
  },
  {
   "cell_type": "markdown",
   "id": "1e8f73b4-27cc-487b-9f5c-298b80565f36",
   "metadata": {
    "tags": []
   },
   "source": [
    "Создадим таблицу в которые будем заносить модели"
   ]
  },
  {
   "cell_type": "code",
   "execution_count": 39,
   "id": "e04e94aa-600c-4942-b308-5120c045808c",
   "metadata": {
    "tags": []
   },
   "outputs": [],
   "source": [
    "df_total = pd.DataFrame.from_dict({'Модель': ['LinearRegression'],\n",
    "                         'Время предсказания': [0.016],\n",
    "                         'RMSE': [34.29]})"
   ]
  },
  {
   "cell_type": "markdown",
   "id": "f4101f9a-64b9-4620-98bf-b2bfd88a6fbf",
   "metadata": {},
   "source": [
    "### Модель DecisionTreeRegressor"
   ]
  },
  {
   "cell_type": "markdown",
   "id": "0a318c7f-c4a5-48a5-b498-6df44bb83b98",
   "metadata": {},
   "source": [
    "Найдем лучшие параметры с помощью GridSearchCV"
   ]
  },
  {
   "cell_type": "code",
   "execution_count": 40,
   "id": "c00a2e30-f948-433e-8418-1471f4def1aa",
   "metadata": {
    "tags": []
   },
   "outputs": [
    {
     "name": "stdout",
     "output_type": "stream",
     "text": [
      "Лучшее значение метрики: 29.083 \n",
      "\n",
      "Подобранные гиперпараметры модели\n",
      "CPU times: user 12.1 s, sys: 45.8 ms, total: 12.2 s\n",
      "Wall time: 12.2 s\n"
     ]
    },
    {
     "data": {
      "text/plain": [
       "{'max_depth': 5, 'min_samples_leaf': 7, 'min_samples_split': 2}"
      ]
     },
     "execution_count": 40,
     "metadata": {},
     "output_type": "execute_result"
    }
   ],
   "source": [
    "%%time\n",
    "params = {\n",
    "    'max_depth':np.arange(5,11,1),\n",
    "    'min_samples_split':np.arange(2,6,1),\n",
    "    'min_samples_leaf':np.arange(1,10,1)\n",
    "}\n",
    "model_tree = DecisionTreeRegressor(random_state=RANDOM_STATE)\n",
    "\n",
    "gscv_tree = GridSearchCV(model_tree, params, verbose=False, scoring=rmse_score, cv=tscv)\n",
    "gscv_tree.fit(features_train, target_train)\n",
    "\n",
    "print('Лучшее значение метрики:', -1*round(gscv_tree.best_score_, 3),'\\n')\n",
    "print('Подобранные гиперпараметры модели')\n",
    "gscv_tree.best_params_"
   ]
  },
  {
   "cell_type": "markdown",
   "id": "fe1632e6-0941-43f7-8cd4-ca23e882047a",
   "metadata": {},
   "source": [
    "Инициалицируем лучшую модель на кросс-валидации "
   ]
  },
  {
   "cell_type": "code",
   "execution_count": 41,
   "id": "1ccafe81-fe9f-4841-8f79-055f573bd6be",
   "metadata": {
    "tags": []
   },
   "outputs": [],
   "source": [
    "model_tree = gscv_tree.best_estimator_"
   ]
  },
  {
   "cell_type": "markdown",
   "id": "a566598c-c460-47b4-81a2-d07566db8cee",
   "metadata": {},
   "source": [
    "Сделаем предсказания на валидационной выборке"
   ]
  },
  {
   "cell_type": "code",
   "execution_count": 42,
   "id": "9ae69f58-f6cc-4ef2-976b-4047cc506fe9",
   "metadata": {
    "tags": []
   },
   "outputs": [
    {
     "name": "stdout",
     "output_type": "stream",
     "text": [
      "CPU times: user 2.08 ms, sys: 457 µs, total: 2.53 ms\n",
      "Wall time: 2.26 ms\n"
     ]
    }
   ],
   "source": [
    "%%time\n",
    "predict = model_tree.predict(features_valid)"
   ]
  },
  {
   "cell_type": "markdown",
   "id": "6a64a5b1-9364-4a08-8872-90107fe01cbd",
   "metadata": {},
   "source": [
    "Посмотрим на RMSE"
   ]
  },
  {
   "cell_type": "code",
   "execution_count": 43,
   "id": "6c2fd2e6-83c3-47ce-af1e-de69c7f831a1",
   "metadata": {
    "tags": []
   },
   "outputs": [
    {
     "data": {
      "text/plain": [
       "41.06630860715705"
      ]
     },
     "execution_count": 43,
     "metadata": {},
     "output_type": "execute_result"
    }
   ],
   "source": [
    "RMSE(predict, target_valid)"
   ]
  },
  {
   "cell_type": "code",
   "execution_count": 44,
   "id": "15800acf-b2e3-42ac-b5af-e81954ccbf6d",
   "metadata": {
    "tags": []
   },
   "outputs": [
    {
     "data": {
      "text/html": [
       "<div>\n",
       "<style scoped>\n",
       "    .dataframe tbody tr th:only-of-type {\n",
       "        vertical-align: middle;\n",
       "    }\n",
       "\n",
       "    .dataframe tbody tr th {\n",
       "        vertical-align: top;\n",
       "    }\n",
       "\n",
       "    .dataframe thead th {\n",
       "        text-align: right;\n",
       "    }\n",
       "</style>\n",
       "<table border=\"1\" class=\"dataframe\">\n",
       "  <thead>\n",
       "    <tr style=\"text-align: right;\">\n",
       "      <th></th>\n",
       "      <th>Модель</th>\n",
       "      <th>Время предсказания</th>\n",
       "      <th>RMSE</th>\n",
       "    </tr>\n",
       "  </thead>\n",
       "  <tbody>\n",
       "    <tr>\n",
       "      <th>0</th>\n",
       "      <td>LinearRegression</td>\n",
       "      <td>0.016</td>\n",
       "      <td>34.29</td>\n",
       "    </tr>\n",
       "    <tr>\n",
       "      <th>1</th>\n",
       "      <td>DecisionTreeRegressor</td>\n",
       "      <td>0.003</td>\n",
       "      <td>41.07</td>\n",
       "    </tr>\n",
       "  </tbody>\n",
       "</table>\n",
       "</div>"
      ],
      "text/plain": [
       "                  Модель  Время предсказания   RMSE\n",
       "0       LinearRegression               0.016  34.29\n",
       "1  DecisionTreeRegressor               0.003  41.07"
      ]
     },
     "execution_count": 44,
     "metadata": {},
     "output_type": "execute_result"
    }
   ],
   "source": [
    "df_total.loc[1] = ['DecisionTreeRegressor',\n",
    "                         0.003,\n",
    "                         41.07]\n",
    "df_total"
   ]
  },
  {
   "cell_type": "markdown",
   "id": "17602273-5979-41c5-a439-028a3800512b",
   "metadata": {},
   "source": [
    "### Модель RandomForestRegressor¶"
   ]
  },
  {
   "cell_type": "markdown",
   "id": "bef598e9-9a37-4581-a3f0-bc3dc88a13b8",
   "metadata": {},
   "source": [
    "Найдем лучшие параметры для модели случайного леса c помощью кросс-валидации"
   ]
  },
  {
   "cell_type": "code",
   "execution_count": 46,
   "id": "18fd727a-535c-4bc8-b953-f7f4bc5f8bbe",
   "metadata": {
    "tags": []
   },
   "outputs": [
    {
     "name": "stdout",
     "output_type": "stream",
     "text": [
      "Лучшее значение метрики: 25.194 \n",
      "\n",
      "Подобранные гиперпараметры модели\n",
      "CPU times: user 10min 18s, sys: 2.18 s, total: 10min 20s\n",
      "Wall time: 10min 22s\n"
     ]
    },
    {
     "data": {
      "text/plain": [
       "{'max_depth': 12,\n",
       " 'min_samples_leaf': 1,\n",
       " 'min_samples_split': 2,\n",
       " 'n_estimators': 200}"
      ]
     },
     "execution_count": 46,
     "metadata": {},
     "output_type": "execute_result"
    }
   ],
   "source": [
    "%%time\n",
    "params = {\n",
    "    'n_estimators':[100,200,300],\n",
    "    'max_depth':np.arange(10,14,1),\n",
    "    'min_samples_split':np.arange(2,5,1),\n",
    "    'min_samples_leaf':np.arange(1,3,1)\n",
    "         }\n",
    "model_forest = RandomForestRegressor(random_state=RANDOM_STATE)\n",
    "\n",
    "gscv_forest = GridSearchCV(model_forest, params, verbose=False, scoring=rmse_score, cv=tscv)\n",
    "gscv_forest.fit(features_train, target_train)\n",
    "\n",
    "print('Лучшее значение метрики:', -1*round(gscv_forest.best_score_, 3),'\\n')\n",
    "print('Подобранные гиперпараметры модели')\n",
    "gscv_forest.best_params_"
   ]
  },
  {
   "cell_type": "markdown",
   "id": "b0b18895-f718-4b56-aeb1-c745724c323d",
   "metadata": {},
   "source": [
    "Инициализируем лучшую модель на кросс-валидации"
   ]
  },
  {
   "cell_type": "code",
   "execution_count": 47,
   "id": "61e8751e-1caa-4fb7-bf2a-580f781811aa",
   "metadata": {
    "tags": []
   },
   "outputs": [],
   "source": [
    "model_forest = gscv_forest.best_estimator_"
   ]
  },
  {
   "cell_type": "markdown",
   "id": "5f646d0e-5ab0-4d9b-bd75-8869d9cba6cb",
   "metadata": {},
   "source": [
    "Сделаем предсказания на валидационной выборке"
   ]
  },
  {
   "cell_type": "code",
   "execution_count": 48,
   "id": "7cec2f6f-f65b-4709-b248-5a216fa79e5c",
   "metadata": {
    "tags": []
   },
   "outputs": [
    {
     "name": "stdout",
     "output_type": "stream",
     "text": [
      "CPU times: user 27.1 ms, sys: 2.21 ms, total: 29.3 ms\n",
      "Wall time: 27.7 ms\n"
     ]
    }
   ],
   "source": [
    "%%time\n",
    "predtict = model_forest.predict(features_valid)"
   ]
  },
  {
   "cell_type": "markdown",
   "id": "717eee5d-99a4-4128-a2cc-f57a4d9c76ba",
   "metadata": {},
   "source": [
    "Посмотрим на RMSE"
   ]
  },
  {
   "cell_type": "code",
   "execution_count": 49,
   "id": "19ce8ab2-bc13-4897-9e32-ae0ca36b8d78",
   "metadata": {
    "tags": []
   },
   "outputs": [
    {
     "data": {
      "text/plain": [
       "41.06630860715705"
      ]
     },
     "execution_count": 49,
     "metadata": {},
     "output_type": "execute_result"
    }
   ],
   "source": [
    "RMSE(predict, target_valid)"
   ]
  },
  {
   "cell_type": "markdown",
   "id": "df8dc23e-97df-4c90-aa41-87eb29daba3c",
   "metadata": {},
   "source": [
    "Занесем полученные данные в таблицу"
   ]
  },
  {
   "cell_type": "code",
   "execution_count": 50,
   "id": "340b1db4-91ef-4148-a120-bb8ff554317b",
   "metadata": {
    "tags": []
   },
   "outputs": [
    {
     "data": {
      "text/html": [
       "<div>\n",
       "<style scoped>\n",
       "    .dataframe tbody tr th:only-of-type {\n",
       "        vertical-align: middle;\n",
       "    }\n",
       "\n",
       "    .dataframe tbody tr th {\n",
       "        vertical-align: top;\n",
       "    }\n",
       "\n",
       "    .dataframe thead th {\n",
       "        text-align: right;\n",
       "    }\n",
       "</style>\n",
       "<table border=\"1\" class=\"dataframe\">\n",
       "  <thead>\n",
       "    <tr style=\"text-align: right;\">\n",
       "      <th></th>\n",
       "      <th>Модель</th>\n",
       "      <th>Время предсказания</th>\n",
       "      <th>RMSE</th>\n",
       "    </tr>\n",
       "  </thead>\n",
       "  <tbody>\n",
       "    <tr>\n",
       "      <th>0</th>\n",
       "      <td>LinearRegression</td>\n",
       "      <td>0.016</td>\n",
       "      <td>34.29</td>\n",
       "    </tr>\n",
       "    <tr>\n",
       "      <th>1</th>\n",
       "      <td>DecisionTreeRegressor</td>\n",
       "      <td>0.003</td>\n",
       "      <td>41.07</td>\n",
       "    </tr>\n",
       "    <tr>\n",
       "      <th>2</th>\n",
       "      <td>RandomForestRegressor</td>\n",
       "      <td>0.029</td>\n",
       "      <td>41.07</td>\n",
       "    </tr>\n",
       "  </tbody>\n",
       "</table>\n",
       "</div>"
      ],
      "text/plain": [
       "                  Модель  Время предсказания   RMSE\n",
       "0       LinearRegression               0.016  34.29\n",
       "1  DecisionTreeRegressor               0.003  41.07\n",
       "2  RandomForestRegressor               0.029  41.07"
      ]
     },
     "execution_count": 50,
     "metadata": {},
     "output_type": "execute_result"
    }
   ],
   "source": [
    "df_total.loc[2] = ['RandomForestRegressor',\n",
    "                         0.029,\n",
    "                         41.07]\n",
    "df_total"
   ]
  },
  {
   "cell_type": "markdown",
   "id": "f7f27ce6-c2ca-4b84-a1a5-3ac8ed2f5abc",
   "metadata": {
    "tags": []
   },
   "source": [
    "### Модель CatBoostRegressor"
   ]
  },
  {
   "cell_type": "markdown",
   "id": "2d8c9060-ea98-4dd4-a6a6-6c1ac99411ca",
   "metadata": {
    "tags": []
   },
   "source": [
    "Найдем параметры которые будет подбирать GridSearchCV"
   ]
  },
  {
   "cell_type": "code",
   "execution_count": 51,
   "id": "c1e1419f-cc7d-4b8f-9888-a1f371d8f9df",
   "metadata": {
    "tags": []
   },
   "outputs": [
    {
     "name": "stdout",
     "output_type": "stream",
     "text": [
      "Лучшее значение метрики: 24.364 \n",
      "\n",
      "Подобранные гиперпараметры модели\n",
      "CPU times: user 8min 38s, sys: 24.9 s, total: 9min 3s\n",
      "Wall time: 1min 35s\n"
     ]
    },
    {
     "data": {
      "text/plain": [
       "{'depth': 7, 'learning_rate': 0.025}"
      ]
     },
     "execution_count": 51,
     "metadata": {},
     "output_type": "execute_result"
    }
   ],
   "source": [
    "%%time\n",
    "params = [{\n",
    "          'learning_rate': [0.01, 0.025, 0.05],\n",
    "          'depth': [3, 5, 7, 9]\n",
    "         }]\n",
    "model_cbr = CatBoostRegressor(random_state=RANDOM_STATE, verbose=False)\n",
    "\n",
    "gscv_cbr = GridSearchCV(model_cbr, params, verbose=False, scoring=rmse_score, cv=tscv)\n",
    "gscv_cbr.fit(features_train, target_train)\n",
    "\n",
    "print('Лучшее значение метрики:', -round(gscv_cbr.best_score_, 3),'\\n')\n",
    "print('Подобранные гиперпараметры модели')\n",
    "gscv_cbr.best_params_"
   ]
  },
  {
   "cell_type": "markdown",
   "id": "81ccc0e7-094e-455f-a4b1-2045349f863e",
   "metadata": {},
   "source": [
    "Создадим лучшую на GridSearchCV модель "
   ]
  },
  {
   "cell_type": "code",
   "execution_count": 52,
   "id": "9718808c-e199-4b73-8fb0-0c0d113d3704",
   "metadata": {
    "tags": []
   },
   "outputs": [],
   "source": [
    "model_cbr = gscv_cbr.best_estimator_"
   ]
  },
  {
   "cell_type": "markdown",
   "id": "9f95f137-f964-468d-b96f-9422606ac629",
   "metadata": {},
   "source": [
    "Сделаем предсказания на тестовой выборке"
   ]
  },
  {
   "cell_type": "code",
   "execution_count": 53,
   "id": "5fee9d1d-fffe-4dca-8ad6-2e2c17330b1d",
   "metadata": {
    "tags": []
   },
   "outputs": [
    {
     "name": "stdout",
     "output_type": "stream",
     "text": [
      "CPU times: user 3.73 ms, sys: 1.51 ms, total: 5.24 ms\n",
      "Wall time: 2.33 ms\n"
     ]
    }
   ],
   "source": [
    "%%time\n",
    "predict = model_cbr.predict(features_valid)"
   ]
  },
  {
   "cell_type": "markdown",
   "id": "00737e65-3c70-4177-98ea-30678ba6b4df",
   "metadata": {},
   "source": [
    "Подсчитаем RMSE"
   ]
  },
  {
   "cell_type": "code",
   "execution_count": 54,
   "id": "8986243d-ca47-48b9-8b0f-18f1b71bf75d",
   "metadata": {
    "tags": []
   },
   "outputs": [
    {
     "data": {
      "text/plain": [
       "32.068574666664595"
      ]
     },
     "execution_count": 54,
     "metadata": {},
     "output_type": "execute_result"
    }
   ],
   "source": [
    "RMSE(predict, target_valid)"
   ]
  },
  {
   "cell_type": "markdown",
   "id": "82a36dfa-16b9-4282-9174-37dc70d079ae",
   "metadata": {},
   "source": [
    "Занесем данные в таблицу"
   ]
  },
  {
   "cell_type": "code",
   "execution_count": 55,
   "id": "8545fef5-bfac-4428-975f-35224c603e66",
   "metadata": {
    "tags": []
   },
   "outputs": [
    {
     "data": {
      "text/html": [
       "<div>\n",
       "<style scoped>\n",
       "    .dataframe tbody tr th:only-of-type {\n",
       "        vertical-align: middle;\n",
       "    }\n",
       "\n",
       "    .dataframe tbody tr th {\n",
       "        vertical-align: top;\n",
       "    }\n",
       "\n",
       "    .dataframe thead th {\n",
       "        text-align: right;\n",
       "    }\n",
       "</style>\n",
       "<table border=\"1\" class=\"dataframe\">\n",
       "  <thead>\n",
       "    <tr style=\"text-align: right;\">\n",
       "      <th></th>\n",
       "      <th>Модель</th>\n",
       "      <th>Время предсказания</th>\n",
       "      <th>RMSE</th>\n",
       "    </tr>\n",
       "  </thead>\n",
       "  <tbody>\n",
       "    <tr>\n",
       "      <th>0</th>\n",
       "      <td>LinearRegression</td>\n",
       "      <td>0.016</td>\n",
       "      <td>34.29</td>\n",
       "    </tr>\n",
       "    <tr>\n",
       "      <th>1</th>\n",
       "      <td>DecisionTreeRegressor</td>\n",
       "      <td>0.003</td>\n",
       "      <td>41.07</td>\n",
       "    </tr>\n",
       "    <tr>\n",
       "      <th>2</th>\n",
       "      <td>RandomForestRegressor</td>\n",
       "      <td>0.029</td>\n",
       "      <td>41.07</td>\n",
       "    </tr>\n",
       "    <tr>\n",
       "      <th>3</th>\n",
       "      <td>CatBoostRegressor</td>\n",
       "      <td>0.005</td>\n",
       "      <td>32.07</td>\n",
       "    </tr>\n",
       "  </tbody>\n",
       "</table>\n",
       "</div>"
      ],
      "text/plain": [
       "                  Модель  Время предсказания   RMSE\n",
       "0       LinearRegression               0.016  34.29\n",
       "1  DecisionTreeRegressor               0.003  41.07\n",
       "2  RandomForestRegressor               0.029  41.07\n",
       "3      CatBoostRegressor               0.005  32.07"
      ]
     },
     "execution_count": 55,
     "metadata": {},
     "output_type": "execute_result"
    }
   ],
   "source": [
    "df_total.loc[3] = ['CatBoostRegressor',\n",
    "                         0.005,\n",
    "                         32.07]\n",
    "df_total"
   ]
  },
  {
   "cell_type": "markdown",
   "id": "4193d527-86e2-4136-8828-ab01d5e744ca",
   "metadata": {},
   "source": [
    "### Модель LGBMRegressor"
   ]
  },
  {
   "cell_type": "markdown",
   "id": "9116ca71-76fb-42af-9417-3b2635812d8f",
   "metadata": {},
   "source": [
    "Найдем лучшие параметры с помощью кросс-валидации"
   ]
  },
  {
   "cell_type": "code",
   "execution_count": 56,
   "id": "6e89fc97",
   "metadata": {
    "tags": []
   },
   "outputs": [
    {
     "name": "stdout",
     "output_type": "stream",
     "text": [
      "Fitting 3 folds for each of 108 candidates, totalling 324 fits\n",
      "Лучшее значение метрики: 24.725 \n",
      "\n",
      "Подобранные гиперпараметры модели\n",
      "CPU times: user 37min 45s, sys: 1min 23s, total: 39min 8s\n",
      "Wall time: 6min 53s\n"
     ]
    },
    {
     "data": {
      "text/plain": [
       "{'reg__learning_rate': 0.1,\n",
       " 'reg__max_depth': 6,\n",
       " 'reg__min_child_samples': 1,\n",
       " 'reg__n_estimators': 500}"
      ]
     },
     "execution_count": 56,
     "metadata": {},
     "output_type": "execute_result"
    }
   ],
   "source": [
    "%%time\n",
    "params = {\n",
    "      'reg__learning_rate': [1, 0.1, 0.01],\n",
    "      'reg__n_estimators': [100, 300, 500],\n",
    "      'reg__max_depth': [4, 6, 8, 10],\n",
    "      'reg__min_child_samples': [1, 5, 10]\n",
    "  }\n",
    "model_lgbmr = CatBoostRegressor(random_state=RANDOM_STATE, verbose=False)\n",
    "pipeline_lgbmr = Pipeline([('reg', model_lgbmr)])\n",
    "\n",
    "gscv_lgbmr = GridSearchCV(pipeline_lgbmr, params, verbose=True, scoring=rmse_score, cv=tscv)\n",
    "gscv_lgbmr.fit(features_train, target_train)\n",
    "\n",
    "print('Лучшее значение метрики:', -round(gscv_lgbmr.best_score_, 3),'\\n')\n",
    "print('Подобранные гиперпараметры модели')\n",
    "gscv_lgbmr.best_params_"
   ]
  },
  {
   "cell_type": "markdown",
   "id": "12a92dad-5567-47ca-a480-be0c570ac4e3",
   "metadata": {},
   "source": [
    "Инициализируем лучшую модель на валидационной выборке"
   ]
  },
  {
   "cell_type": "code",
   "execution_count": 57,
   "id": "b22618ac",
   "metadata": {
    "tags": []
   },
   "outputs": [],
   "source": [
    "model_lgbmr = gscv_lgbmr.best_estimator_"
   ]
  },
  {
   "cell_type": "markdown",
   "id": "e4494d35-0b76-4cdf-bbde-2b5888ce7716",
   "metadata": {},
   "source": [
    "Найдем предсказания модели"
   ]
  },
  {
   "cell_type": "code",
   "execution_count": 58,
   "id": "c2edbfaf-162f-4787-a5fa-9c324e50f11a",
   "metadata": {
    "tags": []
   },
   "outputs": [
    {
     "name": "stdout",
     "output_type": "stream",
     "text": [
      "CPU times: user 3.33 ms, sys: 1.62 ms, total: 4.96 ms\n",
      "Wall time: 2.27 ms\n"
     ]
    }
   ],
   "source": [
    "%%time\n",
    "predict = model_lgbmr.predict(features_valid)"
   ]
  },
  {
   "cell_type": "markdown",
   "id": "f71465f7-1bdb-4b89-9577-a125cb41ea40",
   "metadata": {},
   "source": [
    "Посмотрим какой RMSE получился у нашей модели"
   ]
  },
  {
   "cell_type": "code",
   "execution_count": 59,
   "id": "dd0df042-1885-413d-be07-4aaa4041f6c3",
   "metadata": {
    "tags": []
   },
   "outputs": [
    {
     "data": {
      "text/plain": [
       "32.29446471134928"
      ]
     },
     "execution_count": 59,
     "metadata": {},
     "output_type": "execute_result"
    }
   ],
   "source": [
    "RMSE(predict, target_valid)"
   ]
  },
  {
   "cell_type": "markdown",
   "id": "c2fcca02-85f0-46f1-8879-ada809e2df45",
   "metadata": {},
   "source": [
    "Занесем данные в таблицу"
   ]
  },
  {
   "cell_type": "code",
   "execution_count": 60,
   "id": "a2f5bd89-2745-40c5-884b-f487c2a1ceaf",
   "metadata": {
    "tags": []
   },
   "outputs": [
    {
     "data": {
      "text/html": [
       "<div>\n",
       "<style scoped>\n",
       "    .dataframe tbody tr th:only-of-type {\n",
       "        vertical-align: middle;\n",
       "    }\n",
       "\n",
       "    .dataframe tbody tr th {\n",
       "        vertical-align: top;\n",
       "    }\n",
       "\n",
       "    .dataframe thead th {\n",
       "        text-align: right;\n",
       "    }\n",
       "</style>\n",
       "<table border=\"1\" class=\"dataframe\">\n",
       "  <thead>\n",
       "    <tr style=\"text-align: right;\">\n",
       "      <th></th>\n",
       "      <th>Модель</th>\n",
       "      <th>Время предсказания</th>\n",
       "      <th>RMSE</th>\n",
       "    </tr>\n",
       "  </thead>\n",
       "  <tbody>\n",
       "    <tr>\n",
       "      <th>0</th>\n",
       "      <td>LinearRegression</td>\n",
       "      <td>0.016</td>\n",
       "      <td>34.29</td>\n",
       "    </tr>\n",
       "    <tr>\n",
       "      <th>1</th>\n",
       "      <td>DecisionTreeRegressor</td>\n",
       "      <td>0.003</td>\n",
       "      <td>41.07</td>\n",
       "    </tr>\n",
       "    <tr>\n",
       "      <th>2</th>\n",
       "      <td>RandomForestRegressor</td>\n",
       "      <td>0.029</td>\n",
       "      <td>41.07</td>\n",
       "    </tr>\n",
       "    <tr>\n",
       "      <th>3</th>\n",
       "      <td>CatBoostRegressor</td>\n",
       "      <td>0.005</td>\n",
       "      <td>32.07</td>\n",
       "    </tr>\n",
       "    <tr>\n",
       "      <th>4</th>\n",
       "      <td>LGBMRegressor</td>\n",
       "      <td>0.005</td>\n",
       "      <td>32.29</td>\n",
       "    </tr>\n",
       "  </tbody>\n",
       "</table>\n",
       "</div>"
      ],
      "text/plain": [
       "                  Модель  Время предсказания   RMSE\n",
       "0       LinearRegression               0.016  34.29\n",
       "1  DecisionTreeRegressor               0.003  41.07\n",
       "2  RandomForestRegressor               0.029  41.07\n",
       "3      CatBoostRegressor               0.005  32.07\n",
       "4          LGBMRegressor               0.005  32.29"
      ]
     },
     "execution_count": 60,
     "metadata": {},
     "output_type": "execute_result"
    }
   ],
   "source": [
    "df_total.loc[4] = (['LGBMRegressor',\n",
    "                         0.005,\n",
    "                         32.29])\n",
    "df_total"
   ]
  },
  {
   "cell_type": "markdown",
   "id": "5adf8e0b",
   "metadata": {},
   "source": [
    "Так как RMSE всех моделей на валидационных данных удовлетворяет условию RMSE < 48, и разница между моделями не особо большая, возьмем Модель CatBoostRegressor, она не такая быстрая как другие модель за то намного проще в обучении "
   ]
  },
  {
   "cell_type": "markdown",
   "id": "b2505eae-32f3-4ce3-9b15-d54e21751e6f",
   "metadata": {},
   "source": [
    "## Анализ лучшей модели"
   ]
  },
  {
   "cell_type": "markdown",
   "id": "160b35bc-0db5-4c65-adc3-eb15d61def8b",
   "metadata": {},
   "source": [
    "Инициализируем лучшую модель"
   ]
  },
  {
   "cell_type": "code",
   "execution_count": 61,
   "id": "2ced2978-49fa-4b47-b4ca-f9db09d70cc1",
   "metadata": {},
   "outputs": [],
   "source": [
    "best_model = model_cbr"
   ]
  },
  {
   "cell_type": "markdown",
   "id": "0a9957ba-3a6a-4205-ad86-c43f6c5cd47c",
   "metadata": {},
   "source": [
    "Дополним обучающую выборку валидационной"
   ]
  },
  {
   "cell_type": "code",
   "execution_count": 62,
   "id": "b4a67899-8717-4619-bbd5-4f00e6913d89",
   "metadata": {},
   "outputs": [],
   "source": [
    "features_train = pd.concat([features_train,features_valid], ignore_index=True)\n",
    "target_train = pd.concat([target_train, target_valid], ignore_index=True)"
   ]
  },
  {
   "cell_type": "markdown",
   "id": "04d27844-747e-438b-a4de-22ed3d82e109",
   "metadata": {},
   "source": [
    "Обучим нашу лучшую модель на обновленных тренировочных данных "
   ]
  },
  {
   "cell_type": "code",
   "execution_count": 63,
   "id": "efdfe5c9-c9d7-4fdd-86e5-ec1a5f36078f",
   "metadata": {
    "tags": []
   },
   "outputs": [
    {
     "data": {
      "text/plain": [
       "<catboost.core.CatBoostRegressor at 0x13c5994d0>"
      ]
     },
     "execution_count": 63,
     "metadata": {},
     "output_type": "execute_result"
    }
   ],
   "source": [
    "best_model.fit(features_train, target_train);"
   ]
  },
  {
   "cell_type": "markdown",
   "id": "031f6569-806a-46b9-a110-a46da9d5bf17",
   "metadata": {
    "tags": []
   },
   "source": [
    "Сделаем предсказания на тестовой выборке"
   ]
  },
  {
   "cell_type": "code",
   "execution_count": 65,
   "id": "5caac311-84fb-4e81-8686-7d3ce2ae7184",
   "metadata": {
    "tags": []
   },
   "outputs": [
    {
     "name": "stdout",
     "output_type": "stream",
     "text": [
      "CPU times: user 5.67 ms, sys: 3.77 ms, total: 9.44 ms\n",
      "Wall time: 5.62 ms\n"
     ]
    }
   ],
   "source": [
    "%%time\n",
    "predict = model_cbr.predict(features_test)"
   ]
  },
  {
   "cell_type": "markdown",
   "id": "108a2f07-142f-4af6-8591-ae93883d76fd",
   "metadata": {
    "tags": []
   },
   "source": [
    "Посмотрим на RMSE"
   ]
  },
  {
   "cell_type": "code",
   "execution_count": 66,
   "id": "5eaf7b47-2948-4a86-851b-8c2b3490321d",
   "metadata": {
    "tags": []
   },
   "outputs": [
    {
     "data": {
      "text/plain": [
       "41.36808650216473"
      ]
     },
     "execution_count": 66,
     "metadata": {},
     "output_type": "execute_result"
    }
   ],
   "source": [
    "RMSE(predict, target_test)"
   ]
  },
  {
   "cell_type": "markdown",
   "id": "e62d0894-c080-407b-9038-37ccf1d45273",
   "metadata": {},
   "source": [
    "RMSE удовлетворяет нашему условию RMSE=41.37"
   ]
  },
  {
   "cell_type": "markdown",
   "id": "f41a65ea-09a2-464a-bf7a-e74f6f726e89",
   "metadata": {},
   "source": [
    "## Вывод:\n",
    "* Знакомство с данными\n",
    "    * Загрузили и сохранили данные в датафрейм **df**\n",
    "    * Проблем в данных не было обнаружено\n",
    "    * Целевая переменная принимает распределение Пуассона, что ей должно быть и свойственно \n",
    "* Предобработка\n",
    "    * Изменили типы данных\n",
    "        * **datetime** object -> datetime\n",
    "        * **num_orders** int64 -> uint16\n",
    "    * Индексами нашего датафрейма стал столбец **datetime**\n",
    "    * Проресемплировали данные по одному часу\n",
    "    * Создали новые столбцы:\n",
    "        * **year** - год заказа\n",
    "        * **month** - месяц заказа\n",
    "        * **day** - день заказа\n",
    "        * **day_of_week** - день недели заказа\n",
    "        * **lag_N** - данные за N дней назад\n",
    "        * **rolling_mean** - Скользящее среднее за 5 дней\n",
    "    * Выбросы были только в целевом признаки, но было принято решение не удалять данные\n",
    "* Анализ данных\n",
    "    * Количество заказов такси каждый постоянно растет, а за 5 месяцев количество заказов выросло в 2 раза, что может говорить что фирма развивается и у нее появляются новые клиенты\n",
    "    * Есть суточная сезонность. Ночью количество заказов близко к нулю, а утром, в обед и вечером достигаются локальные максимумы дня\n",
    "* подготовка данных\n",
    "    * Разбили данные на признаки и целевой признак\n",
    "    * Разделили данные на обучающую, тестовые и валидационную выборки\n",
    "    * Написали функцию RMSE\n",
    "* Обучение моделей\n",
    "    * Мы нашли лучшие параметры и обучили 3 модели:\n",
    "        * LinearRegression\n",
    "        * CatBoostRegressor\n",
    "        * LGBMRegressor\n",
    "    * RMSE всех моделей на валидационных данных удовлетворяло условию RMSE < 48, а разница между моделями не особо большая, возьмем Модель CatBoostRegressor, она не такая быстрая в предсказании как другие модель за то намного проще в обучении. Мы обучили модель CatBoostRegressor на тестовой выборке и получили такие результаты\n",
    "        * Время предсказания: 9 ms\n",
    "        * RMSE: 41.37"
   ]
  }
 ],
 "metadata": {
  "ExecuteTimeLog": [
   {
    "duration": 7819,
    "start_time": "2023-10-11T21:32:59.902Z"
   },
   {
    "duration": 1010,
    "start_time": "2023-10-11T21:33:07.802Z"
   },
   {
    "duration": 0,
    "start_time": "2023-10-11T21:33:08.817Z"
   },
   {
    "duration": 0,
    "start_time": "2023-10-11T21:33:08.819Z"
   },
   {
    "duration": 1,
    "start_time": "2023-10-11T21:33:08.820Z"
   },
   {
    "duration": 0,
    "start_time": "2023-10-11T21:33:08.822Z"
   },
   {
    "duration": 0,
    "start_time": "2023-10-11T21:33:08.824Z"
   },
   {
    "duration": 0,
    "start_time": "2023-10-11T21:33:08.826Z"
   },
   {
    "duration": 0,
    "start_time": "2023-10-11T21:33:08.828Z"
   },
   {
    "duration": 0,
    "start_time": "2023-10-11T21:33:08.910Z"
   },
   {
    "duration": 0,
    "start_time": "2023-10-11T21:33:08.912Z"
   },
   {
    "duration": 0,
    "start_time": "2023-10-11T21:33:08.913Z"
   },
   {
    "duration": 0,
    "start_time": "2023-10-11T21:33:08.915Z"
   },
   {
    "duration": 0,
    "start_time": "2023-10-11T21:33:08.918Z"
   },
   {
    "duration": 1,
    "start_time": "2023-10-11T21:33:08.921Z"
   },
   {
    "duration": 0,
    "start_time": "2023-10-11T21:33:08.924Z"
   },
   {
    "duration": 0,
    "start_time": "2023-10-11T21:33:08.926Z"
   },
   {
    "duration": 0,
    "start_time": "2023-10-11T21:33:09.002Z"
   },
   {
    "duration": 0,
    "start_time": "2023-10-11T21:33:09.005Z"
   },
   {
    "duration": 0,
    "start_time": "2023-10-11T21:33:09.008Z"
   },
   {
    "duration": 0,
    "start_time": "2023-10-11T21:33:09.012Z"
   },
   {
    "duration": 0,
    "start_time": "2023-10-11T21:33:09.019Z"
   },
   {
    "duration": 0,
    "start_time": "2023-10-11T21:33:09.102Z"
   },
   {
    "duration": 1,
    "start_time": "2023-10-11T21:33:09.109Z"
   },
   {
    "duration": 0,
    "start_time": "2023-10-11T21:33:09.114Z"
   },
   {
    "duration": 0,
    "start_time": "2023-10-11T21:33:09.118Z"
   },
   {
    "duration": 0,
    "start_time": "2023-10-11T21:33:09.120Z"
   },
   {
    "duration": 0,
    "start_time": "2023-10-11T21:33:09.123Z"
   },
   {
    "duration": 0,
    "start_time": "2023-10-11T21:33:09.202Z"
   },
   {
    "duration": 0,
    "start_time": "2023-10-11T21:33:09.205Z"
   },
   {
    "duration": 0,
    "start_time": "2023-10-11T21:33:09.209Z"
   },
   {
    "duration": 0,
    "start_time": "2023-10-11T21:33:09.213Z"
   },
   {
    "duration": 0,
    "start_time": "2023-10-11T21:33:09.218Z"
   },
   {
    "duration": 0,
    "start_time": "2023-10-11T21:33:09.223Z"
   },
   {
    "duration": 0,
    "start_time": "2023-10-11T21:33:09.225Z"
   },
   {
    "duration": 0,
    "start_time": "2023-10-11T21:33:09.226Z"
   },
   {
    "duration": 0,
    "start_time": "2023-10-11T21:33:09.227Z"
   },
   {
    "duration": 0,
    "start_time": "2023-10-11T21:33:09.228Z"
   },
   {
    "duration": 0,
    "start_time": "2023-10-11T21:33:09.306Z"
   },
   {
    "duration": 0,
    "start_time": "2023-10-11T21:33:09.310Z"
   },
   {
    "duration": 0,
    "start_time": "2023-10-11T21:33:09.314Z"
   },
   {
    "duration": 0,
    "start_time": "2023-10-11T21:33:09.318Z"
   },
   {
    "duration": 0,
    "start_time": "2023-10-11T21:33:09.320Z"
   },
   {
    "duration": 0,
    "start_time": "2023-10-11T21:33:09.400Z"
   },
   {
    "duration": 0,
    "start_time": "2023-10-11T21:33:09.403Z"
   },
   {
    "duration": 0,
    "start_time": "2023-10-11T21:33:09.405Z"
   },
   {
    "duration": 0,
    "start_time": "2023-10-11T21:33:09.407Z"
   },
   {
    "duration": 0,
    "start_time": "2023-10-11T21:33:09.410Z"
   },
   {
    "duration": 0,
    "start_time": "2023-10-11T21:33:09.413Z"
   },
   {
    "duration": 0,
    "start_time": "2023-10-11T21:33:09.415Z"
   },
   {
    "duration": 0,
    "start_time": "2023-10-11T21:33:09.418Z"
   },
   {
    "duration": 0,
    "start_time": "2023-10-11T21:33:09.421Z"
   },
   {
    "duration": 0,
    "start_time": "2023-10-11T21:33:09.423Z"
   },
   {
    "duration": 0,
    "start_time": "2023-10-11T21:33:09.426Z"
   },
   {
    "duration": 0,
    "start_time": "2023-10-11T21:33:09.428Z"
   },
   {
    "duration": 0,
    "start_time": "2023-10-11T21:33:09.429Z"
   },
   {
    "duration": 0,
    "start_time": "2023-10-11T21:33:09.430Z"
   },
   {
    "duration": 507,
    "start_time": "2023-10-11T21:33:21.103Z"
   },
   {
    "duration": 10,
    "start_time": "2023-10-11T21:33:26.004Z"
   },
   {
    "duration": 304,
    "start_time": "2023-10-11T21:33:26.017Z"
   },
   {
    "duration": 89,
    "start_time": "2023-10-11T21:33:26.325Z"
   },
   {
    "duration": 287,
    "start_time": "2023-10-11T21:33:26.417Z"
   },
   {
    "duration": 96,
    "start_time": "2023-10-11T21:33:26.713Z"
   },
   {
    "duration": 179,
    "start_time": "2023-10-11T21:33:26.823Z"
   },
   {
    "duration": 4804,
    "start_time": "2023-10-11T21:33:27.008Z"
   },
   {
    "duration": 106,
    "start_time": "2023-10-11T21:33:31.815Z"
   },
   {
    "duration": 91,
    "start_time": "2023-10-11T21:33:31.924Z"
   },
   {
    "duration": 90,
    "start_time": "2023-10-11T21:33:32.021Z"
   },
   {
    "duration": 189,
    "start_time": "2023-10-11T21:33:32.113Z"
   },
   {
    "duration": 803,
    "start_time": "2023-10-11T21:33:32.304Z"
   },
   {
    "duration": 97,
    "start_time": "2023-10-11T21:33:33.114Z"
   },
   {
    "duration": 7,
    "start_time": "2023-10-11T21:33:33.220Z"
   },
   {
    "duration": 108,
    "start_time": "2023-10-11T21:33:33.304Z"
   },
   {
    "duration": 186,
    "start_time": "2023-10-11T21:33:33.414Z"
   },
   {
    "duration": 18,
    "start_time": "2023-10-11T21:33:33.603Z"
   },
   {
    "duration": 297,
    "start_time": "2023-10-11T21:33:33.628Z"
   },
   {
    "duration": 85,
    "start_time": "2023-10-11T21:33:33.927Z"
   },
   {
    "duration": 13107,
    "start_time": "2023-10-11T21:33:34.015Z"
   },
   {
    "duration": 79,
    "start_time": "2023-10-11T21:33:47.124Z"
   },
   {
    "duration": 14,
    "start_time": "2023-10-11T21:33:47.206Z"
   },
   {
    "duration": 93,
    "start_time": "2023-10-11T21:33:47.223Z"
   },
   {
    "duration": 82,
    "start_time": "2023-10-11T21:33:47.319Z"
   },
   {
    "duration": 6,
    "start_time": "2023-10-11T21:33:47.404Z"
   },
   {
    "duration": 2292,
    "start_time": "2023-10-11T21:33:47.414Z"
   },
   {
    "duration": 2319,
    "start_time": "2023-10-11T21:33:49.709Z"
   },
   {
    "duration": 3124,
    "start_time": "2023-10-11T21:33:52.103Z"
   },
   {
    "duration": 79,
    "start_time": "2023-10-11T21:33:55.230Z"
   },
   {
    "duration": 85,
    "start_time": "2023-10-11T21:33:55.320Z"
   },
   {
    "duration": 11,
    "start_time": "2023-10-11T21:33:55.406Z"
   },
   {
    "duration": 11,
    "start_time": "2023-10-11T21:33:55.502Z"
   },
   {
    "duration": 6,
    "start_time": "2023-10-11T21:33:55.516Z"
   },
   {
    "duration": 13,
    "start_time": "2023-10-11T21:33:55.602Z"
   },
   {
    "duration": 292,
    "start_time": "2023-10-11T21:33:55.617Z"
   },
   {
    "duration": 210,
    "start_time": "2023-10-11T21:33:55.915Z"
   },
   {
    "duration": 17,
    "start_time": "2023-10-11T21:33:56.207Z"
   },
   {
    "duration": 89,
    "start_time": "2023-10-11T21:33:56.229Z"
   },
   {
    "duration": 83,
    "start_time": "2023-10-11T21:33:56.320Z"
   },
   {
    "duration": 24,
    "start_time": "2023-10-11T21:33:56.405Z"
   },
   {
    "duration": 824415,
    "start_time": "2023-10-11T21:33:56.506Z"
   },
   {
    "duration": 6,
    "start_time": "2023-10-11T21:47:41.003Z"
   },
   {
    "duration": 52704,
    "start_time": "2023-10-11T21:47:41.012Z"
   },
   {
    "duration": 99,
    "start_time": "2023-10-11T21:48:33.722Z"
   },
   {
    "duration": 86,
    "start_time": "2023-10-11T21:48:33.823Z"
   },
   {
    "duration": 93,
    "start_time": "2023-10-11T21:48:33.911Z"
   },
   {
    "duration": 91,
    "start_time": "2023-10-11T21:48:34.012Z"
   },
   {
    "duration": 197,
    "start_time": "2023-10-11T21:48:34.110Z"
   },
   {
    "duration": 9,
    "start_time": "2023-10-11T21:48:34.319Z"
   },
   {
    "duration": 235,
    "start_time": "2023-10-11T23:10:26.010Z"
   },
   {
    "duration": 4798,
    "start_time": "2023-10-11T23:10:38.830Z"
   },
   {
    "duration": 192,
    "start_time": "2023-10-11T23:10:43.638Z"
   },
   {
    "duration": 87,
    "start_time": "2023-10-11T23:10:43.833Z"
   },
   {
    "duration": 94,
    "start_time": "2023-10-11T23:10:43.935Z"
   },
   {
    "duration": 84,
    "start_time": "2023-10-11T23:10:44.038Z"
   },
   {
    "duration": 88,
    "start_time": "2023-10-11T23:10:44.128Z"
   },
   {
    "duration": 3590,
    "start_time": "2023-10-11T23:10:44.223Z"
   },
   {
    "duration": 89,
    "start_time": "2023-10-11T23:10:47.823Z"
   },
   {
    "duration": 19,
    "start_time": "2023-10-11T23:10:47.919Z"
   },
   {
    "duration": 22,
    "start_time": "2023-10-11T23:10:48.007Z"
   },
   {
    "duration": 80,
    "start_time": "2023-10-11T23:10:48.035Z"
   },
   {
    "duration": 115,
    "start_time": "2023-10-11T23:10:48.121Z"
   },
   {
    "duration": 20,
    "start_time": "2023-10-11T23:10:48.304Z"
   },
   {
    "duration": 80,
    "start_time": "2023-10-11T23:10:48.339Z"
   },
   {
    "duration": 88,
    "start_time": "2023-10-11T23:10:48.426Z"
   },
   {
    "duration": 213,
    "start_time": "2023-10-11T23:10:48.531Z"
   },
   {
    "duration": 66,
    "start_time": "2023-10-11T23:10:48.746Z"
   },
   {
    "duration": 107,
    "start_time": "2023-10-11T23:10:48.820Z"
   },
   {
    "duration": 74,
    "start_time": "2023-10-11T23:10:48.944Z"
   },
   {
    "duration": 9504,
    "start_time": "2023-10-11T23:10:49.032Z"
   },
   {
    "duration": 75,
    "start_time": "2023-10-11T23:10:58.543Z"
   },
   {
    "duration": 491,
    "start_time": "2023-10-11T23:10:58.628Z"
   },
   {
    "duration": 91,
    "start_time": "2023-10-11T23:10:59.125Z"
   },
   {
    "duration": 86,
    "start_time": "2023-10-11T23:10:59.219Z"
   },
   {
    "duration": 113,
    "start_time": "2023-10-11T23:10:59.307Z"
   },
   {
    "duration": 1982,
    "start_time": "2023-10-11T23:10:59.422Z"
   },
   {
    "duration": 1501,
    "start_time": "2023-10-11T23:11:01.405Z"
   },
   {
    "duration": 2396,
    "start_time": "2023-10-11T23:11:02.908Z"
   },
   {
    "duration": 11,
    "start_time": "2023-10-11T23:11:05.306Z"
   },
   {
    "duration": 92,
    "start_time": "2023-10-11T23:11:05.318Z"
   },
   {
    "duration": 94,
    "start_time": "2023-10-11T23:11:05.415Z"
   },
   {
    "duration": 73,
    "start_time": "2023-10-11T23:11:05.535Z"
   },
   {
    "duration": 119,
    "start_time": "2023-10-11T23:11:05.612Z"
   },
   {
    "duration": 103,
    "start_time": "2023-10-11T23:11:05.734Z"
   },
   {
    "duration": 364,
    "start_time": "2023-10-11T23:11:05.843Z"
   },
   {
    "duration": 186,
    "start_time": "2023-10-11T23:11:06.215Z"
   },
   {
    "duration": 12,
    "start_time": "2023-10-11T23:11:06.408Z"
   },
   {
    "duration": 79,
    "start_time": "2023-10-11T23:11:06.427Z"
   },
   {
    "duration": 13,
    "start_time": "2023-10-11T23:11:29.102Z"
   },
   {
    "duration": 10,
    "start_time": "2023-10-11T23:11:31.306Z"
   },
   {
    "duration": 15,
    "start_time": "2023-10-11T23:11:33.403Z"
   },
   {
    "duration": 4,
    "start_time": "2023-10-11T23:11:35.104Z"
   },
   {
    "duration": 5710,
    "start_time": "2023-10-11T23:28:53.419Z"
   },
   {
    "duration": 192,
    "start_time": "2023-10-11T23:28:59.217Z"
   },
   {
    "duration": 89,
    "start_time": "2023-10-11T23:28:59.413Z"
   },
   {
    "duration": 109,
    "start_time": "2023-10-11T23:28:59.512Z"
   },
   {
    "duration": 82,
    "start_time": "2023-10-11T23:28:59.635Z"
   },
   {
    "duration": 119,
    "start_time": "2023-10-11T23:28:59.725Z"
   },
   {
    "duration": 3678,
    "start_time": "2023-10-11T23:28:59.848Z"
   },
   {
    "duration": 185,
    "start_time": "2023-10-11T23:29:03.530Z"
   },
   {
    "duration": 109,
    "start_time": "2023-10-11T23:29:03.723Z"
   },
   {
    "duration": 94,
    "start_time": "2023-10-11T23:29:03.839Z"
   },
   {
    "duration": 87,
    "start_time": "2023-10-11T23:29:03.938Z"
   },
   {
    "duration": 89,
    "start_time": "2023-10-11T23:29:04.036Z"
   },
   {
    "duration": 165,
    "start_time": "2023-10-11T23:29:04.136Z"
   },
   {
    "duration": 8,
    "start_time": "2023-10-11T23:29:04.308Z"
   },
   {
    "duration": 183,
    "start_time": "2023-10-11T23:29:04.320Z"
   },
   {
    "duration": 129,
    "start_time": "2023-10-11T23:29:04.510Z"
   },
   {
    "duration": 96,
    "start_time": "2023-10-11T23:29:04.706Z"
   },
   {
    "duration": 105,
    "start_time": "2023-10-11T23:29:04.815Z"
   },
   {
    "duration": 387,
    "start_time": "2023-10-11T23:29:04.922Z"
   },
   {
    "duration": 9399,
    "start_time": "2023-10-11T23:29:05.311Z"
   },
   {
    "duration": 95,
    "start_time": "2023-10-11T23:29:14.712Z"
   },
   {
    "duration": 97,
    "start_time": "2023-10-11T23:29:14.819Z"
   },
   {
    "duration": 15,
    "start_time": "2023-10-11T23:29:14.921Z"
   },
   {
    "duration": 22,
    "start_time": "2023-10-11T23:29:15.000Z"
   },
   {
    "duration": 177,
    "start_time": "2023-10-11T23:29:15.029Z"
   },
   {
    "duration": 1936,
    "start_time": "2023-10-11T23:29:15.212Z"
   },
   {
    "duration": 1423,
    "start_time": "2023-10-11T23:29:17.219Z"
   },
   {
    "duration": 2100,
    "start_time": "2023-10-11T23:29:18.710Z"
   },
   {
    "duration": 9,
    "start_time": "2023-10-11T23:29:20.812Z"
   },
   {
    "duration": 111,
    "start_time": "2023-10-11T23:29:20.827Z"
   },
   {
    "duration": 25,
    "start_time": "2023-10-11T23:29:21.003Z"
   },
   {
    "duration": 272,
    "start_time": "2023-10-11T23:29:21.040Z"
   },
   {
    "duration": 15,
    "start_time": "2023-10-11T23:29:21.316Z"
   },
   {
    "duration": 68,
    "start_time": "2023-10-11T23:29:21.335Z"
   },
   {
    "duration": 326,
    "start_time": "2023-10-11T23:29:21.405Z"
   },
   {
    "duration": 209,
    "start_time": "2023-10-11T23:29:21.815Z"
   },
   {
    "duration": 60,
    "start_time": "2023-10-11T23:29:22.045Z"
   },
   {
    "duration": 47,
    "start_time": "2023-10-11T23:29:22.108Z"
   },
   {
    "duration": 45,
    "start_time": "2023-10-11T23:29:22.157Z"
   },
   {
    "duration": 32,
    "start_time": "2023-10-11T23:29:22.206Z"
   },
   {
    "duration": 607571,
    "start_time": "2023-10-11T23:29:22.241Z"
   },
   {
    "duration": 90,
    "start_time": "2023-10-11T23:39:29.819Z"
   },
   {
    "duration": 41215,
    "start_time": "2023-10-11T23:39:29.912Z"
   },
   {
    "duration": 86,
    "start_time": "2023-10-11T23:40:11.129Z"
   },
   {
    "duration": 88,
    "start_time": "2023-10-11T23:40:11.221Z"
   },
   {
    "duration": 97,
    "start_time": "2023-10-11T23:40:11.315Z"
   },
   {
    "duration": 15,
    "start_time": "2023-10-11T23:42:05.301Z"
   },
   {
    "duration": 12,
    "start_time": "2023-10-11T23:42:08.104Z"
   },
   {
    "duration": 5518,
    "start_time": "2023-10-11T23:50:05.101Z"
   },
   {
    "duration": 200,
    "start_time": "2023-10-11T23:50:10.622Z"
   },
   {
    "duration": 104,
    "start_time": "2023-10-11T23:50:10.906Z"
   },
   {
    "duration": 111,
    "start_time": "2023-10-11T23:50:11.016Z"
   },
   {
    "duration": 105,
    "start_time": "2023-10-11T23:50:11.202Z"
   },
   {
    "duration": 92,
    "start_time": "2023-10-11T23:50:11.315Z"
   },
   {
    "duration": 4685,
    "start_time": "2023-10-11T23:50:11.415Z"
   },
   {
    "duration": 110,
    "start_time": "2023-10-11T23:50:16.103Z"
   },
   {
    "duration": 304,
    "start_time": "2023-10-11T23:50:16.225Z"
   },
   {
    "duration": 74,
    "start_time": "2023-10-11T23:50:16.531Z"
   },
   {
    "duration": 102,
    "start_time": "2023-10-11T23:50:16.607Z"
   },
   {
    "duration": 105,
    "start_time": "2023-10-11T23:50:16.715Z"
   },
   {
    "duration": 177,
    "start_time": "2023-10-11T23:50:16.827Z"
   },
   {
    "duration": 81,
    "start_time": "2023-10-11T23:50:17.023Z"
   },
   {
    "duration": 193,
    "start_time": "2023-10-11T23:50:17.109Z"
   },
   {
    "duration": 209,
    "start_time": "2023-10-11T23:50:17.305Z"
   },
   {
    "duration": 100,
    "start_time": "2023-10-11T23:50:17.519Z"
   },
   {
    "duration": 95,
    "start_time": "2023-10-11T23:50:17.624Z"
   },
   {
    "duration": 88,
    "start_time": "2023-10-11T23:50:17.721Z"
   },
   {
    "duration": 11492,
    "start_time": "2023-10-11T23:50:17.812Z"
   },
   {
    "duration": 18,
    "start_time": "2023-10-11T23:50:29.306Z"
   },
   {
    "duration": 101,
    "start_time": "2023-10-11T23:50:29.401Z"
   },
   {
    "duration": 12,
    "start_time": "2023-10-11T23:50:29.507Z"
   },
   {
    "duration": 83,
    "start_time": "2023-10-11T23:50:29.523Z"
   },
   {
    "duration": 11,
    "start_time": "2023-10-11T23:50:29.615Z"
   },
   {
    "duration": 2304,
    "start_time": "2023-10-11T23:50:29.701Z"
   },
   {
    "duration": 1707,
    "start_time": "2023-10-11T23:50:32.007Z"
   },
   {
    "duration": 2600,
    "start_time": "2023-10-11T23:50:33.716Z"
   },
   {
    "duration": 88,
    "start_time": "2023-10-11T23:50:36.321Z"
   },
   {
    "duration": 7,
    "start_time": "2023-10-11T23:50:36.421Z"
   },
   {
    "duration": 22,
    "start_time": "2023-10-11T23:50:36.502Z"
   },
   {
    "duration": 13,
    "start_time": "2023-10-11T23:50:36.606Z"
   },
   {
    "duration": 85,
    "start_time": "2023-10-11T23:50:36.621Z"
   },
   {
    "duration": 915,
    "start_time": "2023-10-11T23:51:19.002Z"
   },
   {
    "duration": 8,
    "start_time": "2023-10-11T23:51:24.103Z"
   },
   {
    "duration": 301,
    "start_time": "2023-10-11T23:55:56.509Z"
   },
   {
    "duration": 0,
    "start_time": "2023-10-11T23:55:56.812Z"
   },
   {
    "duration": 0,
    "start_time": "2023-10-11T23:55:56.817Z"
   },
   {
    "duration": 0,
    "start_time": "2023-10-11T23:55:56.818Z"
   },
   {
    "duration": 0,
    "start_time": "2023-10-11T23:55:56.822Z"
   },
   {
    "duration": 0,
    "start_time": "2023-10-11T23:55:56.900Z"
   },
   {
    "duration": 0,
    "start_time": "2023-10-11T23:55:56.909Z"
   },
   {
    "duration": 0,
    "start_time": "2023-10-11T23:55:56.911Z"
   },
   {
    "duration": 0,
    "start_time": "2023-10-11T23:55:56.914Z"
   },
   {
    "duration": 0,
    "start_time": "2023-10-11T23:55:56.915Z"
   },
   {
    "duration": 0,
    "start_time": "2023-10-11T23:55:56.920Z"
   },
   {
    "duration": 1,
    "start_time": "2023-10-11T23:55:56.922Z"
   },
   {
    "duration": 0,
    "start_time": "2023-10-11T23:55:56.924Z"
   },
   {
    "duration": 0,
    "start_time": "2023-10-11T23:55:56.926Z"
   },
   {
    "duration": 0,
    "start_time": "2023-10-11T23:55:56.928Z"
   },
   {
    "duration": 1,
    "start_time": "2023-10-11T23:55:57.002Z"
   },
   {
    "duration": 0,
    "start_time": "2023-10-11T23:55:57.008Z"
   },
   {
    "duration": 0,
    "start_time": "2023-10-11T23:55:57.010Z"
   },
   {
    "duration": 0,
    "start_time": "2023-10-11T23:55:57.012Z"
   },
   {
    "duration": 0,
    "start_time": "2023-10-11T23:55:57.014Z"
   },
   {
    "duration": 0,
    "start_time": "2023-10-11T23:55:57.016Z"
   },
   {
    "duration": 0,
    "start_time": "2023-10-11T23:55:57.021Z"
   },
   {
    "duration": 0,
    "start_time": "2023-10-11T23:55:57.022Z"
   },
   {
    "duration": 0,
    "start_time": "2023-10-11T23:55:57.025Z"
   },
   {
    "duration": 0,
    "start_time": "2023-10-11T23:55:57.026Z"
   },
   {
    "duration": 0,
    "start_time": "2023-10-11T23:55:57.027Z"
   },
   {
    "duration": 0,
    "start_time": "2023-10-11T23:55:57.029Z"
   },
   {
    "duration": 0,
    "start_time": "2023-10-11T23:55:57.103Z"
   },
   {
    "duration": 0,
    "start_time": "2023-10-11T23:55:57.108Z"
   },
   {
    "duration": 0,
    "start_time": "2023-10-11T23:55:57.109Z"
   },
   {
    "duration": 0,
    "start_time": "2023-10-11T23:55:57.113Z"
   },
   {
    "duration": 0,
    "start_time": "2023-10-11T23:55:57.114Z"
   },
   {
    "duration": 0,
    "start_time": "2023-10-11T23:55:57.121Z"
   },
   {
    "duration": 5425,
    "start_time": "2023-10-11T23:57:04.802Z"
   },
   {
    "duration": 5609,
    "start_time": "2023-10-11T23:57:37.201Z"
   },
   {
    "duration": 181,
    "start_time": "2023-10-11T23:57:42.822Z"
   },
   {
    "duration": 19,
    "start_time": "2023-10-11T23:57:43.007Z"
   },
   {
    "duration": 205,
    "start_time": "2023-10-11T23:57:43.101Z"
   },
   {
    "duration": 97,
    "start_time": "2023-10-11T23:57:43.314Z"
   },
   {
    "duration": 104,
    "start_time": "2023-10-11T23:57:43.414Z"
   },
   {
    "duration": 4490,
    "start_time": "2023-10-11T23:57:43.521Z"
   },
   {
    "duration": 101,
    "start_time": "2023-10-11T23:57:48.013Z"
   },
   {
    "duration": 94,
    "start_time": "2023-10-11T23:57:48.120Z"
   },
   {
    "duration": 98,
    "start_time": "2023-10-11T23:57:48.220Z"
   },
   {
    "duration": 92,
    "start_time": "2023-10-11T23:57:48.321Z"
   },
   {
    "duration": 194,
    "start_time": "2023-10-11T23:57:48.416Z"
   },
   {
    "duration": 94,
    "start_time": "2023-10-11T23:57:48.615Z"
   },
   {
    "duration": 8,
    "start_time": "2023-10-11T23:57:48.719Z"
   },
   {
    "duration": 111,
    "start_time": "2023-10-11T23:57:48.800Z"
   },
   {
    "duration": 304,
    "start_time": "2023-10-11T23:57:48.918Z"
   },
   {
    "duration": 89,
    "start_time": "2023-10-11T23:57:49.225Z"
   },
   {
    "duration": 96,
    "start_time": "2023-10-11T23:57:49.316Z"
   },
   {
    "duration": 85,
    "start_time": "2023-10-11T23:57:49.422Z"
   },
   {
    "duration": 10013,
    "start_time": "2023-10-11T23:57:49.515Z"
   },
   {
    "duration": 84,
    "start_time": "2023-10-11T23:57:59.535Z"
   },
   {
    "duration": 178,
    "start_time": "2023-10-11T23:57:59.632Z"
   },
   {
    "duration": 20,
    "start_time": "2023-10-11T23:57:59.815Z"
   },
   {
    "duration": 80,
    "start_time": "2023-10-11T23:57:59.836Z"
   },
   {
    "duration": 103,
    "start_time": "2023-10-11T23:57:59.918Z"
   },
   {
    "duration": 2488,
    "start_time": "2023-10-11T23:58:00.022Z"
   },
   {
    "duration": 1587,
    "start_time": "2023-10-11T23:58:02.513Z"
   },
   {
    "duration": 2421,
    "start_time": "2023-10-11T23:58:04.109Z"
   },
   {
    "duration": 13,
    "start_time": "2023-10-11T23:58:06.606Z"
   },
   {
    "duration": 82,
    "start_time": "2023-10-11T23:58:06.626Z"
   },
   {
    "duration": 9,
    "start_time": "2023-10-11T23:58:06.716Z"
   },
   {
    "duration": 85,
    "start_time": "2023-10-11T23:58:06.727Z"
   },
   {
    "duration": 94,
    "start_time": "2023-10-11T23:58:06.815Z"
   },
   {
    "duration": 3,
    "start_time": "2023-10-11T23:58:53.103Z"
   },
   {
    "duration": 5320,
    "start_time": "2023-10-12T00:01:34.901Z"
   },
   {
    "duration": 106,
    "start_time": "2023-10-12T00:01:40.223Z"
   },
   {
    "duration": 85,
    "start_time": "2023-10-12T00:01:40.333Z"
   },
   {
    "duration": 184,
    "start_time": "2023-10-12T00:01:40.420Z"
   },
   {
    "duration": 28,
    "start_time": "2023-10-12T00:01:40.607Z"
   },
   {
    "duration": 81,
    "start_time": "2023-10-12T00:01:40.639Z"
   },
   {
    "duration": 4079,
    "start_time": "2023-10-12T00:01:40.723Z"
   },
   {
    "duration": 98,
    "start_time": "2023-10-12T00:01:44.804Z"
   },
   {
    "duration": 23,
    "start_time": "2023-10-12T00:01:44.905Z"
   },
   {
    "duration": 76,
    "start_time": "2023-10-12T00:01:44.932Z"
   },
   {
    "duration": 191,
    "start_time": "2023-10-12T00:01:45.016Z"
   },
   {
    "duration": 93,
    "start_time": "2023-10-12T00:01:45.213Z"
   },
   {
    "duration": 108,
    "start_time": "2023-10-12T00:01:45.312Z"
   },
   {
    "duration": 29,
    "start_time": "2023-10-12T00:01:45.503Z"
   },
   {
    "duration": 279,
    "start_time": "2023-10-12T00:01:45.534Z"
   },
   {
    "duration": 185,
    "start_time": "2023-10-12T00:01:45.817Z"
   },
   {
    "duration": 22,
    "start_time": "2023-10-12T00:01:46.008Z"
   },
   {
    "duration": 94,
    "start_time": "2023-10-12T00:01:46.110Z"
   },
   {
    "duration": 10,
    "start_time": "2023-10-12T00:01:46.215Z"
   },
   {
    "duration": 10216,
    "start_time": "2023-10-12T00:01:46.312Z"
   },
   {
    "duration": 81,
    "start_time": "2023-10-12T00:01:56.529Z"
   },
   {
    "duration": 116,
    "start_time": "2023-10-12T00:01:56.614Z"
   },
   {
    "duration": 25,
    "start_time": "2023-10-12T00:01:56.802Z"
   },
   {
    "duration": 73,
    "start_time": "2023-10-12T00:01:56.833Z"
   },
   {
    "duration": 105,
    "start_time": "2023-10-12T00:01:56.909Z"
   },
   {
    "duration": 1811,
    "start_time": "2023-10-12T00:01:57.015Z"
   },
   {
    "duration": 1687,
    "start_time": "2023-10-12T00:01:58.827Z"
   },
   {
    "duration": 2506,
    "start_time": "2023-10-12T00:02:00.531Z"
   },
   {
    "duration": 8,
    "start_time": "2023-10-12T00:02:03.105Z"
   },
   {
    "duration": 98,
    "start_time": "2023-10-12T00:02:03.115Z"
   },
   {
    "duration": 85,
    "start_time": "2023-10-12T00:02:03.219Z"
   },
   {
    "duration": 189,
    "start_time": "2023-10-12T00:02:03.315Z"
   },
   {
    "duration": 97,
    "start_time": "2023-10-12T00:02:03.506Z"
   },
   {
    "duration": 6,
    "start_time": "2023-10-12T00:03:11.202Z"
   },
   {
    "duration": 7,
    "start_time": "2023-10-12T00:03:29.219Z"
   },
   {
    "duration": 5799,
    "start_time": "2023-10-12T00:08:15.227Z"
   },
   {
    "duration": 104,
    "start_time": "2023-10-12T00:08:21.028Z"
   },
   {
    "duration": 108,
    "start_time": "2023-10-12T00:08:21.212Z"
   },
   {
    "duration": 196,
    "start_time": "2023-10-12T00:08:21.321Z"
   },
   {
    "duration": 106,
    "start_time": "2023-10-12T00:08:21.520Z"
   },
   {
    "duration": 21,
    "start_time": "2023-10-12T00:08:21.711Z"
   },
   {
    "duration": 4479,
    "start_time": "2023-10-12T00:08:21.734Z"
   },
   {
    "duration": 98,
    "start_time": "2023-10-12T00:08:26.219Z"
   },
   {
    "duration": 93,
    "start_time": "2023-10-12T00:08:26.325Z"
   },
   {
    "duration": 87,
    "start_time": "2023-10-12T00:08:26.421Z"
   },
   {
    "duration": 103,
    "start_time": "2023-10-12T00:08:26.514Z"
   },
   {
    "duration": 202,
    "start_time": "2023-10-12T00:08:26.621Z"
   },
   {
    "duration": 104,
    "start_time": "2023-10-12T00:08:26.905Z"
   },
   {
    "duration": 85,
    "start_time": "2023-10-12T00:08:27.019Z"
   },
   {
    "duration": 200,
    "start_time": "2023-10-12T00:08:27.113Z"
   },
   {
    "duration": 318,
    "start_time": "2023-10-12T00:08:27.315Z"
   },
   {
    "duration": 15,
    "start_time": "2023-10-12T00:08:27.706Z"
   },
   {
    "duration": 82,
    "start_time": "2023-10-12T00:08:27.729Z"
   },
   {
    "duration": 10,
    "start_time": "2023-10-12T00:08:27.820Z"
   },
   {
    "duration": 10483,
    "start_time": "2023-10-12T00:08:27.832Z"
   },
   {
    "duration": 83,
    "start_time": "2023-10-12T00:08:38.321Z"
   },
   {
    "duration": 97,
    "start_time": "2023-10-12T00:08:38.408Z"
   },
   {
    "duration": 34,
    "start_time": "2023-10-12T00:08:38.507Z"
   },
   {
    "duration": 63,
    "start_time": "2023-10-12T00:08:38.543Z"
   },
   {
    "duration": 104,
    "start_time": "2023-10-12T00:08:38.617Z"
   },
   {
    "duration": 2180,
    "start_time": "2023-10-12T00:08:38.727Z"
   },
   {
    "duration": 2009,
    "start_time": "2023-10-12T00:08:40.908Z"
   },
   {
    "duration": 2401,
    "start_time": "2023-10-12T00:08:42.923Z"
   },
   {
    "duration": 70,
    "start_time": "2023-10-12T00:08:45.333Z"
   },
   {
    "duration": 21,
    "start_time": "2023-10-12T00:08:45.406Z"
   },
   {
    "duration": 176,
    "start_time": "2023-10-12T00:08:45.431Z"
   },
   {
    "duration": 110,
    "start_time": "2023-10-12T00:08:45.609Z"
   },
   {
    "duration": 85,
    "start_time": "2023-10-12T00:08:45.720Z"
   },
   {
    "duration": 84,
    "start_time": "2023-10-12T00:08:45.818Z"
   },
   {
    "duration": 5681,
    "start_time": "2023-10-12T00:14:53.226Z"
   },
   {
    "duration": 217,
    "start_time": "2023-10-12T00:14:58.926Z"
   },
   {
    "duration": 87,
    "start_time": "2023-10-12T00:14:59.144Z"
   },
   {
    "duration": 111,
    "start_time": "2023-10-12T00:14:59.306Z"
   },
   {
    "duration": 102,
    "start_time": "2023-10-12T00:14:59.423Z"
   },
   {
    "duration": 93,
    "start_time": "2023-10-12T00:14:59.535Z"
   },
   {
    "duration": 4523,
    "start_time": "2023-10-12T00:14:59.707Z"
   },
   {
    "duration": 105,
    "start_time": "2023-10-12T00:15:04.306Z"
   },
   {
    "duration": 96,
    "start_time": "2023-10-12T00:15:04.419Z"
   },
   {
    "duration": 186,
    "start_time": "2023-10-12T00:15:04.520Z"
   },
   {
    "duration": 106,
    "start_time": "2023-10-12T00:15:04.711Z"
   },
   {
    "duration": 90,
    "start_time": "2023-10-12T00:15:04.827Z"
   },
   {
    "duration": 104,
    "start_time": "2023-10-12T00:15:04.923Z"
   },
   {
    "duration": 75,
    "start_time": "2023-10-12T00:15:05.033Z"
   },
   {
    "duration": 200,
    "start_time": "2023-10-12T00:15:05.114Z"
   },
   {
    "duration": 289,
    "start_time": "2023-10-12T00:15:05.320Z"
   },
   {
    "duration": 15,
    "start_time": "2023-10-12T00:15:05.611Z"
   },
   {
    "duration": 182,
    "start_time": "2023-10-12T00:15:05.629Z"
   },
   {
    "duration": 26,
    "start_time": "2023-10-12T00:15:05.813Z"
   },
   {
    "duration": 11681,
    "start_time": "2023-10-12T00:15:05.841Z"
   },
   {
    "duration": 92,
    "start_time": "2023-10-12T00:15:17.524Z"
   },
   {
    "duration": 188,
    "start_time": "2023-10-12T00:15:17.619Z"
   },
   {
    "duration": 99,
    "start_time": "2023-10-12T00:15:17.810Z"
   },
   {
    "duration": 13,
    "start_time": "2023-10-12T00:15:17.911Z"
   },
   {
    "duration": 85,
    "start_time": "2023-10-12T00:15:17.926Z"
   },
   {
    "duration": 2191,
    "start_time": "2023-10-12T00:15:18.013Z"
   },
   {
    "duration": 1596,
    "start_time": "2023-10-12T00:15:20.215Z"
   },
   {
    "duration": 2407,
    "start_time": "2023-10-12T00:15:21.814Z"
   },
   {
    "duration": 10,
    "start_time": "2023-10-12T00:15:24.300Z"
   },
   {
    "duration": 19,
    "start_time": "2023-10-12T00:15:24.313Z"
   },
   {
    "duration": 79,
    "start_time": "2023-10-12T00:15:24.338Z"
   },
   {
    "duration": 93,
    "start_time": "2023-10-12T00:15:24.423Z"
   },
   {
    "duration": 7,
    "start_time": "2023-10-12T00:15:24.523Z"
   },
   {
    "duration": 70,
    "start_time": "2023-10-12T00:15:24.539Z"
   },
   {
    "duration": 92,
    "start_time": "2023-10-12T00:15:24.621Z"
   },
   {
    "duration": 622304,
    "start_time": "2023-10-12T00:16:47.102Z"
   },
   {
    "duration": 112,
    "start_time": "2023-10-12T00:27:19.901Z"
   },
   {
    "duration": 13,
    "start_time": "2023-10-12T00:27:22.506Z"
   },
   {
    "duration": 618805,
    "start_time": "2023-10-12T00:27:40.202Z"
   },
   {
    "duration": 105,
    "start_time": "2023-10-12T00:37:59.009Z"
   },
   {
    "duration": 9,
    "start_time": "2023-10-12T00:39:37.101Z"
   },
   {
    "duration": 12,
    "start_time": "2023-10-12T00:41:26.205Z"
   },
   {
    "duration": 298,
    "start_time": "2023-10-12T00:41:26.220Z"
   },
   {
    "duration": 88,
    "start_time": "2023-10-12T00:41:26.526Z"
   },
   {
    "duration": 184,
    "start_time": "2023-10-12T00:41:26.624Z"
   },
   {
    "duration": 100,
    "start_time": "2023-10-12T00:41:26.814Z"
   },
   {
    "duration": 117,
    "start_time": "2023-10-12T00:41:26.917Z"
   },
   {
    "duration": 5092,
    "start_time": "2023-10-12T00:41:27.112Z"
   },
   {
    "duration": 99,
    "start_time": "2023-10-12T00:41:32.206Z"
   },
   {
    "duration": 93,
    "start_time": "2023-10-12T00:41:32.309Z"
   },
   {
    "duration": 98,
    "start_time": "2023-10-12T00:41:32.405Z"
   },
   {
    "duration": 23,
    "start_time": "2023-10-12T00:41:32.508Z"
   },
   {
    "duration": 98,
    "start_time": "2023-10-12T00:41:32.606Z"
   },
   {
    "duration": 119,
    "start_time": "2023-10-12T00:41:32.709Z"
   },
   {
    "duration": 9,
    "start_time": "2023-10-12T00:41:32.903Z"
   },
   {
    "duration": 195,
    "start_time": "2023-10-12T00:41:32.914Z"
   },
   {
    "duration": 301,
    "start_time": "2023-10-12T00:41:33.111Z"
   },
   {
    "duration": 88,
    "start_time": "2023-10-12T00:41:33.416Z"
   },
   {
    "duration": 89,
    "start_time": "2023-10-12T00:41:33.515Z"
   },
   {
    "duration": 88,
    "start_time": "2023-10-12T00:41:33.612Z"
   },
   {
    "duration": 11317,
    "start_time": "2023-10-12T00:41:33.702Z"
   },
   {
    "duration": 85,
    "start_time": "2023-10-12T00:41:45.022Z"
   },
   {
    "duration": 113,
    "start_time": "2023-10-12T00:41:45.111Z"
   },
   {
    "duration": 16,
    "start_time": "2023-10-12T00:41:45.300Z"
   },
   {
    "duration": 82,
    "start_time": "2023-10-12T00:41:45.323Z"
   },
   {
    "duration": 101,
    "start_time": "2023-10-12T00:41:45.406Z"
   },
   {
    "duration": 2018,
    "start_time": "2023-10-12T00:41:45.513Z"
   },
   {
    "duration": 1112,
    "start_time": "2023-10-12T00:41:47.610Z"
   },
   {
    "duration": 2580,
    "start_time": "2023-10-12T00:41:48.727Z"
   },
   {
    "duration": 9,
    "start_time": "2023-10-12T00:41:51.314Z"
   },
   {
    "duration": 80,
    "start_time": "2023-10-12T00:41:51.325Z"
   },
   {
    "duration": 99,
    "start_time": "2023-10-12T00:41:51.411Z"
   },
   {
    "duration": 13,
    "start_time": "2023-10-12T00:41:51.511Z"
   },
   {
    "duration": 78,
    "start_time": "2023-10-12T00:41:51.531Z"
   },
   {
    "duration": 7,
    "start_time": "2023-10-12T00:41:51.615Z"
   },
   {
    "duration": 498,
    "start_time": "2023-10-12T00:41:51.628Z"
   },
   {
    "duration": 116,
    "start_time": "2023-10-12T00:41:52.201Z"
   },
   {
    "duration": 85,
    "start_time": "2023-10-12T00:41:52.319Z"
   },
   {
    "duration": 14,
    "start_time": "2023-10-12T00:41:52.407Z"
   },
   {
    "duration": 83,
    "start_time": "2023-10-12T00:41:52.427Z"
   },
   {
    "duration": 102,
    "start_time": "2023-10-12T00:41:52.513Z"
   },
   {
    "duration": 660790,
    "start_time": "2023-10-12T00:41:52.620Z"
   },
   {
    "duration": 7,
    "start_time": "2023-10-12T00:52:53.411Z"
   },
   {
    "duration": 39385,
    "start_time": "2023-10-12T00:52:53.419Z"
   },
   {
    "duration": 92,
    "start_time": "2023-10-12T00:53:32.810Z"
   },
   {
    "duration": 93,
    "start_time": "2023-10-12T00:53:32.913Z"
   },
   {
    "duration": 992,
    "start_time": "2023-10-12T00:53:33.008Z"
   },
   {
    "duration": 0,
    "start_time": "2023-10-12T00:53:34.011Z"
   },
   {
    "duration": 0,
    "start_time": "2023-10-12T00:53:34.016Z"
   },
   {
    "duration": 0,
    "start_time": "2023-10-12T00:53:34.017Z"
   },
   {
    "duration": 0,
    "start_time": "2023-10-12T00:53:34.017Z"
   },
   {
    "duration": 0,
    "start_time": "2023-10-12T00:53:34.018Z"
   },
   {
    "duration": 100,
    "start_time": "2023-10-12T00:55:59.401Z"
   },
   {
    "duration": 110,
    "start_time": "2023-10-12T00:56:13.317Z"
   },
   {
    "duration": 9,
    "start_time": "2023-10-12T00:56:29.102Z"
   },
   {
    "duration": 10,
    "start_time": "2023-10-12T00:56:35.807Z"
   },
   {
    "duration": 24,
    "start_time": "2023-10-12T00:56:37.405Z"
   },
   {
    "duration": 99,
    "start_time": "2023-10-12T00:56:56.304Z"
   },
   {
    "duration": 8,
    "start_time": "2023-10-12T00:57:15.102Z"
   },
   {
    "duration": 13,
    "start_time": "2023-10-12T00:57:18.309Z"
   },
   {
    "duration": 6,
    "start_time": "2023-10-12T00:57:26.201Z"
   },
   {
    "duration": 620231,
    "start_time": "2023-10-12T00:57:29.101Z"
   },
   {
    "duration": 194,
    "start_time": "2023-10-12T01:07:49.333Z"
   },
   {
    "duration": 87,
    "start_time": "2023-10-12T01:07:49.529Z"
   },
   {
    "duration": 89,
    "start_time": "2023-10-12T01:07:49.623Z"
   },
   {
    "duration": 0,
    "start_time": "2023-10-12T01:07:50.107Z"
   },
   {
    "duration": 1764,
    "start_time": "2023-10-12T06:19:13.306Z"
   },
   {
    "duration": 116,
    "start_time": "2023-10-12T06:19:15.072Z"
   },
   {
    "duration": 13,
    "start_time": "2023-10-12T06:19:15.189Z"
   },
   {
    "duration": 34,
    "start_time": "2023-10-12T06:19:15.204Z"
   },
   {
    "duration": 16,
    "start_time": "2023-10-12T06:19:15.240Z"
   },
   {
    "duration": 14,
    "start_time": "2023-10-12T06:19:15.258Z"
   },
   {
    "duration": 828,
    "start_time": "2023-10-12T06:19:15.274Z"
   },
   {
    "duration": 29,
    "start_time": "2023-10-12T06:19:16.104Z"
   },
   {
    "duration": 13,
    "start_time": "2023-10-12T06:19:16.135Z"
   },
   {
    "duration": 32,
    "start_time": "2023-10-12T06:19:16.149Z"
   },
   {
    "duration": 20,
    "start_time": "2023-10-12T06:19:16.184Z"
   },
   {
    "duration": 58,
    "start_time": "2023-10-12T06:19:16.205Z"
   },
   {
    "duration": 41,
    "start_time": "2023-10-12T06:19:16.265Z"
   },
   {
    "duration": 43,
    "start_time": "2023-10-12T06:19:16.312Z"
   },
   {
    "duration": 63,
    "start_time": "2023-10-12T06:19:16.357Z"
   },
   {
    "duration": 48,
    "start_time": "2023-10-12T06:19:16.422Z"
   },
   {
    "duration": 39,
    "start_time": "2023-10-12T06:19:16.473Z"
   },
   {
    "duration": 50,
    "start_time": "2023-10-12T06:19:16.514Z"
   },
   {
    "duration": 17,
    "start_time": "2023-10-12T06:19:16.566Z"
   },
   {
    "duration": 1732,
    "start_time": "2023-10-12T06:19:16.585Z"
   },
   {
    "duration": 129,
    "start_time": "2023-10-12T06:19:18.319Z"
   },
   {
    "duration": 28,
    "start_time": "2023-10-12T06:19:18.450Z"
   },
   {
    "duration": 28,
    "start_time": "2023-10-12T06:19:18.480Z"
   },
   {
    "duration": 57,
    "start_time": "2023-10-12T06:19:18.510Z"
   },
   {
    "duration": 32,
    "start_time": "2023-10-12T06:19:18.569Z"
   },
   {
    "duration": 372,
    "start_time": "2023-10-12T06:19:18.602Z"
   },
   {
    "duration": 184,
    "start_time": "2023-10-12T06:19:18.976Z"
   },
   {
    "duration": 425,
    "start_time": "2023-10-12T06:19:19.162Z"
   },
   {
    "duration": 4,
    "start_time": "2023-10-12T06:19:19.589Z"
   },
   {
    "duration": 24,
    "start_time": "2023-10-12T06:19:19.595Z"
   },
   {
    "duration": 9,
    "start_time": "2023-10-12T06:19:19.621Z"
   },
   {
    "duration": 16,
    "start_time": "2023-10-12T06:19:19.632Z"
   },
   {
    "duration": 15,
    "start_time": "2023-10-12T06:19:19.650Z"
   },
   {
    "duration": 20,
    "start_time": "2023-10-12T06:19:19.668Z"
   },
   {
    "duration": 37,
    "start_time": "2023-10-12T06:19:19.690Z"
   },
   {
    "duration": 102,
    "start_time": "2023-10-12T06:19:19.730Z"
   },
   {
    "duration": 189,
    "start_time": "2023-10-12T06:19:19.835Z"
   },
   {
    "duration": 25,
    "start_time": "2023-10-12T06:19:20.027Z"
   },
   {
    "duration": 49,
    "start_time": "2023-10-12T06:19:20.054Z"
   },
   {
    "duration": 74,
    "start_time": "2023-10-12T06:19:20.106Z"
   },
   {
    "duration": 106683,
    "start_time": "2023-10-12T06:19:20.186Z"
   },
   {
    "duration": 4,
    "start_time": "2023-10-12T06:21:06.871Z"
   },
   {
    "duration": 6997,
    "start_time": "2023-10-12T06:21:06.877Z"
   },
   {
    "duration": 7,
    "start_time": "2023-10-12T06:21:13.876Z"
   },
   {
    "duration": 189,
    "start_time": "2023-10-12T06:21:13.885Z"
   },
   {
    "duration": 138,
    "start_time": "2023-10-12T06:21:14.076Z"
   },
   {
    "duration": 64,
    "start_time": "2023-10-12T06:21:14.216Z"
   },
   {
    "duration": 90,
    "start_time": "2023-10-12T06:21:14.282Z"
   },
   {
    "duration": 328759,
    "start_time": "2023-10-12T06:21:14.374Z"
   },
   {
    "duration": 90,
    "start_time": "2023-10-12T06:26:43.135Z"
   },
   {
    "duration": 5,
    "start_time": "2023-10-12T06:26:43.227Z"
   },
   {
    "duration": 170,
    "start_time": "2023-10-12T06:26:43.235Z"
   },
   {
    "duration": 0,
    "start_time": "2023-10-12T06:26:43.407Z"
   },
   {
    "duration": 0,
    "start_time": "2023-10-12T06:26:43.408Z"
   },
   {
    "duration": 0,
    "start_time": "2023-10-12T06:26:43.409Z"
   },
   {
    "duration": 11,
    "start_time": "2023-10-12T06:28:36.135Z"
   },
   {
    "duration": 13,
    "start_time": "2023-10-12T06:28:41.265Z"
   },
   {
    "duration": 6,
    "start_time": "2023-10-12T06:28:58.748Z"
   },
   {
    "duration": 5,
    "start_time": "2023-10-12T06:29:00.446Z"
   },
   {
    "duration": 96,
    "start_time": "2023-10-12T06:29:12.679Z"
   },
   {
    "duration": 13,
    "start_time": "2023-10-12T06:29:29.058Z"
   },
   {
    "duration": 6,
    "start_time": "2023-10-12T06:29:30.630Z"
   },
   {
    "duration": 27,
    "start_time": "2023-10-12T06:29:45.561Z"
   },
   {
    "duration": 87,
    "start_time": "2023-10-12T06:29:59.162Z"
   },
   {
    "duration": 7,
    "start_time": "2023-10-12T06:30:04.004Z"
   },
   {
    "duration": 5,
    "start_time": "2023-10-12T06:30:05.502Z"
   },
   {
    "duration": 11,
    "start_time": "2023-10-12T06:37:46.521Z"
   },
   {
    "duration": 7,
    "start_time": "2023-10-12T06:37:48.893Z"
   },
   {
    "duration": 51,
    "start_time": "2023-10-12T11:52:17.422Z"
   },
   {
    "duration": 2084,
    "start_time": "2023-10-12T11:53:01.794Z"
   },
   {
    "duration": 117,
    "start_time": "2023-10-12T11:53:03.880Z"
   },
   {
    "duration": 13,
    "start_time": "2023-10-12T11:53:03.999Z"
   },
   {
    "duration": 66,
    "start_time": "2023-10-12T11:53:04.014Z"
   },
   {
    "duration": 19,
    "start_time": "2023-10-12T11:53:04.084Z"
   },
   {
    "duration": 30,
    "start_time": "2023-10-12T11:53:04.105Z"
   },
   {
    "duration": 899,
    "start_time": "2023-10-12T11:53:04.138Z"
   },
   {
    "duration": 16,
    "start_time": "2023-10-12T11:53:05.040Z"
   },
   {
    "duration": 142,
    "start_time": "2023-10-12T11:53:05.058Z"
   },
   {
    "duration": 247,
    "start_time": "2023-10-12T11:53:05.202Z"
   },
   {
    "duration": 307,
    "start_time": "2023-10-12T11:53:05.451Z"
   },
   {
    "duration": 161,
    "start_time": "2023-10-12T11:53:05.760Z"
   },
   {
    "duration": 33,
    "start_time": "2023-10-12T11:53:05.923Z"
   },
   {
    "duration": 44,
    "start_time": "2023-10-12T11:53:05.960Z"
   },
   {
    "duration": 123,
    "start_time": "2023-10-12T11:53:06.007Z"
   },
   {
    "duration": 49,
    "start_time": "2023-10-12T11:53:06.133Z"
   },
   {
    "duration": 16,
    "start_time": "2023-10-12T11:53:06.184Z"
   },
   {
    "duration": 38,
    "start_time": "2023-10-12T11:53:06.202Z"
   },
   {
    "duration": 36,
    "start_time": "2023-10-12T11:53:06.242Z"
   },
   {
    "duration": 2028,
    "start_time": "2023-10-12T11:53:06.280Z"
   },
   {
    "duration": 9,
    "start_time": "2023-10-12T11:53:08.310Z"
   },
   {
    "duration": 35,
    "start_time": "2023-10-12T11:53:08.320Z"
   },
   {
    "duration": 31,
    "start_time": "2023-10-12T11:53:08.358Z"
   },
   {
    "duration": 16,
    "start_time": "2023-10-12T11:53:08.391Z"
   },
   {
    "duration": 34,
    "start_time": "2023-10-12T11:53:08.409Z"
   },
   {
    "duration": 454,
    "start_time": "2023-10-12T11:53:08.445Z"
   },
   {
    "duration": 212,
    "start_time": "2023-10-12T11:53:08.901Z"
   },
   {
    "duration": 452,
    "start_time": "2023-10-12T11:53:09.116Z"
   },
   {
    "duration": 5,
    "start_time": "2023-10-12T11:53:09.571Z"
   },
   {
    "duration": 23,
    "start_time": "2023-10-12T11:53:09.579Z"
   },
   {
    "duration": 18,
    "start_time": "2023-10-12T11:53:09.604Z"
   },
   {
    "duration": 41,
    "start_time": "2023-10-12T11:53:09.625Z"
   },
   {
    "duration": 3,
    "start_time": "2023-10-12T11:53:12.801Z"
   },
   {
    "duration": 3,
    "start_time": "2023-10-12T11:53:15.490Z"
   },
   {
    "duration": 3,
    "start_time": "2023-10-12T11:53:18.779Z"
   },
   {
    "duration": 18,
    "start_time": "2023-10-12T11:53:19.690Z"
   },
   {
    "duration": 13,
    "start_time": "2023-10-12T11:53:20.767Z"
   },
   {
    "duration": 5,
    "start_time": "2023-10-12T11:53:21.848Z"
   },
   {
    "duration": 6,
    "start_time": "2023-10-12T11:53:24.663Z"
   },
   {
    "duration": 4,
    "start_time": "2023-10-12T11:53:25.885Z"
   },
   {
    "duration": 3,
    "start_time": "2023-10-12T11:53:31.494Z"
   },
   {
    "duration": 66090,
    "start_time": "2023-10-12T11:53:42.788Z"
   },
   {
    "duration": 3,
    "start_time": "2023-10-12T11:54:48.880Z"
   },
   {
    "duration": 8137,
    "start_time": "2023-10-12T11:54:48.885Z"
   },
   {
    "duration": 7,
    "start_time": "2023-10-12T11:54:57.024Z"
   },
   {
    "duration": 59,
    "start_time": "2023-10-12T11:54:57.032Z"
   },
   {
    "duration": 33,
    "start_time": "2023-10-12T11:54:57.093Z"
   },
   {
    "duration": 37,
    "start_time": "2023-10-12T11:54:57.128Z"
   },
   {
    "duration": 53,
    "start_time": "2023-10-12T11:54:57.167Z"
   },
   {
    "duration": 12987,
    "start_time": "2023-10-12T11:54:57.222Z"
   },
   {
    "duration": 3,
    "start_time": "2023-10-12T11:57:30.752Z"
   },
   {
    "duration": 3,
    "start_time": "2023-10-12T11:57:32.712Z"
   },
   {
    "duration": 799716,
    "start_time": "2023-10-12T11:59:03.601Z"
   },
   {
    "duration": 3,
    "start_time": "2023-10-12T12:12:23.321Z"
   },
   {
    "duration": 425,
    "start_time": "2023-10-12T12:12:23.326Z"
   },
   {
    "duration": 109,
    "start_time": "2023-10-12T12:12:23.753Z"
   },
   {
    "duration": 3,
    "start_time": "2023-10-12T12:35:04.482Z"
   },
   {
    "duration": 1098,
    "start_time": "2023-10-12T12:35:05.913Z"
   },
   {
    "duration": 9,
    "start_time": "2023-10-12T12:35:27.023Z"
   },
   {
    "duration": 6,
    "start_time": "2023-10-12T12:35:28.159Z"
   },
   {
    "duration": 8,
    "start_time": "2023-10-12T12:35:29.565Z"
   },
   {
    "duration": 6,
    "start_time": "2023-10-12T12:36:01.793Z"
   },
   {
    "duration": 10,
    "start_time": "2023-10-12T12:36:04.209Z"
   }
  ],
  "kernelspec": {
   "display_name": "Python 3 (ipykernel)",
   "language": "python",
   "name": "python3"
  },
  "language_info": {
   "codemirror_mode": {
    "name": "ipython",
    "version": 3
   },
   "file_extension": ".py",
   "mimetype": "text/x-python",
   "name": "python",
   "nbconvert_exporter": "python",
   "pygments_lexer": "ipython3",
   "version": "3.11.5"
  },
  "toc": {
   "base_numbering": 1,
   "nav_menu": {},
   "number_sections": true,
   "sideBar": true,
   "skip_h1_title": true,
   "title_cell": "Table of Contents",
   "title_sidebar": "Contents",
   "toc_cell": false,
   "toc_position": {
    "height": "calc(100% - 180px)",
    "left": "10px",
    "top": "150px",
    "width": "248px"
   },
   "toc_section_display": true,
   "toc_window_display": true
  }
 },
 "nbformat": 4,
 "nbformat_minor": 5
}
