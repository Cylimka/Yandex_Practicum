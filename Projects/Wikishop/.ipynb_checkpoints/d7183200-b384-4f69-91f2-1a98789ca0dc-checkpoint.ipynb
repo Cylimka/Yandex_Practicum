{
 "cells": [
  {
   "cell_type": "markdown",
   "metadata": {
    "toc": true
   },
   "source": [
    "<h1>Содержание<span class=\"tocSkip\"></span></h1>\n",
    "<div class=\"toc\"><ul class=\"toc-item\"><li><span><a href=\"#Знакомство-с-данными\" data-toc-modified-id=\"Знакомство-с-данными-1\"><span class=\"toc-item-num\">1&nbsp;&nbsp;</span>Знакомство с данными</a></span><ul class=\"toc-item\"><li><span><a href=\"#Вывод-по-знакомству-с-данными\" data-toc-modified-id=\"Вывод-по-знакомству-с-данными-1.1\"><span class=\"toc-item-num\">1.1&nbsp;&nbsp;</span>Вывод по знакомству с данными</a></span></li></ul></li><li><span><a href=\"#Подготовка-данных\" data-toc-modified-id=\"Подготовка-данных-2\"><span class=\"toc-item-num\">2&nbsp;&nbsp;</span>Подготовка данных</a></span><ul class=\"toc-item\"><li><span><a href=\"#Избавление-от-лишних-данных\" data-toc-modified-id=\"Избавление-от-лишних-данных-2.1\"><span class=\"toc-item-num\">2.1&nbsp;&nbsp;</span>Избавление от лишних данных</a></span></li><li><span><a href=\"#Лемматизация\" data-toc-modified-id=\"Лемматизация-2.2\"><span class=\"toc-item-num\">2.2&nbsp;&nbsp;</span>Лемматизация</a></span></li></ul></li><li><span><a href=\"#Обучение\" data-toc-modified-id=\"Обучение-3\"><span class=\"toc-item-num\">3&nbsp;&nbsp;</span>Обучение</a></span><ul class=\"toc-item\"><li><span><a href=\"#Модель-LogisticRegression\" data-toc-modified-id=\"Модель-LogisticRegression-3.1\"><span class=\"toc-item-num\">3.1&nbsp;&nbsp;</span>Модель LogisticRegression</a></span></li><li><span><a href=\"#Модель-RandomForestClassifier\" data-toc-modified-id=\"Модель-RandomForestClassifier-3.2\"><span class=\"toc-item-num\">3.2&nbsp;&nbsp;</span>Модель RandomForestClassifier</a></span></li><li><span><a href=\"#Модель-CatBoostRegressor\" data-toc-modified-id=\"Модель-CatBoostRegressor-3.3\"><span class=\"toc-item-num\">3.3&nbsp;&nbsp;</span>Модель CatBoostRegressor</a></span></li><li><span><a href=\"#Сравним-модели\" data-toc-modified-id=\"Сравним-модели-3.4\"><span class=\"toc-item-num\">3.4&nbsp;&nbsp;</span>Сравним модели</a></span></li></ul></li><li><span><a href=\"#Анализ-лучшей-модели\" data-toc-modified-id=\"Анализ-лучшей-модели-4\"><span class=\"toc-item-num\">4&nbsp;&nbsp;</span>Анализ лучшей модели</a></span></li><li><span><a href=\"#Вывод\" data-toc-modified-id=\"Вывод-5\"><span class=\"toc-item-num\">5&nbsp;&nbsp;</span>Вывод</a></span></li></ul></div>"
   ]
  },
  {
   "cell_type": "markdown",
   "metadata": {},
   "source": [
    "# Проект для «Викишоп»"
   ]
  },
  {
   "cell_type": "markdown",
   "metadata": {},
   "source": [
    "Интернет-магазин «Викишоп» запускает новый сервис. Теперь пользователи могут редактировать и дополнять описания товаров, как в вики-сообществах. То есть клиенты предлагают свои правки и комментируют изменения других. Магазину нужен инструмент, который будет искать токсичные комментарии и отправлять их на модерацию. \n",
    "\n",
    "Обучите модель классифицировать комментарии на позитивные и негативные. В вашем распоряжении набор данных с разметкой о токсичности правок.\n",
    "\n",
    "Постройте модель со значением метрики качества *F1* не меньше 0.75. \n",
    "\n",
    "**Инструкция по выполнению проекта**\n",
    "\n",
    "1. Загрузите и подготовьте данные.\n",
    "2. Обучите разные модели. \n",
    "3. Сделайте выводы.\n",
    "\n",
    "Для выполнения проекта применять *BERT* необязательно, но вы можете попробовать.\n",
    "\n",
    "**Описание данных**\n",
    "\n",
    "Данные находятся в файле `toxic_comments.csv`. Столбец *text* в нём содержит текст комментария, а *toxic* — целевой признак."
   ]
  },
  {
   "cell_type": "markdown",
   "metadata": {
    "tags": []
   },
   "source": [
    "## Знакомство с данными"
   ]
  },
  {
   "cell_type": "markdown",
   "metadata": {},
   "source": [
    "Загрузим библиотеки"
   ]
  },
  {
   "cell_type": "code",
   "execution_count": 1,
   "metadata": {
    "tags": []
   },
   "outputs": [
    {
     "name": "stderr",
     "output_type": "stream",
     "text": [
      "[nltk_data] Downloading package stopwords to\n",
      "[nltk_data]     /Users/cylimka/nltk_data...\n",
      "[nltk_data]   Package stopwords is already up-to-date!\n",
      "[nltk_data] Downloading package punkt to /Users/cylimka/nltk_data...\n",
      "[nltk_data]   Package punkt is already up-to-date!\n"
     ]
    }
   ],
   "source": [
    "import warnings\n",
    "warnings.filterwarnings('ignore')\n",
    "\n",
    "import pandas as pd\n",
    "import numpy as np\n",
    "import seaborn as sns\n",
    "import matplotlib.pyplot as plt\n",
    "\n",
    "from nltk.stem import WordNetLemmatizer\n",
    "import nltk\n",
    "from nltk.corpus import stopwords as nltk_stopwords\n",
    "nltk.download('stopwords')\n",
    "nltk.download('wordnet', quiet=True)\n",
    "nltk.download('punkt')\n",
    "\n",
    "from sklearn.pipeline import Pipeline\n",
    "from sklearn.ensemble import RandomForestClassifier\n",
    "from sklearn.linear_model import LogisticRegression\n",
    "from sklearn.model_selection import train_test_split, GridSearchCV, RandomizedSearchCV\n",
    "from sklearn.feature_extraction.text import TfidfVectorizer\n",
    "from sklearn.metrics import f1_score\n",
    "\n",
    "from catboost import CatBoostClassifier\n",
    "\n",
    "import re\n",
    "\n",
    "RANDOM_STATE = 333"
   ]
  },
  {
   "cell_type": "markdown",
   "metadata": {},
   "source": [
    "Загрузим и сохраним данные в датафрейм **df**"
   ]
  },
  {
   "cell_type": "code",
   "execution_count": 2,
   "metadata": {
    "tags": []
   },
   "outputs": [],
   "source": [
    "df = pd.read_csv('toxic_comments.csv')"
   ]
  },
  {
   "cell_type": "markdown",
   "metadata": {},
   "source": [
    "Выведем первые 5 строк датафрейма"
   ]
  },
  {
   "cell_type": "code",
   "execution_count": 3,
   "metadata": {
    "tags": []
   },
   "outputs": [
    {
     "data": {
      "text/html": [
       "<div>\n",
       "<style scoped>\n",
       "    .dataframe tbody tr th:only-of-type {\n",
       "        vertical-align: middle;\n",
       "    }\n",
       "\n",
       "    .dataframe tbody tr th {\n",
       "        vertical-align: top;\n",
       "    }\n",
       "\n",
       "    .dataframe thead th {\n",
       "        text-align: right;\n",
       "    }\n",
       "</style>\n",
       "<table border=\"1\" class=\"dataframe\">\n",
       "  <thead>\n",
       "    <tr style=\"text-align: right;\">\n",
       "      <th></th>\n",
       "      <th>Unnamed: 0</th>\n",
       "      <th>text</th>\n",
       "      <th>toxic</th>\n",
       "    </tr>\n",
       "  </thead>\n",
       "  <tbody>\n",
       "    <tr>\n",
       "      <th>0</th>\n",
       "      <td>0</td>\n",
       "      <td>Explanation\\nWhy the edits made under my usern...</td>\n",
       "      <td>0</td>\n",
       "    </tr>\n",
       "    <tr>\n",
       "      <th>1</th>\n",
       "      <td>1</td>\n",
       "      <td>D'aww! He matches this background colour I'm s...</td>\n",
       "      <td>0</td>\n",
       "    </tr>\n",
       "    <tr>\n",
       "      <th>2</th>\n",
       "      <td>2</td>\n",
       "      <td>Hey man, I'm really not trying to edit war. It...</td>\n",
       "      <td>0</td>\n",
       "    </tr>\n",
       "    <tr>\n",
       "      <th>3</th>\n",
       "      <td>3</td>\n",
       "      <td>\"\\nMore\\nI can't make any real suggestions on ...</td>\n",
       "      <td>0</td>\n",
       "    </tr>\n",
       "    <tr>\n",
       "      <th>4</th>\n",
       "      <td>4</td>\n",
       "      <td>You, sir, are my hero. Any chance you remember...</td>\n",
       "      <td>0</td>\n",
       "    </tr>\n",
       "  </tbody>\n",
       "</table>\n",
       "</div>"
      ],
      "text/plain": [
       "   Unnamed: 0                                               text  toxic\n",
       "0           0  Explanation\\nWhy the edits made under my usern...      0\n",
       "1           1  D'aww! He matches this background colour I'm s...      0\n",
       "2           2  Hey man, I'm really not trying to edit war. It...      0\n",
       "3           3  \"\\nMore\\nI can't make any real suggestions on ...      0\n",
       "4           4  You, sir, are my hero. Any chance you remember...      0"
      ]
     },
     "execution_count": 3,
     "metadata": {},
     "output_type": "execute_result"
    }
   ],
   "source": [
    "df.head(5)"
   ]
  },
  {
   "cell_type": "markdown",
   "metadata": {},
   "source": [
    "* **text** - cодержит текст комментария\n",
    "* **toxic** — целевой признак, который определяет токсичный ли коментарий в **text**"
   ]
  },
  {
   "cell_type": "markdown",
   "metadata": {},
   "source": [
    "Выведем информацию о нашем датафрейме"
   ]
  },
  {
   "cell_type": "code",
   "execution_count": 4,
   "metadata": {
    "tags": []
   },
   "outputs": [
    {
     "name": "stdout",
     "output_type": "stream",
     "text": [
      "<class 'pandas.core.frame.DataFrame'>\n",
      "RangeIndex: 159292 entries, 0 to 159291\n",
      "Data columns (total 3 columns):\n",
      " #   Column      Non-Null Count   Dtype \n",
      "---  ------      --------------   ----- \n",
      " 0   Unnamed: 0  159292 non-null  int64 \n",
      " 1   text        159292 non-null  object\n",
      " 2   toxic       159292 non-null  int64 \n",
      "dtypes: int64(2), object(1)\n",
      "memory usage: 3.6+ MB\n"
     ]
    }
   ],
   "source": [
    "df.info()"
   ]
  },
  {
   "cell_type": "code",
   "execution_count": 5,
   "metadata": {
    "tags": []
   },
   "outputs": [
    {
     "data": {
      "text/html": [
       "<div>\n",
       "<style scoped>\n",
       "    .dataframe tbody tr th:only-of-type {\n",
       "        vertical-align: middle;\n",
       "    }\n",
       "\n",
       "    .dataframe tbody tr th {\n",
       "        vertical-align: top;\n",
       "    }\n",
       "\n",
       "    .dataframe thead th {\n",
       "        text-align: right;\n",
       "    }\n",
       "</style>\n",
       "<table border=\"1\" class=\"dataframe\">\n",
       "  <thead>\n",
       "    <tr style=\"text-align: right;\">\n",
       "      <th></th>\n",
       "      <th>Unnamed: 0</th>\n",
       "      <th>toxic</th>\n",
       "    </tr>\n",
       "  </thead>\n",
       "  <tbody>\n",
       "    <tr>\n",
       "      <th>count</th>\n",
       "      <td>159292.000000</td>\n",
       "      <td>159292.000000</td>\n",
       "    </tr>\n",
       "    <tr>\n",
       "      <th>mean</th>\n",
       "      <td>79725.697242</td>\n",
       "      <td>0.101612</td>\n",
       "    </tr>\n",
       "    <tr>\n",
       "      <th>std</th>\n",
       "      <td>46028.837471</td>\n",
       "      <td>0.302139</td>\n",
       "    </tr>\n",
       "    <tr>\n",
       "      <th>min</th>\n",
       "      <td>0.000000</td>\n",
       "      <td>0.000000</td>\n",
       "    </tr>\n",
       "    <tr>\n",
       "      <th>25%</th>\n",
       "      <td>39872.750000</td>\n",
       "      <td>0.000000</td>\n",
       "    </tr>\n",
       "    <tr>\n",
       "      <th>50%</th>\n",
       "      <td>79721.500000</td>\n",
       "      <td>0.000000</td>\n",
       "    </tr>\n",
       "    <tr>\n",
       "      <th>75%</th>\n",
       "      <td>119573.250000</td>\n",
       "      <td>0.000000</td>\n",
       "    </tr>\n",
       "    <tr>\n",
       "      <th>max</th>\n",
       "      <td>159450.000000</td>\n",
       "      <td>1.000000</td>\n",
       "    </tr>\n",
       "  </tbody>\n",
       "</table>\n",
       "</div>"
      ],
      "text/plain": [
       "          Unnamed: 0          toxic\n",
       "count  159292.000000  159292.000000\n",
       "mean    79725.697242       0.101612\n",
       "std     46028.837471       0.302139\n",
       "min         0.000000       0.000000\n",
       "25%     39872.750000       0.000000\n",
       "50%     79721.500000       0.000000\n",
       "75%    119573.250000       0.000000\n",
       "max    159450.000000       1.000000"
      ]
     },
     "execution_count": 5,
     "metadata": {},
     "output_type": "execute_result"
    }
   ],
   "source": [
    "df.describe()"
   ]
  },
  {
   "cell_type": "markdown",
   "metadata": {},
   "source": [
    "Проверим на дубликаты"
   ]
  },
  {
   "cell_type": "code",
   "execution_count": 6,
   "metadata": {
    "tags": []
   },
   "outputs": [
    {
     "data": {
      "text/plain": [
       "0"
      ]
     },
     "execution_count": 6,
     "metadata": {},
     "output_type": "execute_result"
    }
   ],
   "source": [
    "df.duplicated().sum()"
   ]
  },
  {
   "cell_type": "markdown",
   "metadata": {},
   "source": [
    "* Удалим столбец **Unnamed: 0**\n",
    "* Пропусков, проблем с типами данных, явных дубликатов, в данных нет,"
   ]
  },
  {
   "cell_type": "markdown",
   "metadata": {},
   "source": [
    "Посмотрим на распределение целевой переменной"
   ]
  },
  {
   "cell_type": "code",
   "execution_count": 7,
   "metadata": {
    "tags": []
   },
   "outputs": [
    {
     "data": {
      "image/png": "[encoded data removed]",
      "text/plain": [
       "<Figure size 1400x600 with 1 Axes>"
      ]
     },
     "metadata": {},
     "output_type": "display_data"
    }
   ],
   "source": [
    "plt.figure(figsize=(14,6))\n",
    "sns.set()\n",
    "sns.histplot(df['toxic'])\n",
    "plt.title('Pаспределение классов целевой переменной')\n",
    "plt.ylabel('Количество')\n",
    "plt.xlabel('Значение')\n",
    "plt.xticks([0,1])\n",
    "plt.show()"
   ]
  },
  {
   "cell_type": "markdown",
   "metadata": {},
   "source": [
    "Классы не сбалансированны"
   ]
  },
  {
   "cell_type": "markdown",
   "metadata": {},
   "source": [
    "### Вывод по знакомству с данными\n",
    "* Загрузили и сохранили данные в переменную **df**\n",
    "* Нужно избавится от столбеца **Unnamed: 0**\n",
    "* Пропусков, проблем с типами данных, явных дубликатов, в данных нет,\n",
    "* Классы в целевой переменной не сбалансированны"
   ]
  },
  {
   "cell_type": "markdown",
   "metadata": {},
   "source": [
    "## Подготовка данных"
   ]
  },
  {
   "cell_type": "markdown",
   "metadata": {},
   "source": [
    "### Избавление от лишних данных"
   ]
  },
  {
   "cell_type": "markdown",
   "metadata": {},
   "source": [
    "Избавимся от столбца **Unnamed: 0**"
   ]
  },
  {
   "cell_type": "code",
   "execution_count": 8,
   "metadata": {
    "tags": []
   },
   "outputs": [],
   "source": [
    "df.drop('Unnamed: 0', axis=1, inplace=True)"
   ]
  },
  {
   "cell_type": "code",
   "execution_count": 9,
   "metadata": {
    "tags": []
   },
   "outputs": [
    {
     "name": "stdout",
     "output_type": "stream",
     "text": [
      "<class 'pandas.core.frame.DataFrame'>\n",
      "RangeIndex: 159292 entries, 0 to 159291\n",
      "Data columns (total 2 columns):\n",
      " #   Column  Non-Null Count   Dtype \n",
      "---  ------  --------------   ----- \n",
      " 0   text    159292 non-null  object\n",
      " 1   toxic   159292 non-null  int64 \n",
      "dtypes: int64(1), object(1)\n",
      "memory usage: 2.4+ MB\n"
     ]
    }
   ],
   "source": [
    "df.info()"
   ]
  },
  {
   "cell_type": "markdown",
   "metadata": {},
   "source": [
    "Мы избавились от столбца **Unnamed: 0**`"
   ]
  },
  {
   "cell_type": "markdown",
   "metadata": {},
   "source": [
    "### Лемматизация"
   ]
  },
  {
   "cell_type": "markdown",
   "metadata": {},
   "source": [
    "Пролемматизируем колонку **text**, для этого напишем функцию **lemm**"
   ]
  },
  {
   "cell_type": "code",
   "execution_count": 10,
   "metadata": {},
   "outputs": [],
   "source": [
    "def clear_text(text):\n",
    "    re_list = re.sub(r\"[^a-zA-Z']\", ' ', text)\n",
    "    re_list = re_list.split()\n",
    "    re_list = \" \".join(re_list)\n",
    "    return re_list\n",
    "\n",
    "def lemmatize_text(text):\n",
    "    lemmatizer = WordNetLemmatizer()\n",
    "    word_list = nltk.word_tokenize(text)\n",
    "    \n",
    "    return ' '.join([lemmatizer.lemmatize(w) for w in word_list])"
   ]
  },
  {
   "cell_type": "markdown",
   "metadata": {},
   "source": [
    "Применим функцию функцию **lemm**"
   ]
  },
  {
   "cell_type": "code",
   "execution_count": 11,
   "metadata": {
    "tags": []
   },
   "outputs": [],
   "source": [
    "df['lem_text'] = df['text'].apply(clear_text)\n",
    "df['lem_text'] = df['text'].apply(lemmatize_text)\n",
    "df = df.drop(['text'], axis=1)"
   ]
  },
  {
   "cell_type": "markdown",
   "metadata": {},
   "source": [
    "Разделим данные на выборки"
   ]
  },
  {
   "cell_type": "code",
   "execution_count": 12,
   "metadata": {
    "tags": []
   },
   "outputs": [],
   "source": [
    "target = df['toxic']\n",
    "features = df.drop(['toxic'], axis=1)['lem_text']\n",
    "\n",
    "X_train, X_test, y_train, y_test = train_test_split(features, \n",
    "                                                      target,\n",
    "                                                      stratify=target,\n",
    "                                                      test_size=0.2, \n",
    "                                                      random_state=RANDOM_STATE)"
   ]
  },
  {
   "cell_type": "markdown",
   "metadata": {},
   "source": [
    "Проверим выборки"
   ]
  },
  {
   "cell_type": "code",
   "execution_count": 13,
   "metadata": {},
   "outputs": [
    {
     "name": "stdout",
     "output_type": "stream",
     "text": [
      "features_train: 127433\n",
      "target_train: 127433\n",
      "\n",
      "features_test: 31859\n",
      "target_test: 31859\n"
     ]
    }
   ],
   "source": [
    "print('features_train:',X_train.shape[0])\n",
    "print('target_train:',y_train.shape[0])\n",
    "print()\n",
    "print('features_test:',X_test.shape[0])\n",
    "print('target_test:',y_test.shape[0])"
   ]
  },
  {
   "cell_type": "markdown",
   "metadata": {},
   "source": [
    "TFIDF векторизация"
   ]
  },
  {
   "cell_type": "code",
   "execution_count": 14,
   "metadata": {
    "tags": []
   },
   "outputs": [],
   "source": [
    "stopwords = list(nltk_stopwords.words('english'))"
   ]
  },
  {
   "cell_type": "markdown",
   "metadata": {
    "tags": []
   },
   "source": [
    "## Обучение"
   ]
  },
  {
   "cell_type": "markdown",
   "metadata": {},
   "source": [
    "Обучим 3 разные модели машинного обучения:\n",
    "* LogisticRegression\n",
    "* RandomForestClassifier\n",
    "* CatBoostClassifier"
   ]
  },
  {
   "cell_type": "markdown",
   "metadata": {},
   "source": [
    "### Модель LogisticRegression"
   ]
  },
  {
   "cell_type": "markdown",
   "metadata": {},
   "source": [
    "Подберем лучшие параметры для LogisticRegression"
   ]
  },
  {
   "cell_type": "code",
   "execution_count": 15,
   "metadata": {
    "tags": []
   },
   "outputs": [
    {
     "name": "stdout",
     "output_type": "stream",
     "text": [
      "Лучшее значение метрики: 0.767 \n",
      "\n",
      "Подобранные гиперпараметры модели\n",
      "CPU times: user 3min 32s, sys: 36 s, total: 4min 8s\n",
      "Wall time: 2min 1s\n"
     ]
    },
    {
     "data": {
      "text/plain": [
       "{'clf__C': 10, 'clf__class_weight': 'balanced', 'clf__random_state': 333}"
      ]
     },
     "execution_count": 15,
     "metadata": {},
     "output_type": "execute_result"
    }
   ],
   "source": [
    "%%time\n",
    "pipeline = Pipeline([('tf_idf', TfidfVectorizer(stop_words=stopwords)),\n",
    "                     ('clf', LogisticRegression())])\n",
    "params = [{'clf__C': [5, 7.5, 10],\n",
    "          'clf__class_weight': ['balanced'],\n",
    "          'clf__random_state': [RANDOM_STATE]}]\n",
    "\n",
    "gscv_lr = GridSearchCV(pipeline, params, scoring='f1', cv=5)\n",
    "gscv_lr.fit(X_train, y_train)\n",
    "print('Лучшее значение метрики:', round(gscv_lr.best_score_, 3),'\\n')\n",
    "print('Подобранные гиперпараметры модели')\n",
    "gscv_lr.best_params_"
   ]
  },
  {
   "cell_type": "code",
   "execution_count": 16,
   "metadata": {
    "tags": []
   },
   "outputs": [],
   "source": [
    "df_model_select = pd.DataFrame({'model':['LogisticRegression'],\n",
    "                                'score':[round(gscv_lr.best_score_, 3)]})"
   ]
  },
  {
   "cell_type": "markdown",
   "metadata": {},
   "source": [
    "### Модель RandomForestClassifier"
   ]
  },
  {
   "cell_type": "markdown",
   "metadata": {},
   "source": [
    "Подберем лучшие параметры для **RandomForestClassifie**"
   ]
  },
  {
   "cell_type": "code",
   "execution_count": 17,
   "metadata": {
    "tags": []
   },
   "outputs": [
    {
     "name": "stdout",
     "output_type": "stream",
     "text": [
      "Лучшее значение метрики: 0.695 \n",
      "\n",
      "Подобранные гиперпараметры модели\n",
      "CPU times: user 21min 29s, sys: 9.18 s, total: 21min 38s\n",
      "Wall time: 1h 5min 18s\n"
     ]
    },
    {
     "data": {
      "text/plain": [
       "{'clf__n_estimators': 200}"
      ]
     },
     "execution_count": 17,
     "metadata": {},
     "output_type": "execute_result"
    }
   ],
   "source": [
    "%%time\n",
    "\n",
    "pipeline = Pipeline([('tf_idf', TfidfVectorizer(stop_words=stopwords)),\n",
    "                 ('clf', RandomForestClassifier(random_state=RANDOM_STATE))])\n",
    "params = {\n",
    "    'clf__n_estimators': [100, 200] \n",
    "}\n",
    "\n",
    "rscv_rfc = RandomizedSearchCV(pipeline, param_distributions=params, scoring='f1', verbose=False, n_jobs=-1) \n",
    "rscv_rfc.fit(X_train, y_train)\n",
    "\n",
    "print('Лучшее значение метрики:', round(rscv_rfc.best_score_, 3),'\\n')\n",
    "print('Подобранные гиперпараметры модели')\n",
    "rscv_rfc.best_params_"
   ]
  },
  {
   "cell_type": "code",
   "execution_count": 18,
   "metadata": {
    "tags": []
   },
   "outputs": [
    {
     "data": {
      "text/html": [
       "<div>\n",
       "<style scoped>\n",
       "    .dataframe tbody tr th:only-of-type {\n",
       "        vertical-align: middle;\n",
       "    }\n",
       "\n",
       "    .dataframe tbody tr th {\n",
       "        vertical-align: top;\n",
       "    }\n",
       "\n",
       "    .dataframe thead th {\n",
       "        text-align: right;\n",
       "    }\n",
       "</style>\n",
       "<table border=\"1\" class=\"dataframe\">\n",
       "  <thead>\n",
       "    <tr style=\"text-align: right;\">\n",
       "      <th></th>\n",
       "      <th>model</th>\n",
       "      <th>score</th>\n",
       "    </tr>\n",
       "  </thead>\n",
       "  <tbody>\n",
       "    <tr>\n",
       "      <th>0</th>\n",
       "      <td>LogisticRegression</td>\n",
       "      <td>0.767000</td>\n",
       "    </tr>\n",
       "    <tr>\n",
       "      <th>1</th>\n",
       "      <td>RandomForestClassifier</td>\n",
       "      <td>0.694618</td>\n",
       "    </tr>\n",
       "  </tbody>\n",
       "</table>\n",
       "</div>"
      ],
      "text/plain": [
       "                    model     score\n",
       "0      LogisticRegression  0.767000\n",
       "1  RandomForestClassifier  0.694618"
      ]
     },
     "execution_count": 18,
     "metadata": {},
     "output_type": "execute_result"
    }
   ],
   "source": [
    "df_model_select.loc[1] = ['RandomForestClassifier', rscv_rfc.best_score_]\n",
    "df_model_select"
   ]
  },
  {
   "cell_type": "markdown",
   "metadata": {},
   "source": [
    "### Модель CatBoostClassifier"
   ]
  },
  {
   "cell_type": "code",
   "execution_count": 19,
   "metadata": {
    "tags": []
   },
   "outputs": [
    {
     "name": "stdout",
     "output_type": "stream",
     "text": [
      "Лучшее значение метрики: 0.743 \n",
      "\n",
      "Подобранные гиперпараметры модели\n",
      "CPU times: user 28min, sys: 23.7 s, total: 28min 24s\n",
      "Wall time: 1h 27min 51s\n"
     ]
    },
    {
     "data": {
      "text/plain": [
       "{'tf_idf__min_df': 1, 'clf__iterations': 500}"
      ]
     },
     "execution_count": 19,
     "metadata": {},
     "output_type": "execute_result"
    }
   ],
   "source": [
    "%%time\n",
    "pipeline = Pipeline([('tf_idf', TfidfVectorizer(stop_words=stopwords)),\n",
    "                 ('clf', CatBoostClassifier(verbose=False, random_state=RANDOM_STATE))])\n",
    "params = {\n",
    "    'tf_idf__min_df': range(1, 3, 1),\n",
    "    'clf__iterations': [100, 500]\n",
    "}\n",
    "\n",
    "rscv_cbc = RandomizedSearchCV(pipeline, param_distributions=params, scoring='f1', verbose=False, n_jobs=-1) \n",
    "rscv_cbc.fit(X_train, y_train)\n",
    "\n",
    "print('Лучшее значение метрики:', round(rscv_cbc.best_score_, 3),'\\n')\n",
    "print('Подобранные гиперпараметры модели')\n",
    "rscv_cbc.best_params_"
   ]
  },
  {
   "cell_type": "code",
   "execution_count": 20,
   "metadata": {
    "tags": []
   },
   "outputs": [
    {
     "data": {
      "text/html": [
       "<div>\n",
       "<style scoped>\n",
       "    .dataframe tbody tr th:only-of-type {\n",
       "        vertical-align: middle;\n",
       "    }\n",
       "\n",
       "    .dataframe tbody tr th {\n",
       "        vertical-align: top;\n",
       "    }\n",
       "\n",
       "    .dataframe thead th {\n",
       "        text-align: right;\n",
       "    }\n",
       "</style>\n",
       "<table border=\"1\" class=\"dataframe\">\n",
       "  <thead>\n",
       "    <tr style=\"text-align: right;\">\n",
       "      <th></th>\n",
       "      <th>model</th>\n",
       "      <th>score</th>\n",
       "    </tr>\n",
       "  </thead>\n",
       "  <tbody>\n",
       "    <tr>\n",
       "      <th>0</th>\n",
       "      <td>LogisticRegression</td>\n",
       "      <td>0.767000</td>\n",
       "    </tr>\n",
       "    <tr>\n",
       "      <th>1</th>\n",
       "      <td>RandomForestClassifier</td>\n",
       "      <td>0.694618</td>\n",
       "    </tr>\n",
       "    <tr>\n",
       "      <th>2</th>\n",
       "      <td>CatBoostClassifier</td>\n",
       "      <td>0.743039</td>\n",
       "    </tr>\n",
       "  </tbody>\n",
       "</table>\n",
       "</div>"
      ],
      "text/plain": [
       "                    model     score\n",
       "0      LogisticRegression  0.767000\n",
       "1  RandomForestClassifier  0.694618\n",
       "2      CatBoostClassifier  0.743039"
      ]
     },
     "execution_count": 20,
     "metadata": {},
     "output_type": "execute_result"
    }
   ],
   "source": [
    "df_model_select.loc[2] = ['CatBoostClassifier', rscv_cbc.best_score_]\n",
    "df_model_select "
   ]
  },
  {
   "cell_type": "markdown",
   "metadata": {},
   "source": [
    "## Анализ лучшей модели"
   ]
  },
  {
   "cell_type": "markdown",
   "metadata": {},
   "source": [
    "Проверим нашу выбранную модель **LinearRegression** на тестовой выборке"
   ]
  },
  {
   "cell_type": "code",
   "execution_count": 21,
   "metadata": {
    "tags": []
   },
   "outputs": [
    {
     "name": "stdout",
     "output_type": "stream",
     "text": [
      "CPU times: user 1.36 s, sys: 83 ms, total: 1.45 s\n",
      "Wall time: 1.49 s\n"
     ]
    }
   ],
   "source": [
    "%%time\n",
    "predict = gscv_lr.best_estimator_.predict(X_test)"
   ]
  },
  {
   "cell_type": "markdown",
   "metadata": {},
   "source": [
    "Посмотрим f1_score "
   ]
  },
  {
   "cell_type": "code",
   "execution_count": 23,
   "metadata": {
    "tags": []
   },
   "outputs": [
    {
     "data": {
      "text/plain": [
       "0.7625795257374205"
      ]
     },
     "execution_count": 23,
     "metadata": {},
     "output_type": "execute_result"
    }
   ],
   "source": [
    "f1_score(predict, y_test)"
   ]
  },
  {
   "cell_type": "markdown",
   "metadata": {},
   "source": [
    "Мы построили модель со значением метрики качества F1 не меньше 0.76 "
   ]
  },
  {
   "cell_type": "markdown",
   "metadata": {},
   "source": [
    "## Вывод"
   ]
  },
  {
   "cell_type": "markdown",
   "metadata": {},
   "source": [
    "Знакомство с данными:\n",
    "* Загрузили и сохранили данные в переменную df\n",
    "* Пропусков, проблем с типами данных, явных дубликатов, в данных нет,\n",
    "* Классы в целевой переменной не сбалансированы\n",
    "\n",
    "Подготовка данных:\n",
    "* Мы  избавились от лишней колонки **Unnamed: 0**\n",
    "* Подготовили данные и разделили их на тренировочную, тестовую и валидационную выборку\n",
    "\n",
    "Обучение моделей:\n",
    "* Мы обучили три модели:\n",
    "    * LogisticRegression\n",
    "    * RandomForestClassifier\n",
    "    * CatBoostRegressor\n",
    "* Лучшей моделью была выбрана LogisticRegression\n",
    "\n",
    "Анализ лучшей модели:\n",
    "* Модель LogisticRegression набрала значение качества на метрике F1 0.76, что удовлетворяет условию задачи"
   ]
  }
 ],
 "metadata": {
  "ExecuteTimeLog": [
   {
    "duration": 2034,
    "start_time": "2023-10-13T17:14:37.060Z"
   },
   {
    "duration": 80,
    "start_time": "2023-10-13T17:14:39.097Z"
   },
   {
    "duration": 190,
    "start_time": "2023-10-13T17:14:39.178Z"
   },
   {
    "duration": 0,
    "start_time": "2023-10-13T17:14:39.370Z"
   },
   {
    "duration": 0,
    "start_time": "2023-10-13T17:14:39.371Z"
   },
   {
    "duration": 0,
    "start_time": "2023-10-13T17:14:39.373Z"
   },
   {
    "duration": 0,
    "start_time": "2023-10-13T17:14:39.375Z"
   },
   {
    "duration": 0,
    "start_time": "2023-10-13T17:14:39.377Z"
   },
   {
    "duration": 0,
    "start_time": "2023-10-13T17:14:39.378Z"
   },
   {
    "duration": 0,
    "start_time": "2023-10-13T17:14:39.380Z"
   },
   {
    "duration": 0,
    "start_time": "2023-10-13T17:14:39.382Z"
   },
   {
    "duration": 0,
    "start_time": "2023-10-13T17:14:39.384Z"
   },
   {
    "duration": 0,
    "start_time": "2023-10-13T17:14:39.385Z"
   },
   {
    "duration": 0,
    "start_time": "2023-10-13T17:14:39.386Z"
   },
   {
    "duration": 0,
    "start_time": "2023-10-13T17:14:39.388Z"
   },
   {
    "duration": 0,
    "start_time": "2023-10-13T17:14:39.389Z"
   },
   {
    "duration": 0,
    "start_time": "2023-10-13T17:14:39.391Z"
   },
   {
    "duration": 2393,
    "start_time": "2023-10-13T17:15:15.036Z"
   },
   {
    "duration": 4,
    "start_time": "2023-10-13T17:15:17.682Z"
   },
   {
    "duration": 37,
    "start_time": "2023-10-13T17:15:17.688Z"
   },
   {
    "duration": 976,
    "start_time": "2023-10-13T17:15:17.727Z"
   },
   {
    "duration": 12,
    "start_time": "2023-10-13T17:15:18.704Z"
   },
   {
    "duration": 43,
    "start_time": "2023-10-13T17:15:18.718Z"
   },
   {
    "duration": 106,
    "start_time": "2023-10-13T17:15:18.763Z"
   },
   {
    "duration": 246,
    "start_time": "2023-10-13T17:15:18.871Z"
   },
   {
    "duration": 282,
    "start_time": "2023-10-13T17:15:19.118Z"
   },
   {
    "duration": 11,
    "start_time": "2023-10-13T17:15:19.401Z"
   },
   {
    "duration": 45,
    "start_time": "2023-10-13T17:15:19.414Z"
   },
   {
    "duration": 9,
    "start_time": "2023-10-13T17:15:19.461Z"
   },
   {
    "duration": 7947,
    "start_time": "2023-10-13T17:15:19.472Z"
   },
   {
    "duration": 46,
    "start_time": "2023-10-13T17:15:27.420Z"
   },
   {
    "duration": 10,
    "start_time": "2023-10-13T17:15:27.469Z"
   },
   {
    "duration": 32,
    "start_time": "2023-10-13T17:15:27.481Z"
   },
   {
    "duration": 19,
    "start_time": "2023-10-13T17:15:27.514Z"
   },
   {
    "duration": 27,
    "start_time": "2023-10-13T17:15:27.535Z"
   },
   {
    "duration": 16,
    "start_time": "2023-10-13T17:21:07.667Z"
   },
   {
    "duration": 4,
    "start_time": "2023-10-13T17:21:16.780Z"
   },
   {
    "duration": 14,
    "start_time": "2023-10-13T17:21:16.786Z"
   },
   {
    "duration": 912,
    "start_time": "2023-10-13T17:21:16.802Z"
   },
   {
    "duration": 7,
    "start_time": "2023-10-13T17:21:17.716Z"
   },
   {
    "duration": 40,
    "start_time": "2023-10-13T17:21:17.725Z"
   },
   {
    "duration": 31,
    "start_time": "2023-10-13T17:21:17.766Z"
   },
   {
    "duration": 242,
    "start_time": "2023-10-13T17:21:17.799Z"
   },
   {
    "duration": 266,
    "start_time": "2023-10-13T17:21:18.042Z"
   },
   {
    "duration": 12,
    "start_time": "2023-10-13T17:21:18.309Z"
   },
   {
    "duration": 60,
    "start_time": "2023-10-13T17:21:18.322Z"
   },
   {
    "duration": 6,
    "start_time": "2023-10-13T17:21:18.383Z"
   },
   {
    "duration": 6710,
    "start_time": "2023-10-13T17:21:18.390Z"
   },
   {
    "duration": 79,
    "start_time": "2023-10-13T17:21:25.102Z"
   },
   {
    "duration": 11,
    "start_time": "2023-10-13T17:21:25.184Z"
   },
   {
    "duration": 12,
    "start_time": "2023-10-13T17:21:25.197Z"
   },
   {
    "duration": 24,
    "start_time": "2023-10-13T17:21:25.211Z"
   },
   {
    "duration": 47,
    "start_time": "2023-10-13T17:21:25.237Z"
   },
   {
    "duration": 7,
    "start_time": "2023-10-13T17:22:15.210Z"
   },
   {
    "duration": 29,
    "start_time": "2023-10-13T17:22:15.220Z"
   },
   {
    "duration": 956,
    "start_time": "2023-10-13T17:22:15.251Z"
   },
   {
    "duration": 8,
    "start_time": "2023-10-13T17:22:16.208Z"
   },
   {
    "duration": 56,
    "start_time": "2023-10-13T17:22:16.218Z"
   },
   {
    "duration": 20,
    "start_time": "2023-10-13T17:22:16.276Z"
   },
   {
    "duration": 253,
    "start_time": "2023-10-13T17:22:16.298Z"
   },
   {
    "duration": 269,
    "start_time": "2023-10-13T17:22:16.553Z"
   },
   {
    "duration": 11,
    "start_time": "2023-10-13T17:22:16.824Z"
   },
   {
    "duration": 42,
    "start_time": "2023-10-13T17:22:16.837Z"
   },
   {
    "duration": 6,
    "start_time": "2023-10-13T17:22:16.881Z"
   },
   {
    "duration": 6613,
    "start_time": "2023-10-13T17:22:16.889Z"
   },
   {
    "duration": 65,
    "start_time": "2023-10-13T17:22:23.504Z"
   },
   {
    "duration": 8,
    "start_time": "2023-10-13T17:22:27.508Z"
   },
   {
    "duration": 6,
    "start_time": "2023-10-13T17:22:37.540Z"
   },
   {
    "duration": 15,
    "start_time": "2023-10-13T17:50:10.331Z"
   },
   {
    "duration": 13,
    "start_time": "2023-10-13T17:50:51.210Z"
   },
   {
    "duration": 5,
    "start_time": "2023-10-13T17:50:54.599Z"
   },
   {
    "duration": 16,
    "start_time": "2023-10-13T17:50:54.607Z"
   },
   {
    "duration": 951,
    "start_time": "2023-10-13T17:50:54.624Z"
   },
   {
    "duration": 8,
    "start_time": "2023-10-13T17:50:55.577Z"
   },
   {
    "duration": 34,
    "start_time": "2023-10-13T17:50:55.587Z"
   },
   {
    "duration": 41,
    "start_time": "2023-10-13T17:50:55.623Z"
   },
   {
    "duration": 251,
    "start_time": "2023-10-13T17:50:55.666Z"
   },
   {
    "duration": 271,
    "start_time": "2023-10-13T17:50:55.918Z"
   },
   {
    "duration": 12,
    "start_time": "2023-10-13T17:50:56.190Z"
   },
   {
    "duration": 45,
    "start_time": "2023-10-13T17:50:56.204Z"
   },
   {
    "duration": 4,
    "start_time": "2023-10-13T17:50:56.250Z"
   },
   {
    "duration": 6657,
    "start_time": "2023-10-13T17:50:56.256Z"
   },
   {
    "duration": 52,
    "start_time": "2023-10-13T17:51:02.916Z"
   },
   {
    "duration": 45,
    "start_time": "2023-10-13T17:51:02.970Z"
   },
   {
    "duration": 5,
    "start_time": "2023-10-13T17:51:50.208Z"
   },
   {
    "duration": 11,
    "start_time": "2023-10-13T17:51:52.131Z"
   },
   {
    "duration": 5,
    "start_time": "2023-10-13T17:51:54.450Z"
   },
   {
    "duration": 5,
    "start_time": "2023-10-13T17:51:59.545Z"
   },
   {
    "duration": 5,
    "start_time": "2023-10-13T17:52:01.220Z"
   },
   {
    "duration": 16,
    "start_time": "2023-10-13T17:52:03.215Z"
   },
   {
    "duration": 12,
    "start_time": "2023-10-13T19:19:33.847Z"
   },
   {
    "duration": 1195,
    "start_time": "2023-10-13T19:19:42.498Z"
   },
   {
    "duration": 1473,
    "start_time": "2023-10-13T19:22:44.501Z"
   },
   {
    "duration": 2338,
    "start_time": "2023-10-13T19:22:56.658Z"
   },
   {
    "duration": 26,
    "start_time": "2023-10-13T19:23:19.344Z"
   },
   {
    "duration": 15,
    "start_time": "2023-10-13T19:23:24.620Z"
   },
   {
    "duration": 1968,
    "start_time": "2023-10-13T19:23:41.307Z"
   },
   {
    "duration": 85,
    "start_time": "2023-10-13T19:23:43.277Z"
   },
   {
    "duration": 2378,
    "start_time": "2023-10-13T19:23:43.364Z"
   },
   {
    "duration": 9,
    "start_time": "2023-10-13T19:23:45.744Z"
   },
   {
    "duration": 39,
    "start_time": "2023-10-13T19:23:45.755Z"
   },
   {
    "duration": 23,
    "start_time": "2023-10-13T19:23:45.796Z"
   },
   {
    "duration": 268,
    "start_time": "2023-10-13T19:23:45.821Z"
   },
   {
    "duration": 359,
    "start_time": "2023-10-13T19:23:46.091Z"
   },
   {
    "duration": 11,
    "start_time": "2023-10-13T19:23:46.452Z"
   },
   {
    "duration": 42,
    "start_time": "2023-10-13T19:23:46.466Z"
   },
   {
    "duration": 18,
    "start_time": "2023-10-13T19:23:46.510Z"
   },
   {
    "duration": 7865,
    "start_time": "2023-10-13T19:23:46.530Z"
   },
   {
    "duration": 50,
    "start_time": "2023-10-13T19:23:54.397Z"
   },
   {
    "duration": 12504,
    "start_time": "2023-10-13T19:35:22.631Z"
   },
   {
    "duration": 5,
    "start_time": "2023-10-13T19:35:41.113Z"
   },
   {
    "duration": 138,
    "start_time": "2023-10-13T19:42:22.849Z"
   },
   {
    "duration": 1167,
    "start_time": "2023-10-13T19:50:25.060Z"
   },
   {
    "duration": 4,
    "start_time": "2023-10-13T19:50:29.361Z"
   },
   {
    "duration": 14,
    "start_time": "2023-10-13T19:50:29.367Z"
   },
   {
    "duration": 959,
    "start_time": "2023-10-13T19:50:29.383Z"
   },
   {
    "duration": 8,
    "start_time": "2023-10-13T19:50:30.343Z"
   },
   {
    "duration": 77,
    "start_time": "2023-10-13T19:50:30.354Z"
   },
   {
    "duration": 79,
    "start_time": "2023-10-13T19:50:30.433Z"
   },
   {
    "duration": 278,
    "start_time": "2023-10-13T19:50:30.514Z"
   },
   {
    "duration": 473,
    "start_time": "2023-10-13T19:50:30.794Z"
   },
   {
    "duration": 12,
    "start_time": "2023-10-13T19:50:31.269Z"
   },
   {
    "duration": 84,
    "start_time": "2023-10-13T19:50:31.283Z"
   },
   {
    "duration": 49,
    "start_time": "2023-10-13T19:50:31.369Z"
   },
   {
    "duration": 1900,
    "start_time": "2023-10-13T19:52:04.267Z"
   },
   {
    "duration": 86,
    "start_time": "2023-10-13T19:52:06.169Z"
   },
   {
    "duration": 2352,
    "start_time": "2023-10-13T19:52:06.257Z"
   },
   {
    "duration": 9,
    "start_time": "2023-10-13T19:52:08.611Z"
   },
   {
    "duration": 42,
    "start_time": "2023-10-13T19:52:08.622Z"
   },
   {
    "duration": 36,
    "start_time": "2023-10-13T19:52:08.666Z"
   },
   {
    "duration": 251,
    "start_time": "2023-10-13T19:52:08.704Z"
   },
   {
    "duration": 355,
    "start_time": "2023-10-13T19:52:08.957Z"
   },
   {
    "duration": 12,
    "start_time": "2023-10-13T19:52:09.314Z"
   },
   {
    "duration": 55,
    "start_time": "2023-10-13T19:52:09.328Z"
   },
   {
    "duration": 30,
    "start_time": "2023-10-13T19:52:09.385Z"
   },
   {
    "duration": 51,
    "start_time": "2023-10-13T19:53:02.829Z"
   },
   {
    "duration": 8,
    "start_time": "2023-10-13T19:53:32.247Z"
   },
   {
    "duration": 7,
    "start_time": "2023-10-13T19:53:33.779Z"
   },
   {
    "duration": 1952,
    "start_time": "2023-10-13T19:53:36.618Z"
   },
   {
    "duration": 90,
    "start_time": "2023-10-13T19:53:38.572Z"
   },
   {
    "duration": 2366,
    "start_time": "2023-10-13T19:53:38.664Z"
   },
   {
    "duration": 9,
    "start_time": "2023-10-13T19:53:41.032Z"
   },
   {
    "duration": 34,
    "start_time": "2023-10-13T19:53:41.043Z"
   },
   {
    "duration": 23,
    "start_time": "2023-10-13T19:53:41.078Z"
   },
   {
    "duration": 256,
    "start_time": "2023-10-13T19:53:41.102Z"
   },
   {
    "duration": 276,
    "start_time": "2023-10-13T19:53:41.360Z"
   },
   {
    "duration": 15,
    "start_time": "2023-10-13T19:53:41.638Z"
   },
   {
    "duration": 37,
    "start_time": "2023-10-13T19:53:41.655Z"
   },
   {
    "duration": 8,
    "start_time": "2023-10-13T19:53:41.694Z"
   },
   {
    "duration": 1875,
    "start_time": "2023-10-13T19:54:21.922Z"
   },
   {
    "duration": 77,
    "start_time": "2023-10-13T19:54:23.799Z"
   },
   {
    "duration": 2364,
    "start_time": "2023-10-13T19:54:23.878Z"
   },
   {
    "duration": 10,
    "start_time": "2023-10-13T19:54:26.244Z"
   },
   {
    "duration": 41,
    "start_time": "2023-10-13T19:54:26.256Z"
   },
   {
    "duration": 24,
    "start_time": "2023-10-13T19:54:26.298Z"
   },
   {
    "duration": 270,
    "start_time": "2023-10-13T19:54:26.324Z"
   },
   {
    "duration": 357,
    "start_time": "2023-10-13T19:54:26.596Z"
   },
   {
    "duration": 12,
    "start_time": "2023-10-13T19:54:26.955Z"
   },
   {
    "duration": 39,
    "start_time": "2023-10-13T19:54:26.968Z"
   },
   {
    "duration": 4,
    "start_time": "2023-10-13T19:54:27.009Z"
   },
   {
    "duration": 10198,
    "start_time": "2023-10-13T19:54:27.014Z"
   },
   {
    "duration": 44,
    "start_time": "2023-10-13T19:54:49.124Z"
   },
   {
    "duration": 10,
    "start_time": "2023-10-13T19:55:01.071Z"
   },
   {
    "duration": 9,
    "start_time": "2023-10-13T19:55:08.686Z"
   },
   {
    "duration": 148,
    "start_time": "2023-10-13T19:55:19.991Z"
   },
   {
    "duration": 1266,
    "start_time": "2023-10-13T20:26:40.672Z"
   },
   {
    "duration": 5,
    "start_time": "2023-10-13T20:26:46.778Z"
   },
   {
    "duration": 13,
    "start_time": "2023-10-13T20:26:46.786Z"
   },
   {
    "duration": 971,
    "start_time": "2023-10-13T20:26:46.800Z"
   },
   {
    "duration": 8,
    "start_time": "2023-10-13T20:26:47.773Z"
   },
   {
    "duration": 43,
    "start_time": "2023-10-13T20:26:47.783Z"
   },
   {
    "duration": 28,
    "start_time": "2023-10-13T20:26:47.827Z"
   },
   {
    "duration": 271,
    "start_time": "2023-10-13T20:26:47.857Z"
   },
   {
    "duration": 269,
    "start_time": "2023-10-13T20:26:48.130Z"
   },
   {
    "duration": 11,
    "start_time": "2023-10-13T20:26:48.401Z"
   },
   {
    "duration": 54,
    "start_time": "2023-10-13T20:26:48.414Z"
   },
   {
    "duration": 5,
    "start_time": "2023-10-13T20:26:48.470Z"
   },
   {
    "duration": 1868,
    "start_time": "2023-10-13T20:27:03.659Z"
   },
   {
    "duration": 80,
    "start_time": "2023-10-13T20:27:05.529Z"
   },
   {
    "duration": 2369,
    "start_time": "2023-10-13T20:27:05.611Z"
   },
   {
    "duration": 10,
    "start_time": "2023-10-13T20:27:07.982Z"
   },
   {
    "duration": 60,
    "start_time": "2023-10-13T20:27:07.995Z"
   },
   {
    "duration": 34,
    "start_time": "2023-10-13T20:27:08.057Z"
   },
   {
    "duration": 255,
    "start_time": "2023-10-13T20:27:08.092Z"
   },
   {
    "duration": 346,
    "start_time": "2023-10-13T20:27:08.349Z"
   },
   {
    "duration": 12,
    "start_time": "2023-10-13T20:27:08.697Z"
   },
   {
    "duration": 206,
    "start_time": "2023-10-13T20:27:08.710Z"
   },
   {
    "duration": 4,
    "start_time": "2023-10-13T20:27:08.917Z"
   },
   {
    "duration": 10067,
    "start_time": "2023-10-13T20:27:08.923Z"
   },
   {
    "duration": 137,
    "start_time": "2023-10-13T20:29:33.566Z"
   },
   {
    "duration": 46,
    "start_time": "2023-10-13T20:29:45.992Z"
   },
   {
    "duration": 3,
    "start_time": "2023-10-13T20:29:46.894Z"
   },
   {
    "duration": 19,
    "start_time": "2023-10-13T20:29:53.898Z"
   },
   {
    "duration": 13,
    "start_time": "2023-10-13T20:30:00.816Z"
   },
   {
    "duration": 11,
    "start_time": "2023-10-13T20:30:37.259Z"
   },
   {
    "duration": 12,
    "start_time": "2023-10-13T20:30:38.831Z"
   },
   {
    "duration": 11,
    "start_time": "2023-10-13T20:30:39.274Z"
   },
   {
    "duration": 11,
    "start_time": "2023-10-13T20:30:39.544Z"
   },
   {
    "duration": 12,
    "start_time": "2023-10-13T20:30:39.810Z"
   },
   {
    "duration": 13,
    "start_time": "2023-10-13T20:31:28.859Z"
   },
   {
    "duration": 6,
    "start_time": "2023-10-13T20:37:01.600Z"
   },
   {
    "duration": 1060,
    "start_time": "2023-10-13T20:37:01.608Z"
   },
   {
    "duration": 9,
    "start_time": "2023-10-13T20:37:02.670Z"
   },
   {
    "duration": 91,
    "start_time": "2023-10-13T20:37:02.681Z"
   },
   {
    "duration": 46,
    "start_time": "2023-10-13T20:37:02.774Z"
   },
   {
    "duration": 279,
    "start_time": "2023-10-13T20:37:02.822Z"
   },
   {
    "duration": 278,
    "start_time": "2023-10-13T20:37:03.103Z"
   },
   {
    "duration": 11,
    "start_time": "2023-10-13T20:37:03.383Z"
   },
   {
    "duration": 76,
    "start_time": "2023-10-13T20:37:03.396Z"
   },
   {
    "duration": 31,
    "start_time": "2023-10-13T20:37:03.474Z"
   },
   {
    "duration": 52,
    "start_time": "2023-10-13T20:42:17.682Z"
   },
   {
    "duration": 1972,
    "start_time": "2023-10-13T20:42:21.647Z"
   },
   {
    "duration": 2384,
    "start_time": "2023-10-13T20:42:23.621Z"
   },
   {
    "duration": 12,
    "start_time": "2023-10-13T20:42:26.006Z"
   },
   {
    "duration": 41,
    "start_time": "2023-10-13T20:42:26.019Z"
   },
   {
    "duration": 23,
    "start_time": "2023-10-13T20:42:26.063Z"
   },
   {
    "duration": 274,
    "start_time": "2023-10-13T20:42:26.088Z"
   },
   {
    "duration": 276,
    "start_time": "2023-10-13T20:42:26.364Z"
   },
   {
    "duration": 13,
    "start_time": "2023-10-13T20:42:26.641Z"
   },
   {
    "duration": 37,
    "start_time": "2023-10-13T20:42:26.656Z"
   },
   {
    "duration": 6,
    "start_time": "2023-10-13T20:42:26.694Z"
   },
   {
    "duration": 10200,
    "start_time": "2023-10-13T20:42:27.819Z"
   },
   {
    "duration": 42,
    "start_time": "2023-10-13T20:43:45.236Z"
   },
   {
    "duration": 4,
    "start_time": "2023-10-13T20:43:47.857Z"
   },
   {
    "duration": 97,
    "start_time": "2023-10-13T20:43:49.466Z"
   },
   {
    "duration": 5,
    "start_time": "2023-10-13T20:44:14.102Z"
   },
   {
    "duration": 11,
    "start_time": "2023-10-13T20:44:18.378Z"
   },
   {
    "duration": 13,
    "start_time": "2023-10-13T20:44:49.629Z"
   },
   {
    "duration": 5,
    "start_time": "2023-10-13T20:54:26.047Z"
   },
   {
    "duration": 944,
    "start_time": "2023-10-13T20:54:26.054Z"
   },
   {
    "duration": 7,
    "start_time": "2023-10-13T20:54:27.000Z"
   },
   {
    "duration": 45,
    "start_time": "2023-10-13T20:54:27.009Z"
   },
   {
    "duration": 22,
    "start_time": "2023-10-13T20:54:27.057Z"
   },
   {
    "duration": 263,
    "start_time": "2023-10-13T20:54:27.081Z"
   },
   {
    "duration": 266,
    "start_time": "2023-10-13T20:54:27.347Z"
   },
   {
    "duration": 11,
    "start_time": "2023-10-13T20:54:27.615Z"
   },
   {
    "duration": 41,
    "start_time": "2023-10-13T20:54:27.628Z"
   },
   {
    "duration": 6,
    "start_time": "2023-10-13T20:54:27.671Z"
   },
   {
    "duration": 1893,
    "start_time": "2023-10-13T20:54:38.489Z"
   },
   {
    "duration": 2336,
    "start_time": "2023-10-13T20:54:40.384Z"
   },
   {
    "duration": 10,
    "start_time": "2023-10-13T20:54:42.722Z"
   },
   {
    "duration": 34,
    "start_time": "2023-10-13T20:54:42.734Z"
   },
   {
    "duration": 22,
    "start_time": "2023-10-13T20:54:42.771Z"
   },
   {
    "duration": 259,
    "start_time": "2023-10-13T20:54:42.794Z"
   },
   {
    "duration": 264,
    "start_time": "2023-10-13T20:54:43.054Z"
   },
   {
    "duration": 11,
    "start_time": "2023-10-13T20:54:43.319Z"
   },
   {
    "duration": 41,
    "start_time": "2023-10-13T20:54:43.332Z"
   },
   {
    "duration": 4,
    "start_time": "2023-10-13T20:54:43.375Z"
   },
   {
    "duration": 10111,
    "start_time": "2023-10-13T20:54:43.381Z"
   },
   {
    "duration": 55,
    "start_time": "2023-10-13T20:54:53.494Z"
   },
   {
    "duration": 5,
    "start_time": "2023-10-13T20:54:53.551Z"
   },
   {
    "duration": 149,
    "start_time": "2023-10-13T20:54:53.559Z"
   },
   {
    "duration": 0,
    "start_time": "2023-10-13T20:54:53.710Z"
   },
   {
    "duration": 0,
    "start_time": "2023-10-13T20:54:53.712Z"
   },
   {
    "duration": 12,
    "start_time": "2023-10-13T20:55:26.962Z"
   },
   {
    "duration": 14,
    "start_time": "2023-10-13T20:56:52.616Z"
   },
   {
    "duration": 5,
    "start_time": "2023-10-13T20:57:15.480Z"
   },
   {
    "duration": 950,
    "start_time": "2023-10-13T20:57:15.487Z"
   },
   {
    "duration": 8,
    "start_time": "2023-10-13T20:57:16.438Z"
   },
   {
    "duration": 38,
    "start_time": "2023-10-13T20:57:16.447Z"
   },
   {
    "duration": 20,
    "start_time": "2023-10-13T20:57:16.489Z"
   },
   {
    "duration": 258,
    "start_time": "2023-10-13T20:57:16.511Z"
   },
   {
    "duration": 257,
    "start_time": "2023-10-13T20:57:16.771Z"
   },
   {
    "duration": 18,
    "start_time": "2023-10-13T20:57:17.030Z"
   },
   {
    "duration": 56,
    "start_time": "2023-10-13T20:57:17.049Z"
   },
   {
    "duration": 11,
    "start_time": "2023-10-13T20:57:17.107Z"
   },
   {
    "duration": 1958,
    "start_time": "2023-10-13T20:57:37.571Z"
   },
   {
    "duration": 2359,
    "start_time": "2023-10-13T20:57:39.531Z"
   },
   {
    "duration": 11,
    "start_time": "2023-10-13T20:57:41.892Z"
   },
   {
    "duration": 57,
    "start_time": "2023-10-13T20:57:41.905Z"
   },
   {
    "duration": 30,
    "start_time": "2023-10-13T20:57:41.965Z"
   },
   {
    "duration": 254,
    "start_time": "2023-10-13T20:57:41.997Z"
   },
   {
    "duration": 272,
    "start_time": "2023-10-13T20:57:42.253Z"
   },
   {
    "duration": 12,
    "start_time": "2023-10-13T20:57:42.526Z"
   },
   {
    "duration": 35,
    "start_time": "2023-10-13T20:57:42.547Z"
   },
   {
    "duration": 7,
    "start_time": "2023-10-13T20:57:42.583Z"
   },
   {
    "duration": 10166,
    "start_time": "2023-10-13T20:57:42.592Z"
   },
   {
    "duration": 40,
    "start_time": "2023-10-13T20:57:52.759Z"
   },
   {
    "duration": 3,
    "start_time": "2023-10-13T20:57:52.801Z"
   },
   {
    "duration": 12,
    "start_time": "2023-10-13T20:57:58.000Z"
   },
   {
    "duration": 5,
    "start_time": "2023-10-13T20:59:05.398Z"
   },
   {
    "duration": 5,
    "start_time": "2023-10-13T20:59:15.715Z"
   },
   {
    "duration": 5,
    "start_time": "2023-10-13T21:01:01.604Z"
   },
   {
    "duration": 6,
    "start_time": "2023-10-13T21:01:04.192Z"
   },
   {
    "duration": 6,
    "start_time": "2023-10-13T21:02:06.847Z"
   },
   {
    "duration": 10093,
    "start_time": "2023-10-13T21:10:46.124Z"
   },
   {
    "duration": 6,
    "start_time": "2023-10-13T21:10:56.219Z"
   },
   {
    "duration": 27,
    "start_time": "2023-10-13T21:11:38.015Z"
   },
   {
    "duration": 6,
    "start_time": "2023-10-13T21:11:43.129Z"
   },
   {
    "duration": 10008,
    "start_time": "2023-10-13T21:11:49.417Z"
   },
   {
    "duration": 26,
    "start_time": "2023-10-13T21:12:04.429Z"
   },
   {
    "duration": 5,
    "start_time": "2023-10-13T21:12:09.438Z"
   },
   {
    "duration": 14,
    "start_time": "2023-10-13T21:12:12.965Z"
   },
   {
    "duration": 12,
    "start_time": "2023-10-13T21:12:13.383Z"
   },
   {
    "duration": 12,
    "start_time": "2023-10-13T21:12:13.649Z"
   },
   {
    "duration": 12,
    "start_time": "2023-10-13T21:12:13.883Z"
   },
   {
    "duration": 8,
    "start_time": "2023-10-13T21:12:20.923Z"
   },
   {
    "duration": 146,
    "start_time": "2023-10-13T21:14:53.051Z"
   },
   {
    "duration": 16,
    "start_time": "2023-10-13T21:14:59.993Z"
   },
   {
    "duration": 1397,
    "start_time": "2023-10-13T21:15:16.561Z"
   },
   {
    "duration": 8,
    "start_time": "2023-10-13T21:15:27.420Z"
   },
   {
    "duration": 4584,
    "start_time": "2023-10-13T21:15:34.128Z"
   },
   {
    "duration": 6,
    "start_time": "2023-10-13T21:15:54.752Z"
   },
   {
    "duration": 6,
    "start_time": "2023-10-13T21:18:27.079Z"
   },
   {
    "duration": 13,
    "start_time": "2023-10-13T21:22:31.803Z"
   },
   {
    "duration": 5,
    "start_time": "2023-10-13T21:23:34.329Z"
   },
   {
    "duration": 16,
    "start_time": "2023-10-13T21:23:41.577Z"
   },
   {
    "duration": 5,
    "start_time": "2023-10-13T21:24:01.793Z"
   },
   {
    "duration": 974,
    "start_time": "2023-10-13T21:24:01.800Z"
   },
   {
    "duration": 7,
    "start_time": "2023-10-13T21:24:02.776Z"
   },
   {
    "duration": 84,
    "start_time": "2023-10-13T21:24:02.784Z"
   },
   {
    "duration": 47,
    "start_time": "2023-10-13T21:24:02.870Z"
   },
   {
    "duration": 247,
    "start_time": "2023-10-13T21:24:02.919Z"
   },
   {
    "duration": 265,
    "start_time": "2023-10-13T21:24:03.168Z"
   },
   {
    "duration": 18,
    "start_time": "2023-10-13T21:24:03.435Z"
   },
   {
    "duration": 55,
    "start_time": "2023-10-13T21:24:03.455Z"
   },
   {
    "duration": 4,
    "start_time": "2023-10-13T21:24:03.512Z"
   },
   {
    "duration": 6643,
    "start_time": "2023-10-13T21:24:03.517Z"
   },
   {
    "duration": 0,
    "start_time": "2023-10-13T21:24:10.162Z"
   },
   {
    "duration": 0,
    "start_time": "2023-10-13T21:24:10.163Z"
   },
   {
    "duration": 0,
    "start_time": "2023-10-13T21:24:10.164Z"
   },
   {
    "duration": 0,
    "start_time": "2023-10-13T21:24:10.165Z"
   },
   {
    "duration": 0,
    "start_time": "2023-10-13T21:24:10.166Z"
   },
   {
    "duration": 16,
    "start_time": "2023-10-13T21:24:48.698Z"
   },
   {
    "duration": 6,
    "start_time": "2023-10-13T21:25:24.245Z"
   },
   {
    "duration": 995,
    "start_time": "2023-10-13T21:25:24.253Z"
   },
   {
    "duration": 8,
    "start_time": "2023-10-13T21:25:25.251Z"
   },
   {
    "duration": 39,
    "start_time": "2023-10-13T21:25:25.261Z"
   },
   {
    "duration": 26,
    "start_time": "2023-10-13T21:25:25.303Z"
   },
   {
    "duration": 246,
    "start_time": "2023-10-13T21:25:25.332Z"
   },
   {
    "duration": 266,
    "start_time": "2023-10-13T21:25:25.581Z"
   },
   {
    "duration": 12,
    "start_time": "2023-10-13T21:25:25.848Z"
   },
   {
    "duration": 39,
    "start_time": "2023-10-13T21:25:25.862Z"
   },
   {
    "duration": 4,
    "start_time": "2023-10-13T21:25:25.904Z"
   },
   {
    "duration": 6530,
    "start_time": "2023-10-13T21:25:25.910Z"
   },
   {
    "duration": 0,
    "start_time": "2023-10-13T21:25:32.447Z"
   },
   {
    "duration": 0,
    "start_time": "2023-10-13T21:25:32.448Z"
   },
   {
    "duration": 0,
    "start_time": "2023-10-13T21:25:32.449Z"
   },
   {
    "duration": 1,
    "start_time": "2023-10-13T21:25:32.449Z"
   },
   {
    "duration": 0,
    "start_time": "2023-10-13T21:25:32.451Z"
   },
   {
    "duration": 8078,
    "start_time": "2023-10-13T21:25:48.789Z"
   },
   {
    "duration": 7791,
    "start_time": "2023-10-13T21:35:32.796Z"
   },
   {
    "duration": 5,
    "start_time": "2023-10-13T21:35:45.721Z"
   },
   {
    "duration": 973,
    "start_time": "2023-10-13T21:35:45.728Z"
   },
   {
    "duration": 7,
    "start_time": "2023-10-13T21:35:46.703Z"
   },
   {
    "duration": 51,
    "start_time": "2023-10-13T21:35:46.712Z"
   },
   {
    "duration": 39,
    "start_time": "2023-10-13T21:35:46.765Z"
   },
   {
    "duration": 235,
    "start_time": "2023-10-13T21:35:46.806Z"
   },
   {
    "duration": 260,
    "start_time": "2023-10-13T21:35:47.042Z"
   },
   {
    "duration": 11,
    "start_time": "2023-10-13T21:35:47.304Z"
   },
   {
    "duration": 52,
    "start_time": "2023-10-13T21:35:47.317Z"
   },
   {
    "duration": 27,
    "start_time": "2023-10-13T21:35:47.371Z"
   },
   {
    "duration": 7794,
    "start_time": "2023-10-13T21:35:47.400Z"
   },
   {
    "duration": 1872,
    "start_time": "2023-10-13T21:36:16.634Z"
   },
   {
    "duration": 2407,
    "start_time": "2023-10-13T21:36:18.509Z"
   },
   {
    "duration": 11,
    "start_time": "2023-10-13T21:36:20.918Z"
   },
   {
    "duration": 41,
    "start_time": "2023-10-13T21:36:20.931Z"
   },
   {
    "duration": 23,
    "start_time": "2023-10-13T21:36:20.975Z"
   },
   {
    "duration": 269,
    "start_time": "2023-10-13T21:36:21.000Z"
   },
   {
    "duration": 296,
    "start_time": "2023-10-13T21:36:21.271Z"
   },
   {
    "duration": 12,
    "start_time": "2023-10-13T21:36:21.569Z"
   },
   {
    "duration": 36,
    "start_time": "2023-10-13T21:36:21.583Z"
   },
   {
    "duration": 3,
    "start_time": "2023-10-13T21:36:21.621Z"
   },
   {
    "duration": 10253,
    "start_time": "2023-10-13T21:36:21.626Z"
   },
   {
    "duration": 43,
    "start_time": "2023-10-13T21:36:33.768Z"
   },
   {
    "duration": 4,
    "start_time": "2023-10-13T21:36:37.482Z"
   },
   {
    "duration": 8,
    "start_time": "2023-10-13T21:36:39.137Z"
   },
   {
    "duration": 4,
    "start_time": "2023-10-13T21:36:47.658Z"
   },
   {
    "duration": 4,
    "start_time": "2023-10-13T21:37:08.353Z"
   },
   {
    "duration": 51,
    "start_time": "2023-10-13T21:37:31.365Z"
   },
   {
    "duration": 1815,
    "start_time": "2023-10-13T21:37:35.683Z"
   },
   {
    "duration": 2397,
    "start_time": "2023-10-13T21:37:37.500Z"
   },
   {
    "duration": 11,
    "start_time": "2023-10-13T21:37:39.900Z"
   },
   {
    "duration": 53,
    "start_time": "2023-10-13T21:37:39.913Z"
   },
   {
    "duration": 48,
    "start_time": "2023-10-13T21:37:39.969Z"
   },
   {
    "duration": 285,
    "start_time": "2023-10-13T21:37:40.018Z"
   },
   {
    "duration": 292,
    "start_time": "2023-10-13T21:37:40.306Z"
   },
   {
    "duration": 11,
    "start_time": "2023-10-13T21:37:40.600Z"
   },
   {
    "duration": 46,
    "start_time": "2023-10-13T21:37:40.613Z"
   },
   {
    "duration": 3,
    "start_time": "2023-10-13T21:37:40.661Z"
   },
   {
    "duration": 10222,
    "start_time": "2023-10-13T21:37:40.666Z"
   },
   {
    "duration": 43,
    "start_time": "2023-10-13T21:37:50.890Z"
   },
   {
    "duration": 54,
    "start_time": "2023-10-13T21:38:32.785Z"
   },
   {
    "duration": 1820,
    "start_time": "2023-10-13T21:38:36.517Z"
   },
   {
    "duration": 2383,
    "start_time": "2023-10-13T21:38:38.339Z"
   },
   {
    "duration": 11,
    "start_time": "2023-10-13T21:38:40.724Z"
   },
   {
    "duration": 45,
    "start_time": "2023-10-13T21:38:40.737Z"
   },
   {
    "duration": 27,
    "start_time": "2023-10-13T21:38:40.785Z"
   },
   {
    "duration": 256,
    "start_time": "2023-10-13T21:38:40.814Z"
   },
   {
    "duration": 276,
    "start_time": "2023-10-13T21:38:41.072Z"
   },
   {
    "duration": 12,
    "start_time": "2023-10-13T21:38:41.350Z"
   },
   {
    "duration": 38,
    "start_time": "2023-10-13T21:38:41.364Z"
   },
   {
    "duration": 3,
    "start_time": "2023-10-13T21:38:41.404Z"
   },
   {
    "duration": 10219,
    "start_time": "2023-10-13T21:38:41.409Z"
   },
   {
    "duration": 57,
    "start_time": "2023-10-13T21:38:51.630Z"
   },
   {
    "duration": 52,
    "start_time": "2023-10-13T21:38:55.786Z"
   },
   {
    "duration": 1971,
    "start_time": "2023-10-14T12:19:34.401Z"
   },
   {
    "duration": 3139,
    "start_time": "2023-10-14T12:19:36.374Z"
   },
   {
    "duration": 10,
    "start_time": "2023-10-14T12:19:39.515Z"
   },
   {
    "duration": 54,
    "start_time": "2023-10-14T12:19:39.526Z"
   },
   {
    "duration": 43,
    "start_time": "2023-10-14T12:19:39.582Z"
   },
   {
    "duration": 231,
    "start_time": "2023-10-14T12:19:39.626Z"
   },
   {
    "duration": 259,
    "start_time": "2023-10-14T12:19:39.858Z"
   },
   {
    "duration": 27,
    "start_time": "2023-10-14T12:19:40.119Z"
   },
   {
    "duration": 33,
    "start_time": "2023-10-14T12:19:40.147Z"
   },
   {
    "duration": 6,
    "start_time": "2023-10-14T12:19:40.182Z"
   },
   {
    "duration": 9107,
    "start_time": "2023-10-14T12:19:40.190Z"
   },
   {
    "duration": 46,
    "start_time": "2023-10-14T12:19:49.299Z"
   },
   {
    "duration": 52,
    "start_time": "2023-10-14T12:22:04.825Z"
   },
   {
    "duration": 1818,
    "start_time": "2023-10-14T12:22:09.203Z"
   },
   {
    "duration": 3134,
    "start_time": "2023-10-14T12:22:11.023Z"
   },
   {
    "duration": 13,
    "start_time": "2023-10-14T12:22:14.159Z"
   },
   {
    "duration": 65,
    "start_time": "2023-10-14T12:22:14.174Z"
   },
   {
    "duration": 59,
    "start_time": "2023-10-14T12:22:14.242Z"
   },
   {
    "duration": 264,
    "start_time": "2023-10-14T12:22:14.303Z"
   },
   {
    "duration": 251,
    "start_time": "2023-10-14T12:22:14.569Z"
   },
   {
    "duration": 9,
    "start_time": "2023-10-14T12:22:14.822Z"
   },
   {
    "duration": 51,
    "start_time": "2023-10-14T12:22:14.833Z"
   },
   {
    "duration": 22,
    "start_time": "2023-10-14T12:22:14.886Z"
   },
   {
    "duration": 1667,
    "start_time": "2023-10-14T12:22:36.167Z"
   },
   {
    "duration": 3114,
    "start_time": "2023-10-14T12:22:37.837Z"
   },
   {
    "duration": 11,
    "start_time": "2023-10-14T12:22:40.953Z"
   },
   {
    "duration": 31,
    "start_time": "2023-10-14T12:22:40.965Z"
   },
   {
    "duration": 20,
    "start_time": "2023-10-14T12:22:40.998Z"
   },
   {
    "duration": 227,
    "start_time": "2023-10-14T12:22:41.020Z"
   },
   {
    "duration": 245,
    "start_time": "2023-10-14T12:22:41.249Z"
   },
   {
    "duration": 10,
    "start_time": "2023-10-14T12:22:41.495Z"
   },
   {
    "duration": 44,
    "start_time": "2023-10-14T12:22:41.507Z"
   },
   {
    "duration": 25,
    "start_time": "2023-10-14T12:22:41.552Z"
   },
   {
    "duration": 47,
    "start_time": "2023-10-14T12:25:12.934Z"
   },
   {
    "duration": 1636,
    "start_time": "2023-10-14T12:25:16.910Z"
   },
   {
    "duration": 3123,
    "start_time": "2023-10-14T12:25:18.548Z"
   },
   {
    "duration": 11,
    "start_time": "2023-10-14T12:25:21.672Z"
   },
   {
    "duration": 53,
    "start_time": "2023-10-14T12:25:21.684Z"
   },
   {
    "duration": 30,
    "start_time": "2023-10-14T12:25:21.740Z"
   },
   {
    "duration": 235,
    "start_time": "2023-10-14T12:25:21.771Z"
   },
   {
    "duration": 242,
    "start_time": "2023-10-14T12:25:22.008Z"
   },
   {
    "duration": 10,
    "start_time": "2023-10-14T12:25:22.252Z"
   },
   {
    "duration": 46,
    "start_time": "2023-10-14T12:25:22.263Z"
   },
   {
    "duration": 13,
    "start_time": "2023-10-14T12:25:22.311Z"
   },
   {
    "duration": 8825,
    "start_time": "2023-10-14T12:25:22.326Z"
   },
   {
    "duration": 51,
    "start_time": "2023-10-14T12:26:42.484Z"
   },
   {
    "duration": 1761,
    "start_time": "2023-10-14T12:26:45.943Z"
   },
   {
    "duration": 3094,
    "start_time": "2023-10-14T12:26:47.706Z"
   },
   {
    "duration": 11,
    "start_time": "2023-10-14T12:26:50.802Z"
   },
   {
    "duration": 51,
    "start_time": "2023-10-14T12:26:50.815Z"
   },
   {
    "duration": 37,
    "start_time": "2023-10-14T12:26:50.869Z"
   },
   {
    "duration": 227,
    "start_time": "2023-10-14T12:26:50.908Z"
   },
   {
    "duration": 229,
    "start_time": "2023-10-14T12:26:51.136Z"
   },
   {
    "duration": 9,
    "start_time": "2023-10-14T12:26:51.367Z"
   },
   {
    "duration": 51,
    "start_time": "2023-10-14T12:26:51.377Z"
   },
   {
    "duration": 22,
    "start_time": "2023-10-14T12:26:51.430Z"
   },
   {
    "duration": 9016,
    "start_time": "2023-10-14T12:26:51.454Z"
   },
   {
    "duration": 47,
    "start_time": "2023-10-14T12:30:09.998Z"
   },
   {
    "duration": 1804,
    "start_time": "2023-10-14T12:30:12.866Z"
   },
   {
    "duration": 3144,
    "start_time": "2023-10-14T12:30:14.672Z"
   },
   {
    "duration": 12,
    "start_time": "2023-10-14T12:30:17.817Z"
   },
   {
    "duration": 38,
    "start_time": "2023-10-14T12:30:17.830Z"
   },
   {
    "duration": 19,
    "start_time": "2023-10-14T12:30:17.870Z"
   },
   {
    "duration": 225,
    "start_time": "2023-10-14T12:30:17.890Z"
   },
   {
    "duration": 242,
    "start_time": "2023-10-14T12:30:18.116Z"
   },
   {
    "duration": 9,
    "start_time": "2023-10-14T12:30:18.360Z"
   },
   {
    "duration": 34,
    "start_time": "2023-10-14T12:30:18.371Z"
   },
   {
    "duration": 8,
    "start_time": "2023-10-14T12:30:18.407Z"
   },
   {
    "duration": 8848,
    "start_time": "2023-10-14T12:30:18.416Z"
   },
   {
    "duration": 1753,
    "start_time": "2023-10-14T12:36:05.359Z"
   },
   {
    "duration": 4,
    "start_time": "2023-10-14T12:36:11.508Z"
   },
   {
    "duration": 835,
    "start_time": "2023-10-14T12:36:11.514Z"
   },
   {
    "duration": 7,
    "start_time": "2023-10-14T12:36:12.351Z"
   },
   {
    "duration": 32,
    "start_time": "2023-10-14T12:36:12.360Z"
   },
   {
    "duration": 26,
    "start_time": "2023-10-14T12:36:12.395Z"
   },
   {
    "duration": 222,
    "start_time": "2023-10-14T12:36:12.423Z"
   },
   {
    "duration": 228,
    "start_time": "2023-10-14T12:36:12.646Z"
   },
   {
    "duration": 10,
    "start_time": "2023-10-14T12:36:12.876Z"
   },
   {
    "duration": 44,
    "start_time": "2023-10-14T12:36:12.887Z"
   },
   {
    "duration": 6,
    "start_time": "2023-10-14T12:36:12.933Z"
   },
   {
    "duration": 5900,
    "start_time": "2023-10-14T12:36:12.941Z"
   },
   {
    "duration": 1668,
    "start_time": "2023-10-14T12:37:04.491Z"
   },
   {
    "duration": 3097,
    "start_time": "2023-10-14T12:37:06.161Z"
   },
   {
    "duration": 11,
    "start_time": "2023-10-14T12:37:09.259Z"
   },
   {
    "duration": 30,
    "start_time": "2023-10-14T12:37:09.271Z"
   },
   {
    "duration": 20,
    "start_time": "2023-10-14T12:37:09.304Z"
   },
   {
    "duration": 239,
    "start_time": "2023-10-14T12:37:09.325Z"
   },
   {
    "duration": 254,
    "start_time": "2023-10-14T12:37:09.566Z"
   },
   {
    "duration": 10,
    "start_time": "2023-10-14T12:37:09.822Z"
   },
   {
    "duration": 34,
    "start_time": "2023-10-14T12:37:09.833Z"
   },
   {
    "duration": 25,
    "start_time": "2023-10-14T12:37:09.870Z"
   },
   {
    "duration": 7490,
    "start_time": "2023-10-14T12:37:09.897Z"
   },
   {
    "duration": 36,
    "start_time": "2023-10-14T12:37:18.976Z"
   },
   {
    "duration": 6631,
    "start_time": "2023-10-14T12:40:05.306Z"
   },
   {
    "duration": 13,
    "start_time": "2023-10-14T12:40:33.517Z"
   },
   {
    "duration": 4,
    "start_time": "2023-10-14T12:40:40.173Z"
   },
   {
    "duration": 5,
    "start_time": "2023-10-14T12:40:45.231Z"
   },
   {
    "duration": 4,
    "start_time": "2023-10-14T12:40:47.988Z"
   },
   {
    "duration": 4,
    "start_time": "2023-10-14T12:41:00.738Z"
   },
   {
    "duration": 4,
    "start_time": "2023-10-14T12:41:04.723Z"
   },
   {
    "duration": 4,
    "start_time": "2023-10-14T12:41:07.627Z"
   },
   {
    "duration": 119,
    "start_time": "2023-10-14T12:41:12.411Z"
   },
   {
    "duration": 4,
    "start_time": "2023-10-14T12:41:15.484Z"
   },
   {
    "duration": 14,
    "start_time": "2023-10-14T12:41:26.372Z"
   },
   {
    "duration": 11,
    "start_time": "2023-10-14T12:42:21.630Z"
   },
   {
    "duration": 5,
    "start_time": "2023-10-14T12:42:26.468Z"
   },
   {
    "duration": 778,
    "start_time": "2023-10-14T12:42:26.475Z"
   },
   {
    "duration": 6,
    "start_time": "2023-10-14T12:42:27.255Z"
   },
   {
    "duration": 44,
    "start_time": "2023-10-14T12:42:27.263Z"
   },
   {
    "duration": 18,
    "start_time": "2023-10-14T12:42:27.309Z"
   },
   {
    "duration": 204,
    "start_time": "2023-10-14T12:42:27.328Z"
   },
   {
    "duration": 227,
    "start_time": "2023-10-14T12:42:27.534Z"
   },
   {
    "duration": 9,
    "start_time": "2023-10-14T12:42:27.763Z"
   },
   {
    "duration": 30,
    "start_time": "2023-10-14T12:42:27.774Z"
   },
   {
    "duration": 20,
    "start_time": "2023-10-14T12:42:27.806Z"
   },
   {
    "duration": 5799,
    "start_time": "2023-10-14T12:42:27.827Z"
   },
   {
    "duration": 38,
    "start_time": "2023-10-14T12:42:33.628Z"
   },
   {
    "duration": 14,
    "start_time": "2023-10-14T12:42:33.667Z"
   },
   {
    "duration": 1457,
    "start_time": "2023-10-14T12:42:35.842Z"
   },
   {
    "duration": 11163,
    "start_time": "2023-10-14T12:42:42.965Z"
   },
   {
    "duration": 3,
    "start_time": "2023-10-14T12:44:25.228Z"
   },
   {
    "duration": 14,
    "start_time": "2023-10-14T12:44:32.920Z"
   },
   {
    "duration": 167816,
    "start_time": "2023-10-14T12:44:39.430Z"
   },
   {
    "duration": 4,
    "start_time": "2023-10-14T12:48:50.388Z"
   },
   {
    "duration": 4,
    "start_time": "2023-10-14T12:48:52.628Z"
   },
   {
    "duration": 5,
    "start_time": "2023-10-14T12:49:01.270Z"
   },
   {
    "duration": 4,
    "start_time": "2023-10-14T12:49:11.263Z"
   },
   {
    "duration": 810,
    "start_time": "2023-10-14T12:49:11.269Z"
   },
   {
    "duration": 6,
    "start_time": "2023-10-14T12:49:12.081Z"
   },
   {
    "duration": 36,
    "start_time": "2023-10-14T12:49:12.089Z"
   },
   {
    "duration": 25,
    "start_time": "2023-10-14T12:49:12.127Z"
   },
   {
    "duration": 212,
    "start_time": "2023-10-14T12:49:12.154Z"
   },
   {
    "duration": 222,
    "start_time": "2023-10-14T12:49:12.367Z"
   },
   {
    "duration": 10,
    "start_time": "2023-10-14T12:49:12.590Z"
   },
   {
    "duration": 43,
    "start_time": "2023-10-14T12:49:12.601Z"
   },
   {
    "duration": 9,
    "start_time": "2023-10-14T12:49:12.645Z"
   },
   {
    "duration": 5837,
    "start_time": "2023-10-14T12:49:12.655Z"
   },
   {
    "duration": 39,
    "start_time": "2023-10-14T12:49:18.494Z"
   },
   {
    "duration": 21,
    "start_time": "2023-10-14T12:49:18.535Z"
   },
   {
    "duration": 11203,
    "start_time": "2023-10-14T12:49:18.558Z"
   },
   {
    "duration": 168290,
    "start_time": "2023-10-14T12:49:29.763Z"
   },
   {
    "duration": 496677,
    "start_time": "2023-10-14T14:29:46.668Z"
   },
   {
    "duration": 9,
    "start_time": "2023-10-14T14:40:49.705Z"
   },
   {
    "duration": 9,
    "start_time": "2023-10-14T14:41:03.802Z"
   },
   {
    "duration": 498447,
    "start_time": "2023-10-14T14:41:10.507Z"
   },
   {
    "duration": 3,
    "start_time": "2023-10-14T14:50:27.392Z"
   },
   {
    "duration": 43832,
    "start_time": "2023-10-14T14:50:36.922Z"
   },
   {
    "duration": 7,
    "start_time": "2023-10-14T14:51:20.846Z"
   },
   {
    "duration": 15,
    "start_time": "2023-10-14T14:51:24.143Z"
   },
   {
    "duration": 4,
    "start_time": "2023-10-14T14:54:38.271Z"
   },
   {
    "duration": 80,
    "start_time": "2023-10-14T15:37:04.070Z"
   },
   {
    "duration": 86,
    "start_time": "2023-10-14T15:37:05.665Z"
   },
   {
    "duration": 75,
    "start_time": "2023-10-14T15:37:08.216Z"
   },
   {
    "duration": 89,
    "start_time": "2023-10-14T15:38:19.617Z"
   },
   {
    "duration": 85,
    "start_time": "2023-10-14T15:38:20.754Z"
   },
   {
    "duration": 519015,
    "start_time": "2023-10-14T15:38:24.741Z"
   },
   {
    "duration": 3,
    "start_time": "2023-10-14T15:51:35.159Z"
   },
   {
    "duration": 47384,
    "start_time": "2023-10-14T15:51:36.267Z"
   },
   {
    "duration": 9,
    "start_time": "2023-10-14T15:52:23.743Z"
   },
   {
    "duration": 17,
    "start_time": "2023-10-14T15:52:23.754Z"
   },
   {
    "duration": 108,
    "start_time": "2023-10-14T16:04:10.758Z"
   },
   {
    "duration": 181,
    "start_time": "2023-10-14T16:05:17.265Z"
   },
   {
    "duration": 130,
    "start_time": "2023-10-14T16:05:49.376Z"
   },
   {
    "duration": 130,
    "start_time": "2023-10-14T16:06:57.097Z"
   },
   {
    "duration": 123,
    "start_time": "2023-10-14T16:07:02.954Z"
   },
   {
    "duration": 262935,
    "start_time": "2023-10-14T16:07:11.483Z"
   },
   {
    "duration": 3,
    "start_time": "2023-10-14T16:11:34.419Z"
   },
   {
    "duration": 43023,
    "start_time": "2023-10-14T16:11:34.423Z"
   },
   {
    "duration": 7,
    "start_time": "2023-10-14T16:12:17.449Z"
   },
   {
    "duration": 49,
    "start_time": "2023-10-14T16:12:17.458Z"
   },
   {
    "duration": 10,
    "start_time": "2023-10-14T16:20:08.778Z"
   },
   {
    "duration": 22,
    "start_time": "2023-10-14T16:27:14.301Z"
   },
   {
    "duration": 11,
    "start_time": "2023-10-14T16:27:26.203Z"
   },
   {
    "duration": 10,
    "start_time": "2023-10-14T16:27:30.217Z"
   },
   {
    "duration": 11,
    "start_time": "2023-10-14T16:34:23.357Z"
   },
   {
    "duration": 2047,
    "start_time": "2023-10-14T17:45:54.932Z"
   },
   {
    "duration": 885,
    "start_time": "2023-10-14T17:45:56.981Z"
   },
   {
    "duration": 12,
    "start_time": "2023-10-14T17:45:57.867Z"
   },
   {
    "duration": 43,
    "start_time": "2023-10-14T17:45:57.881Z"
   },
   {
    "duration": 41,
    "start_time": "2023-10-14T17:45:57.927Z"
   },
   {
    "duration": 246,
    "start_time": "2023-10-14T17:45:57.969Z"
   },
   {
    "duration": 274,
    "start_time": "2023-10-14T17:45:58.217Z"
   },
   {
    "duration": 12,
    "start_time": "2023-10-14T17:45:58.493Z"
   },
   {
    "duration": 80,
    "start_time": "2023-10-14T17:45:58.506Z"
   },
   {
    "duration": 29,
    "start_time": "2023-10-14T17:45:58.588Z"
   },
   {
    "duration": 1943,
    "start_time": "2023-10-14T18:54:20.304Z"
   },
   {
    "duration": 836,
    "start_time": "2023-10-14T18:54:22.248Z"
   },
   {
    "duration": 10,
    "start_time": "2023-10-14T18:54:23.085Z"
   },
   {
    "duration": 34,
    "start_time": "2023-10-14T18:54:23.097Z"
   },
   {
    "duration": 20,
    "start_time": "2023-10-14T18:54:23.145Z"
   },
   {
    "duration": 232,
    "start_time": "2023-10-14T18:54:23.167Z"
   },
   {
    "duration": 257,
    "start_time": "2023-10-14T18:54:23.401Z"
   },
   {
    "duration": 11,
    "start_time": "2023-10-14T18:54:23.660Z"
   },
   {
    "duration": 35,
    "start_time": "2023-10-14T18:54:23.672Z"
   },
   {
    "duration": 4,
    "start_time": "2023-10-14T18:54:23.708Z"
   },
   {
    "duration": 7076,
    "start_time": "2023-10-14T18:54:23.714Z"
   },
   {
    "duration": 127,
    "start_time": "2023-10-14T18:54:30.792Z"
   },
   {
    "duration": 0,
    "start_time": "2023-10-14T18:54:30.922Z"
   },
   {
    "duration": 0,
    "start_time": "2023-10-14T18:54:30.924Z"
   },
   {
    "duration": 0,
    "start_time": "2023-10-14T18:54:30.925Z"
   },
   {
    "duration": 0,
    "start_time": "2023-10-14T18:54:30.926Z"
   },
   {
    "duration": 0,
    "start_time": "2023-10-14T18:54:30.927Z"
   },
   {
    "duration": 0,
    "start_time": "2023-10-14T18:54:30.928Z"
   },
   {
    "duration": 0,
    "start_time": "2023-10-14T18:54:30.945Z"
   },
   {
    "duration": 6,
    "start_time": "2023-10-14T18:55:13.604Z"
   },
   {
    "duration": 906,
    "start_time": "2023-10-14T18:55:13.611Z"
   },
   {
    "duration": 7,
    "start_time": "2023-10-14T18:55:14.519Z"
   },
   {
    "duration": 52,
    "start_time": "2023-10-14T18:55:14.527Z"
   },
   {
    "duration": 26,
    "start_time": "2023-10-14T18:55:14.581Z"
   },
   {
    "duration": 246,
    "start_time": "2023-10-14T18:55:14.609Z"
   },
   {
    "duration": 242,
    "start_time": "2023-10-14T18:55:14.857Z"
   },
   {
    "duration": 11,
    "start_time": "2023-10-14T18:55:15.100Z"
   },
   {
    "duration": 48,
    "start_time": "2023-10-14T18:55:15.112Z"
   },
   {
    "duration": 23,
    "start_time": "2023-10-14T18:55:15.162Z"
   },
   {
    "duration": 5810,
    "start_time": "2023-10-14T18:55:15.186Z"
   },
   {
    "duration": 16,
    "start_time": "2023-10-14T18:55:20.998Z"
   },
   {
    "duration": 0,
    "start_time": "2023-10-14T18:55:21.016Z"
   },
   {
    "duration": 0,
    "start_time": "2023-10-14T18:55:21.018Z"
   },
   {
    "duration": 0,
    "start_time": "2023-10-14T18:55:21.019Z"
   },
   {
    "duration": 0,
    "start_time": "2023-10-14T18:55:21.020Z"
   },
   {
    "duration": 0,
    "start_time": "2023-10-14T18:55:21.021Z"
   },
   {
    "duration": 0,
    "start_time": "2023-10-14T18:55:21.023Z"
   },
   {
    "duration": 0,
    "start_time": "2023-10-14T18:55:21.044Z"
   },
   {
    "duration": 0,
    "start_time": "2023-10-14T18:55:21.046Z"
   },
   {
    "duration": 0,
    "start_time": "2023-10-14T18:55:21.047Z"
   },
   {
    "duration": 0,
    "start_time": "2023-10-14T18:55:21.048Z"
   },
   {
    "duration": 0,
    "start_time": "2023-10-14T18:55:21.049Z"
   },
   {
    "duration": 0,
    "start_time": "2023-10-14T18:55:21.050Z"
   },
   {
    "duration": 43,
    "start_time": "2023-10-14T18:55:43.917Z"
   },
   {
    "duration": 6,
    "start_time": "2023-10-14T18:55:49.971Z"
   },
   {
    "duration": 808,
    "start_time": "2023-10-14T18:55:49.979Z"
   },
   {
    "duration": 6,
    "start_time": "2023-10-14T18:55:50.789Z"
   },
   {
    "duration": 44,
    "start_time": "2023-10-14T18:55:50.797Z"
   },
   {
    "duration": 24,
    "start_time": "2023-10-14T18:55:50.843Z"
   },
   {
    "duration": 216,
    "start_time": "2023-10-14T18:55:50.868Z"
   },
   {
    "duration": 235,
    "start_time": "2023-10-14T18:55:51.085Z"
   },
   {
    "duration": 9,
    "start_time": "2023-10-14T18:55:51.322Z"
   },
   {
    "duration": 32,
    "start_time": "2023-10-14T18:55:51.333Z"
   },
   {
    "duration": 6,
    "start_time": "2023-10-14T18:55:51.367Z"
   },
   {
    "duration": 5820,
    "start_time": "2023-10-14T18:55:51.374Z"
   },
   {
    "duration": 51,
    "start_time": "2023-10-14T18:55:57.195Z"
   },
   {
    "duration": 5,
    "start_time": "2023-10-14T18:55:57.247Z"
   },
   {
    "duration": 10935,
    "start_time": "2023-10-14T18:55:57.254Z"
   },
   {
    "duration": 516258,
    "start_time": "2023-10-14T18:56:08.191Z"
   },
   {
    "duration": 6,
    "start_time": "2023-10-14T19:04:44.451Z"
   },
   {
    "duration": 43387,
    "start_time": "2023-10-14T19:04:44.459Z"
   },
   {
    "duration": 7,
    "start_time": "2023-10-14T19:05:27.848Z"
   },
   {
    "duration": 99,
    "start_time": "2023-10-14T19:05:27.857Z"
   },
   {
    "duration": 262234,
    "start_time": "2023-10-14T19:05:27.957Z"
   },
   {
    "duration": 2,
    "start_time": "2023-10-14T19:09:50.193Z"
   },
   {
    "duration": 823,
    "start_time": "2023-10-14T19:09:50.196Z"
   },
   {
    "duration": 8,
    "start_time": "2023-10-14T19:09:51.020Z"
   },
   {
    "duration": 32,
    "start_time": "2023-10-14T19:09:51.030Z"
   },
   {
    "duration": 3,
    "start_time": "2023-10-14T19:20:02.232Z"
   },
   {
    "duration": 138,
    "start_time": "2023-10-14T19:20:05.785Z"
   },
   {
    "duration": 466970,
    "start_time": "2023-10-14T19:20:09.577Z"
   },
   {
    "duration": 355,
    "start_time": "2023-10-14T19:27:56.549Z"
   },
   {
    "duration": 13,
    "start_time": "2023-10-14T19:27:56.906Z"
   },
   {
    "duration": 8,
    "start_time": "2023-10-14T19:27:56.921Z"
   },
   {
    "duration": 14,
    "start_time": "2023-10-14T19:27:56.930Z"
   },
   {
    "duration": 7,
    "start_time": "2023-10-14T19:33:48.187Z"
   },
   {
    "duration": 8,
    "start_time": "2023-10-14T19:37:25.956Z"
   },
   {
    "duration": 238,
    "start_time": "2023-10-14T20:02:59.589Z"
   },
   {
    "duration": 837,
    "start_time": "2023-10-14T20:02:59.829Z"
   },
   {
    "duration": 7,
    "start_time": "2023-10-14T20:03:00.668Z"
   },
   {
    "duration": 67,
    "start_time": "2023-10-14T20:03:00.677Z"
   },
   {
    "duration": 98,
    "start_time": "2023-10-14T20:03:00.746Z"
   },
   {
    "duration": 258,
    "start_time": "2023-10-14T20:03:00.846Z"
   },
   {
    "duration": 240,
    "start_time": "2023-10-14T20:03:01.106Z"
   },
   {
    "duration": 12,
    "start_time": "2023-10-14T20:03:01.348Z"
   },
   {
    "duration": 77,
    "start_time": "2023-10-14T20:03:01.361Z"
   },
   {
    "duration": 27,
    "start_time": "2023-10-14T20:03:01.440Z"
   },
   {
    "duration": 5840,
    "start_time": "2023-10-14T20:03:01.469Z"
   },
   {
    "duration": 60,
    "start_time": "2023-10-14T20:03:07.310Z"
   },
   {
    "duration": 13,
    "start_time": "2023-10-14T20:03:07.372Z"
   },
   {
    "duration": 11076,
    "start_time": "2023-10-14T20:03:07.388Z"
   },
   {
    "duration": 522380,
    "start_time": "2023-10-14T20:03:18.466Z"
   },
   {
    "duration": 3,
    "start_time": "2023-10-14T20:12:00.943Z"
   },
   {
    "duration": 42998,
    "start_time": "2023-10-14T20:12:00.948Z"
   },
   {
    "duration": 7,
    "start_time": "2023-10-14T20:12:43.948Z"
   },
   {
    "duration": 20,
    "start_time": "2023-10-14T20:12:43.957Z"
   },
   {
    "duration": 4,
    "start_time": "2023-10-14T20:12:43.979Z"
   },
   {
    "duration": 262387,
    "start_time": "2023-10-14T20:12:43.985Z"
   },
   {
    "duration": 2,
    "start_time": "2023-10-14T20:17:06.374Z"
   },
   {
    "duration": 834,
    "start_time": "2023-10-14T20:17:06.378Z"
   },
   {
    "duration": 6,
    "start_time": "2023-10-14T20:17:07.213Z"
   },
   {
    "duration": 25,
    "start_time": "2023-10-14T20:17:07.221Z"
   },
   {
    "duration": 15,
    "start_time": "2023-10-14T20:17:07.247Z"
   },
   {
    "duration": 6,
    "start_time": "2023-10-14T20:17:07.263Z"
   },
   {
    "duration": 472093,
    "start_time": "2023-10-14T20:17:07.270Z"
   },
   {
    "duration": 385,
    "start_time": "2023-10-14T20:24:59.365Z"
   },
   {
    "duration": 13,
    "start_time": "2023-10-14T20:24:59.752Z"
   },
   {
    "duration": 20,
    "start_time": "2023-10-14T20:24:59.766Z"
   },
   {
    "duration": 33,
    "start_time": "2023-10-14T20:24:59.788Z"
   },
   {
    "duration": 7,
    "start_time": "2023-10-14T20:29:53.222Z"
   },
   {
    "duration": 12,
    "start_time": "2023-10-14T20:29:56.391Z"
   },
   {
    "duration": 207,
    "start_time": "2023-10-14T20:30:27.353Z"
   },
   {
    "duration": 12,
    "start_time": "2023-10-14T20:30:29.441Z"
   },
   {
    "duration": 5,
    "start_time": "2023-10-14T20:30:37.699Z"
   },
   {
    "duration": 809,
    "start_time": "2023-10-14T20:30:37.706Z"
   },
   {
    "duration": 7,
    "start_time": "2023-10-14T20:30:38.517Z"
   },
   {
    "duration": 38,
    "start_time": "2023-10-14T20:30:38.526Z"
   },
   {
    "duration": 18,
    "start_time": "2023-10-14T20:30:38.567Z"
   },
   {
    "duration": 229,
    "start_time": "2023-10-14T20:30:38.587Z"
   },
   {
    "duration": 239,
    "start_time": "2023-10-14T20:30:38.818Z"
   },
   {
    "duration": 11,
    "start_time": "2023-10-14T20:30:39.059Z"
   },
   {
    "duration": 33,
    "start_time": "2023-10-14T20:30:39.072Z"
   },
   {
    "duration": 3,
    "start_time": "2023-10-14T20:30:39.107Z"
   },
   {
    "duration": 5814,
    "start_time": "2023-10-14T20:30:39.112Z"
   },
   {
    "duration": 61,
    "start_time": "2023-10-14T20:30:44.928Z"
   },
   {
    "duration": 6,
    "start_time": "2023-10-14T20:30:44.991Z"
   },
   {
    "duration": 11069,
    "start_time": "2023-10-14T20:30:45.000Z"
   },
   {
    "duration": 521577,
    "start_time": "2023-10-14T20:30:56.070Z"
   },
   {
    "duration": 3,
    "start_time": "2023-10-14T20:39:37.649Z"
   },
   {
    "duration": 43497,
    "start_time": "2023-10-14T20:39:37.654Z"
   },
   {
    "duration": 93,
    "start_time": "2023-10-14T20:40:21.153Z"
   },
   {
    "duration": 33,
    "start_time": "2023-10-14T20:40:21.248Z"
   },
   {
    "duration": 5,
    "start_time": "2023-10-14T20:40:21.283Z"
   },
   {
    "duration": 259265,
    "start_time": "2023-10-14T20:40:21.289Z"
   },
   {
    "duration": 3,
    "start_time": "2023-10-14T20:44:40.556Z"
   },
   {
    "duration": 887,
    "start_time": "2023-10-14T20:44:40.561Z"
   },
   {
    "duration": 221,
    "start_time": "2023-10-14T20:44:41.450Z"
   },
   {
    "duration": 14,
    "start_time": "2023-10-14T20:44:41.673Z"
   },
   {
    "duration": 8,
    "start_time": "2023-10-14T20:44:41.690Z"
   },
   {
    "duration": 28,
    "start_time": "2023-10-14T20:44:41.700Z"
   },
   {
    "duration": 508974,
    "start_time": "2023-10-14T20:44:41.729Z"
   },
   {
    "duration": 400,
    "start_time": "2023-10-14T20:53:10.704Z"
   },
   {
    "duration": 14,
    "start_time": "2023-10-14T20:53:11.106Z"
   },
   {
    "duration": 40,
    "start_time": "2023-10-14T20:53:11.122Z"
   },
   {
    "duration": 26,
    "start_time": "2023-10-14T20:53:11.164Z"
   },
   {
    "duration": 3,
    "start_time": "2023-10-14T21:17:57.380Z"
   },
   {
    "duration": 2363,
    "start_time": "2023-10-15T07:35:18.175Z"
   },
   {
    "duration": 2500,
    "start_time": "2023-10-15T07:35:20.540Z"
   },
   {
    "duration": 20,
    "start_time": "2023-10-15T07:35:23.042Z"
   },
   {
    "duration": 41,
    "start_time": "2023-10-15T07:35:23.065Z"
   },
   {
    "duration": 28,
    "start_time": "2023-10-15T07:35:23.108Z"
   },
   {
    "duration": 257,
    "start_time": "2023-10-15T07:35:23.138Z"
   },
   {
    "duration": 295,
    "start_time": "2023-10-15T07:35:23.397Z"
   },
   {
    "duration": 10,
    "start_time": "2023-10-15T07:35:23.693Z"
   },
   {
    "duration": 50,
    "start_time": "2023-10-15T07:35:23.705Z"
   },
   {
    "duration": 4,
    "start_time": "2023-10-15T07:35:23.759Z"
   },
   {
    "duration": 8568,
    "start_time": "2023-10-15T07:35:23.765Z"
   },
   {
    "duration": 58,
    "start_time": "2023-10-15T07:35:32.335Z"
   },
   {
    "duration": 7,
    "start_time": "2023-10-15T07:35:32.395Z"
   },
   {
    "duration": 8176,
    "start_time": "2023-10-15T07:35:32.405Z"
   },
   {
    "duration": 620674,
    "start_time": "2023-10-15T07:35:40.582Z"
   },
   {
    "duration": 6,
    "start_time": "2023-10-15T07:46:01.263Z"
   },
   {
    "duration": 54181,
    "start_time": "2023-10-15T07:46:01.271Z"
   },
   {
    "duration": 15,
    "start_time": "2023-10-15T07:46:55.455Z"
   },
   {
    "duration": 97,
    "start_time": "2023-10-15T07:46:55.475Z"
   },
   {
    "duration": 6,
    "start_time": "2023-10-15T07:46:55.581Z"
   },
   {
    "duration": 6,
    "start_time": "2023-10-15T07:59:26.254Z"
   },
   {
    "duration": 905,
    "start_time": "2023-10-15T07:59:26.263Z"
   },
   {
    "duration": 8,
    "start_time": "2023-10-15T07:59:27.170Z"
   },
   {
    "duration": 71,
    "start_time": "2023-10-15T07:59:27.180Z"
   },
   {
    "duration": 32,
    "start_time": "2023-10-15T07:59:27.254Z"
   },
   {
    "duration": 231,
    "start_time": "2023-10-15T07:59:27.288Z"
   },
   {
    "duration": 262,
    "start_time": "2023-10-15T07:59:27.521Z"
   },
   {
    "duration": 12,
    "start_time": "2023-10-15T07:59:27.784Z"
   },
   {
    "duration": 54,
    "start_time": "2023-10-15T07:59:27.798Z"
   },
   {
    "duration": 5,
    "start_time": "2023-10-15T07:59:27.855Z"
   },
   {
    "duration": 146600,
    "start_time": "2023-10-15T07:59:27.862Z"
   },
   {
    "duration": 58,
    "start_time": "2023-10-15T08:01:54.465Z"
   },
   {
    "duration": 7,
    "start_time": "2023-10-15T08:01:54.525Z"
   },
   {
    "duration": 9195,
    "start_time": "2023-10-15T08:01:54.548Z"
   },
   {
    "duration": 586304,
    "start_time": "2023-10-15T08:02:03.745Z"
   },
   {
    "duration": 4,
    "start_time": "2023-10-15T08:11:50.051Z"
   },
   {
    "duration": 49992,
    "start_time": "2023-10-15T08:11:50.057Z"
   },
   {
    "duration": 8,
    "start_time": "2023-10-15T08:12:40.051Z"
   },
   {
    "duration": 18,
    "start_time": "2023-10-15T08:12:40.060Z"
   },
   {
    "duration": 6,
    "start_time": "2023-10-15T08:12:40.080Z"
   },
   {
    "duration": 331543,
    "start_time": "2023-10-15T08:17:37.538Z"
   },
   {
    "duration": 3,
    "start_time": "2023-10-15T08:23:09.084Z"
   },
   {
    "duration": 2338,
    "start_time": "2023-10-15T08:23:09.089Z"
   },
   {
    "duration": 286,
    "start_time": "2023-10-15T08:23:11.429Z"
   },
   {
    "duration": 13,
    "start_time": "2023-10-15T08:23:11.717Z"
   },
   {
    "duration": 17,
    "start_time": "2023-10-15T08:23:11.732Z"
   },
   {
    "duration": 4,
    "start_time": "2023-10-15T08:23:11.751Z"
   },
   {
    "duration": 551120,
    "start_time": "2023-10-15T08:23:11.756Z"
   },
   {
    "duration": 414,
    "start_time": "2023-10-15T08:32:22.878Z"
   },
   {
    "duration": 14,
    "start_time": "2023-10-15T08:32:23.295Z"
   },
   {
    "duration": 7,
    "start_time": "2023-10-15T08:32:23.311Z"
   },
   {
    "duration": 29,
    "start_time": "2023-10-15T08:32:23.320Z"
   },
   {
    "duration": 23,
    "start_time": "2023-10-15T08:32:23.351Z"
   },
   {
    "duration": 19,
    "start_time": "2023-10-15T08:32:23.375Z"
   },
   {
    "duration": 145,
    "start_time": "2023-10-15T08:54:29.394Z"
   },
   {
    "duration": 18,
    "start_time": "2023-10-15T08:54:32.844Z"
   },
   {
    "duration": 19,
    "start_time": "2023-10-15T08:54:33.433Z"
   },
   {
    "duration": 3,
    "start_time": "2023-10-15T08:54:42.912Z"
   },
   {
    "duration": 2486,
    "start_time": "2023-10-15T08:54:44.989Z"
   },
   {
    "duration": 289,
    "start_time": "2023-10-15T08:54:49.390Z"
   },
   {
    "duration": 14,
    "start_time": "2023-10-15T08:54:52.025Z"
   },
   {
    "duration": 14,
    "start_time": "2023-10-15T08:54:52.642Z"
   },
   {
    "duration": 13,
    "start_time": "2023-10-15T08:54:52.876Z"
   },
   {
    "duration": 13,
    "start_time": "2023-10-15T08:54:53.091Z"
   },
   {
    "duration": 14,
    "start_time": "2023-10-15T08:54:53.303Z"
   },
   {
    "duration": 14,
    "start_time": "2023-10-15T08:54:53.516Z"
   },
   {
    "duration": 22,
    "start_time": "2023-10-15T08:54:53.749Z"
   },
   {
    "duration": 18,
    "start_time": "2023-10-15T08:54:53.966Z"
   },
   {
    "duration": 13,
    "start_time": "2023-10-15T08:54:54.267Z"
   },
   {
    "duration": 14,
    "start_time": "2023-10-15T08:54:54.526Z"
   },
   {
    "duration": 14,
    "start_time": "2023-10-15T08:54:54.760Z"
   },
   {
    "duration": 14,
    "start_time": "2023-10-15T08:54:55.022Z"
   },
   {
    "duration": 19,
    "start_time": "2023-10-15T08:54:55.295Z"
   },
   {
    "duration": 14,
    "start_time": "2023-10-15T08:54:55.566Z"
   },
   {
    "duration": 1945,
    "start_time": "2023-12-10T18:55:41.854Z"
   },
   {
    "duration": 2281,
    "start_time": "2023-12-10T18:55:43.801Z"
   },
   {
    "duration": 10,
    "start_time": "2023-12-10T18:55:46.084Z"
   },
   {
    "duration": 38,
    "start_time": "2023-12-10T18:55:46.096Z"
   },
   {
    "duration": 19,
    "start_time": "2023-12-10T18:55:46.136Z"
   },
   {
    "duration": 235,
    "start_time": "2023-12-10T18:55:46.156Z"
   },
   {
    "duration": 238,
    "start_time": "2023-12-10T18:55:46.393Z"
   },
   {
    "duration": 10,
    "start_time": "2023-12-10T18:55:46.633Z"
   },
   {
    "duration": 28,
    "start_time": "2023-12-10T18:55:46.644Z"
   },
   {
    "duration": 14,
    "start_time": "2023-12-10T18:55:46.674Z"
   },
   {
    "duration": 127103,
    "start_time": "2023-12-10T18:55:46.690Z"
   },
   {
    "duration": 35,
    "start_time": "2023-12-10T18:57:53.794Z"
   },
   {
    "duration": 6,
    "start_time": "2023-12-10T18:57:53.831Z"
   },
   {
    "duration": 7390,
    "start_time": "2023-12-10T18:57:53.839Z"
   },
   {
    "duration": 519768,
    "start_time": "2023-12-10T18:58:01.231Z"
   },
   {
    "duration": 88,
    "start_time": "2023-12-10T19:06:41.001Z"
   },
   {
    "duration": 41799,
    "start_time": "2023-12-10T19:06:41.090Z"
   },
   {
    "duration": 8,
    "start_time": "2023-12-10T19:07:22.891Z"
   },
   {
    "duration": 93,
    "start_time": "2023-12-10T19:07:22.900Z"
   },
   {
    "duration": 4,
    "start_time": "2023-12-10T19:07:22.994Z"
   },
   {
    "duration": 280246,
    "start_time": "2023-12-10T19:07:22.999Z"
   },
   {
    "duration": 3,
    "start_time": "2023-12-10T19:12:03.246Z"
   },
   {
    "duration": 2015,
    "start_time": "2023-12-10T19:12:03.250Z"
   },
   {
    "duration": 264,
    "start_time": "2023-12-10T19:12:05.267Z"
   },
   {
    "duration": 12,
    "start_time": "2023-12-10T19:12:05.532Z"
   },
   {
    "duration": 6,
    "start_time": "2023-12-10T19:12:05.545Z"
   },
   {
    "duration": 4,
    "start_time": "2023-12-10T19:12:05.552Z"
   },
   {
    "duration": 470163,
    "start_time": "2023-12-10T19:12:05.558Z"
   },
   {
    "duration": 358,
    "start_time": "2023-12-10T19:19:55.722Z"
   },
   {
    "duration": 14,
    "start_time": "2023-12-10T19:19:56.081Z"
   },
   {
    "duration": 18,
    "start_time": "2023-12-10T19:19:56.096Z"
   },
   {
    "duration": 26,
    "start_time": "2023-12-10T19:19:56.115Z"
   },
   {
    "duration": 48,
    "start_time": "2023-12-10T19:19:56.142Z"
   },
   {
    "duration": 35,
    "start_time": "2023-12-10T19:19:56.191Z"
   },
   {
    "duration": 4,
    "start_time": "2023-12-10T19:34:04.050Z"
   },
   {
    "duration": 4,
    "start_time": "2023-12-10T19:34:09.744Z"
   },
   {
    "duration": 795,
    "start_time": "2023-12-10T19:34:09.750Z"
   },
   {
    "duration": 6,
    "start_time": "2023-12-10T19:34:10.547Z"
   },
   {
    "duration": 37,
    "start_time": "2023-12-10T19:34:10.555Z"
   },
   {
    "duration": 18,
    "start_time": "2023-12-10T19:34:10.594Z"
   },
   {
    "duration": 213,
    "start_time": "2023-12-10T19:34:10.613Z"
   },
   {
    "duration": 228,
    "start_time": "2023-12-10T19:34:10.828Z"
   },
   {
    "duration": 10,
    "start_time": "2023-12-10T19:34:11.057Z"
   },
   {
    "duration": 40,
    "start_time": "2023-12-10T19:34:11.068Z"
   },
   {
    "duration": 5,
    "start_time": "2023-12-10T19:34:11.110Z"
   },
   {
    "duration": 1767,
    "start_time": "2023-12-10T19:35:20.969Z"
   },
   {
    "duration": 821,
    "start_time": "2023-12-10T19:35:22.737Z"
   },
   {
    "duration": 10,
    "start_time": "2023-12-10T19:35:23.559Z"
   },
   {
    "duration": 44,
    "start_time": "2023-12-10T19:35:23.571Z"
   },
   {
    "duration": 22,
    "start_time": "2023-12-10T19:35:23.617Z"
   },
   {
    "duration": 218,
    "start_time": "2023-12-10T19:35:23.640Z"
   },
   {
    "duration": 235,
    "start_time": "2023-12-10T19:35:23.860Z"
   },
   {
    "duration": 10,
    "start_time": "2023-12-10T19:35:24.097Z"
   },
   {
    "duration": 38,
    "start_time": "2023-12-10T19:35:24.109Z"
   },
   {
    "duration": 18,
    "start_time": "2023-12-10T19:35:24.148Z"
   },
   {
    "duration": 127433,
    "start_time": "2023-12-10T19:35:24.167Z"
   },
   {
    "duration": 31,
    "start_time": "2023-12-10T19:37:31.602Z"
   },
   {
    "duration": 75,
    "start_time": "2023-12-10T19:37:31.635Z"
   },
   {
    "duration": 4494,
    "start_time": "2023-12-10T19:37:31.713Z"
   },
   {
    "duration": 127,
    "start_time": "2023-12-10T19:38:12.137Z"
   },
   {
    "duration": 23,
    "start_time": "2023-12-10T19:38:16.450Z"
   },
   {
    "duration": 1760,
    "start_time": "2023-12-10T19:38:30.844Z"
   },
   {
    "duration": 837,
    "start_time": "2023-12-10T19:38:32.605Z"
   },
   {
    "duration": 10,
    "start_time": "2023-12-10T19:38:33.443Z"
   },
   {
    "duration": 175,
    "start_time": "2023-12-10T19:38:33.455Z"
   },
   {
    "duration": 61,
    "start_time": "2023-12-10T19:38:33.632Z"
   },
   {
    "duration": 217,
    "start_time": "2023-12-10T19:38:33.694Z"
   },
   {
    "duration": 236,
    "start_time": "2023-12-10T19:38:33.913Z"
   },
   {
    "duration": 9,
    "start_time": "2023-12-10T19:38:34.151Z"
   },
   {
    "duration": 39,
    "start_time": "2023-12-10T19:38:34.162Z"
   },
   {
    "duration": 6,
    "start_time": "2023-12-10T19:38:34.203Z"
   },
   {
    "duration": 127111,
    "start_time": "2023-12-10T19:38:34.210Z"
   },
   {
    "duration": 30,
    "start_time": "2023-12-10T19:40:41.322Z"
   },
   {
    "duration": 5,
    "start_time": "2023-12-10T19:40:41.353Z"
   },
   {
    "duration": 4497,
    "start_time": "2023-12-10T19:40:41.360Z"
   },
   {
    "duration": 5,
    "start_time": "2023-12-10T19:46:21.503Z"
   },
   {
    "duration": 129,
    "start_time": "2023-12-10T19:47:34.831Z"
   },
   {
    "duration": 13,
    "start_time": "2023-12-10T19:47:44.579Z"
   },
   {
    "duration": 13,
    "start_time": "2023-12-10T19:48:00.140Z"
   },
   {
    "duration": 12,
    "start_time": "2023-12-10T19:48:18.045Z"
   },
   {
    "duration": 34,
    "start_time": "2023-12-10T19:48:51.607Z"
   },
   {
    "duration": 5,
    "start_time": "2023-12-10T19:56:48.183Z"
   },
   {
    "duration": 4,
    "start_time": "2023-12-10T19:56:52.799Z"
   },
   {
    "duration": 10,
    "start_time": "2023-12-10T19:57:08.150Z"
   },
   {
    "duration": 31,
    "start_time": "2023-12-10T19:58:04.095Z"
   },
   {
    "duration": 172,
    "start_time": "2023-12-10T19:59:08.223Z"
   },
   {
    "duration": 3,
    "start_time": "2023-12-10T20:00:56.756Z"
   },
   {
    "duration": 4,
    "start_time": "2023-12-10T20:01:01.719Z"
   },
   {
    "duration": 901,
    "start_time": "2023-12-10T20:01:01.724Z"
   },
   {
    "duration": 7,
    "start_time": "2023-12-10T20:01:02.627Z"
   },
   {
    "duration": 36,
    "start_time": "2023-12-10T20:01:02.636Z"
   },
   {
    "duration": 26,
    "start_time": "2023-12-10T20:01:02.674Z"
   },
   {
    "duration": 213,
    "start_time": "2023-12-10T20:01:02.702Z"
   },
   {
    "duration": 235,
    "start_time": "2023-12-10T20:01:02.917Z"
   },
   {
    "duration": 16,
    "start_time": "2023-12-10T20:01:03.154Z"
   },
   {
    "duration": 29,
    "start_time": "2023-12-10T20:01:03.172Z"
   },
   {
    "duration": 4,
    "start_time": "2023-12-10T20:01:03.203Z"
   },
   {
    "duration": 126088,
    "start_time": "2023-12-10T20:01:03.208Z"
   },
   {
    "duration": 76,
    "start_time": "2023-12-10T20:03:09.297Z"
   },
   {
    "duration": 0,
    "start_time": "2023-12-10T20:03:09.375Z"
   },
   {
    "duration": 0,
    "start_time": "2023-12-10T20:03:09.376Z"
   },
   {
    "duration": 1889,
    "start_time": "2023-12-10T20:04:15.063Z"
   },
   {
    "duration": 843,
    "start_time": "2023-12-10T20:04:16.954Z"
   },
   {
    "duration": 13,
    "start_time": "2023-12-10T20:04:17.799Z"
   },
   {
    "duration": 54,
    "start_time": "2023-12-10T20:04:17.814Z"
   },
   {
    "duration": 33,
    "start_time": "2023-12-10T20:04:17.870Z"
   },
   {
    "duration": 214,
    "start_time": "2023-12-10T20:04:17.905Z"
   },
   {
    "duration": 248,
    "start_time": "2023-12-10T20:04:18.120Z"
   },
   {
    "duration": 10,
    "start_time": "2023-12-10T20:04:18.369Z"
   },
   {
    "duration": 50,
    "start_time": "2023-12-10T20:04:18.380Z"
   },
   {
    "duration": 14,
    "start_time": "2023-12-10T20:04:18.431Z"
   },
   {
    "duration": 127429,
    "start_time": "2023-12-10T20:04:18.446Z"
   },
   {
    "duration": 91,
    "start_time": "2023-12-10T20:06:25.877Z"
   },
   {
    "duration": 0,
    "start_time": "2023-12-10T20:06:25.969Z"
   },
   {
    "duration": 0,
    "start_time": "2023-12-10T20:06:25.971Z"
   },
   {
    "duration": 178,
    "start_time": "2023-12-10T20:06:40.864Z"
   },
   {
    "duration": 4,
    "start_time": "2023-12-10T20:06:49.857Z"
   },
   {
    "duration": 808,
    "start_time": "2023-12-10T20:06:49.862Z"
   },
   {
    "duration": 7,
    "start_time": "2023-12-10T20:06:50.671Z"
   },
   {
    "duration": 23,
    "start_time": "2023-12-10T20:06:50.687Z"
   },
   {
    "duration": 18,
    "start_time": "2023-12-10T20:06:50.711Z"
   },
   {
    "duration": 221,
    "start_time": "2023-12-10T20:06:50.730Z"
   },
   {
    "duration": 228,
    "start_time": "2023-12-10T20:06:50.953Z"
   },
   {
    "duration": 11,
    "start_time": "2023-12-10T20:06:51.182Z"
   },
   {
    "duration": 33,
    "start_time": "2023-12-10T20:06:51.195Z"
   },
   {
    "duration": 15,
    "start_time": "2023-12-10T20:06:51.230Z"
   },
   {
    "duration": 127169,
    "start_time": "2023-12-10T20:06:51.247Z"
   },
   {
    "duration": 86,
    "start_time": "2023-12-10T20:08:58.417Z"
   },
   {
    "duration": 0,
    "start_time": "2023-12-10T20:08:58.505Z"
   },
   {
    "duration": 0,
    "start_time": "2023-12-10T20:08:58.506Z"
   },
   {
    "duration": 83,
    "start_time": "2023-12-10T20:10:58.847Z"
   },
   {
    "duration": 5,
    "start_time": "2023-12-10T20:11:01.939Z"
   },
   {
    "duration": 4,
    "start_time": "2023-12-10T20:11:06.903Z"
   },
   {
    "duration": 153,
    "start_time": "2023-12-10T20:11:11.261Z"
   },
   {
    "duration": 4579,
    "start_time": "2023-12-10T20:15:53.648Z"
   },
   {
    "duration": 522223,
    "start_time": "2023-12-10T20:16:33.775Z"
   },
   {
    "duration": 10,
    "start_time": "2023-12-10T20:25:54.294Z"
   },
   {
    "duration": 3,
    "start_time": "2023-12-10T20:27:26.465Z"
   },
   {
    "duration": 96,
    "start_time": "2023-12-10T20:27:31.543Z"
   },
   {
    "duration": 86,
    "start_time": "2023-12-10T20:27:39.221Z"
   },
   {
    "duration": 2,
    "start_time": "2023-12-10T20:28:33.849Z"
   },
   {
    "duration": 49027,
    "start_time": "2023-12-10T20:28:41.765Z"
   },
   {
    "duration": 6,
    "start_time": "2023-12-10T20:30:52.995Z"
   },
   {
    "duration": 15,
    "start_time": "2023-12-10T20:31:01.518Z"
   },
   {
    "duration": 1349,
    "start_time": "2023-12-10T20:31:55.715Z"
   },
   {
    "duration": 13,
    "start_time": "2023-12-10T20:31:59.987Z"
   },
   {
    "duration": 900885,
    "start_time": "2023-12-10T20:33:48.605Z"
   },
   {
    "duration": 3,
    "start_time": "2023-12-10T20:48:49.492Z"
   },
   {
    "duration": 47193,
    "start_time": "2023-12-10T20:48:49.496Z"
   },
   {
    "duration": 1403,
    "start_time": "2023-12-10T20:49:36.691Z"
   },
   {
    "duration": 12,
    "start_time": "2023-12-10T20:49:38.096Z"
   },
   {
    "duration": 9,
    "start_time": "2023-12-10T20:55:37.851Z"
   },
   {
    "duration": 12,
    "start_time": "2023-12-10T20:55:48.744Z"
   },
   {
    "duration": 713425,
    "start_time": "2023-12-10T20:57:17.368Z"
   },
   {
    "duration": 3,
    "start_time": "2023-12-10T21:09:10.795Z"
   },
   {
    "duration": 47193,
    "start_time": "2023-12-10T21:09:10.799Z"
   },
   {
    "duration": 1428,
    "start_time": "2023-12-10T21:09:57.995Z"
   },
   {
    "duration": 13,
    "start_time": "2023-12-10T21:09:59.425Z"
   },
   {
    "duration": 3,
    "start_time": "2023-12-10T21:09:59.440Z"
   },
   {
    "duration": 14,
    "start_time": "2023-12-10T21:09:59.445Z"
   },
   {
    "duration": 714543,
    "start_time": "2023-12-10T21:27:00.246Z"
   },
   {
    "duration": 2,
    "start_time": "2023-12-10T21:41:51.289Z"
   },
   {
    "duration": 48229,
    "start_time": "2023-12-10T21:41:52.460Z"
   },
   {
    "duration": 1318,
    "start_time": "2023-12-10T21:42:40.691Z"
   },
   {
    "duration": 13,
    "start_time": "2023-12-10T21:42:42.010Z"
   },
   {
    "duration": 36,
    "start_time": "2023-12-10T21:45:27.886Z"
   },
   {
    "duration": 34,
    "start_time": "2023-12-10T21:45:59.495Z"
   },
   {
    "duration": 233040,
    "start_time": "2023-12-10T21:46:26.884Z"
   },
   {
    "duration": 3,
    "start_time": "2023-12-10T21:53:32.447Z"
   },
   {
    "duration": 13011,
    "start_time": "2023-12-10T21:56:05.340Z"
   },
   {
    "duration": 2321,
    "start_time": "2023-12-10T21:56:18.353Z"
   },
   {
    "duration": 14,
    "start_time": "2023-12-10T21:56:20.675Z"
   },
   {
    "duration": 245500,
    "start_time": "2023-12-10T21:57:27.031Z"
   },
   {
    "duration": 1898,
    "start_time": "2023-12-11T07:08:33.393Z"
   },
   {
    "duration": 2214,
    "start_time": "2023-12-11T07:08:35.293Z"
   },
   {
    "duration": 10,
    "start_time": "2023-12-11T07:08:37.509Z"
   },
   {
    "duration": 21,
    "start_time": "2023-12-11T07:08:37.520Z"
   },
   {
    "duration": 21,
    "start_time": "2023-12-11T07:08:37.543Z"
   },
   {
    "duration": 239,
    "start_time": "2023-12-11T07:08:37.565Z"
   },
   {
    "duration": 238,
    "start_time": "2023-12-11T07:08:37.806Z"
   },
   {
    "duration": 7,
    "start_time": "2023-12-11T07:08:38.046Z"
   },
   {
    "duration": 95,
    "start_time": "2023-12-11T07:08:38.055Z"
   },
   {
    "duration": 4,
    "start_time": "2023-12-11T07:08:38.151Z"
   },
   {
    "duration": 121239,
    "start_time": "2023-12-11T07:08:38.157Z"
   },
   {
    "duration": 76,
    "start_time": "2023-12-11T07:10:39.397Z"
   },
   {
    "duration": 5,
    "start_time": "2023-12-11T07:10:39.474Z"
   },
   {
    "duration": 4,
    "start_time": "2023-12-11T07:10:39.481Z"
   },
   {
    "duration": 668785,
    "start_time": "2023-12-11T07:10:39.486Z"
   },
   {
    "duration": 2,
    "start_time": "2023-12-11T07:21:48.272Z"
   },
   {
    "duration": 44101,
    "start_time": "2023-12-11T07:21:48.276Z"
   },
   {
    "duration": 1288,
    "start_time": "2023-12-11T07:22:32.378Z"
   },
   {
    "duration": 12,
    "start_time": "2023-12-11T07:22:33.669Z"
   },
   {
    "duration": 14,
    "start_time": "2023-12-11T07:22:33.683Z"
   },
   {
    "duration": 25,
    "start_time": "2023-12-11T07:22:33.698Z"
   },
   {
    "duration": 378233,
    "start_time": "2023-12-11T07:22:33.724Z"
   },
   {
    "duration": 3,
    "start_time": "2023-12-11T07:28:51.958Z"
   },
   {
    "duration": 5638,
    "start_time": "2023-12-11T07:28:51.969Z"
   },
   {
    "duration": 1415,
    "start_time": "2023-12-11T07:28:57.609Z"
   },
   {
    "duration": 11,
    "start_time": "2023-12-11T07:28:59.025Z"
   },
   {
    "duration": 9,
    "start_time": "2023-12-11T07:28:59.037Z"
   },
   {
    "duration": 374076,
    "start_time": "2023-12-11T07:41:18.797Z"
   },
   {
    "duration": 370241,
    "start_time": "2023-12-11T08:09:04.532Z"
   },
   {
    "duration": 9,
    "start_time": "2023-12-11T08:15:31.011Z"
   },
   {
    "duration": 622,
    "start_time": "2023-12-11T08:19:11.148Z"
   },
   {
    "duration": 373462,
    "start_time": "2023-12-11T08:19:54.033Z"
   },
   {
    "duration": 33,
    "start_time": "2023-12-11T08:40:19.864Z"
   },
   {
    "duration": 696765,
    "start_time": "2023-12-11T08:40:46.341Z"
   },
   {
    "duration": 13,
    "start_time": "2023-12-11T09:01:51.493Z"
   },
   {
    "duration": 422282,
    "start_time": "2023-12-11T09:02:20.067Z"
   },
   {
    "duration": 415951,
    "start_time": "2023-12-11T09:21:22.267Z"
   },
   {
    "duration": 1672,
    "start_time": "2023-12-11T09:44:57.882Z"
   },
   {
    "duration": 766,
    "start_time": "2023-12-11T09:44:59.556Z"
   },
   {
    "duration": 10,
    "start_time": "2023-12-11T09:45:00.323Z"
   },
   {
    "duration": 229,
    "start_time": "2023-12-11T09:45:00.334Z"
   },
   {
    "duration": 137,
    "start_time": "2023-12-11T09:45:00.565Z"
   },
   {
    "duration": 288,
    "start_time": "2023-12-11T09:45:00.704Z"
   },
   {
    "duration": 227,
    "start_time": "2023-12-11T09:45:00.993Z"
   },
   {
    "duration": 8,
    "start_time": "2023-12-11T09:45:01.222Z"
   },
   {
    "duration": 57,
    "start_time": "2023-12-11T09:45:01.231Z"
   },
   {
    "duration": 74,
    "start_time": "2023-12-11T09:45:01.290Z"
   },
   {
    "duration": 118932,
    "start_time": "2023-12-11T09:45:01.365Z"
   },
   {
    "duration": 70,
    "start_time": "2023-12-11T09:47:00.299Z"
   },
   {
    "duration": 81,
    "start_time": "2023-12-11T09:47:00.371Z"
   },
   {
    "duration": 58,
    "start_time": "2023-12-11T09:47:00.454Z"
   },
   {
    "duration": 410704,
    "start_time": "2023-12-11T10:34:24.314Z"
   },
   {
    "duration": 961667,
    "start_time": "2023-12-11T16:17:38.564Z"
   },
   {
    "duration": 133,
    "start_time": "2023-12-11T16:42:15.100Z"
   },
   {
    "duration": 11,
    "start_time": "2023-12-11T16:42:33.850Z"
   },
   {
    "duration": 150,
    "start_time": "2023-12-11T16:42:40.733Z"
   },
   {
    "duration": 10,
    "start_time": "2023-12-11T16:42:57.412Z"
   },
   {
    "duration": 11,
    "start_time": "2023-12-11T16:43:10.489Z"
   },
   {
    "duration": 2194,
    "start_time": "2023-12-11T16:43:23.941Z"
   },
   {
    "duration": 1793,
    "start_time": "2023-12-11T17:17:38.863Z"
   },
   {
    "duration": 809,
    "start_time": "2023-12-11T17:17:40.658Z"
   },
   {
    "duration": 9,
    "start_time": "2023-12-11T17:17:41.469Z"
   },
   {
    "duration": 25,
    "start_time": "2023-12-11T17:17:41.479Z"
   },
   {
    "duration": 19,
    "start_time": "2023-12-11T17:17:41.506Z"
   },
   {
    "duration": 253,
    "start_time": "2023-12-11T17:17:41.526Z"
   },
   {
    "duration": 226,
    "start_time": "2023-12-11T17:17:41.781Z"
   },
   {
    "duration": 12,
    "start_time": "2023-12-11T17:17:42.009Z"
   },
   {
    "duration": 38,
    "start_time": "2023-12-11T17:17:42.023Z"
   },
   {
    "duration": 3,
    "start_time": "2023-12-11T17:17:42.063Z"
   },
   {
    "duration": 118867,
    "start_time": "2023-12-11T17:17:42.070Z"
   },
   {
    "duration": 73,
    "start_time": "2023-12-11T17:19:40.939Z"
   },
   {
    "duration": 5,
    "start_time": "2023-12-11T17:19:41.014Z"
   },
   {
    "duration": 21,
    "start_time": "2023-12-11T17:19:41.021Z"
   }
  ],
  "kernelspec": {
   "display_name": "Python 3 (ipykernel)",
   "language": "python",
   "name": "python3"
  },
  "language_info": {
   "codemirror_mode": {
    "name": "ipython",
    "version": 3
   },
   "file_extension": ".py",
   "mimetype": "text/x-python",
   "name": "python",
   "nbconvert_exporter": "python",
   "pygments_lexer": "ipython3",
   "version": "3.11.5"
  },
  "toc": {
   "base_numbering": 1,
   "nav_menu": {},
   "number_sections": true,
   "sideBar": true,
   "skip_h1_title": true,
   "title_cell": "Содержание",
   "title_sidebar": "Contents",
   "toc_cell": true,
   "toc_position": {
    "height": "calc(100% - 180px)",
    "left": "10px",
    "top": "150px",
    "width": "302.391px"
   },
   "toc_section_display": true,
   "toc_window_display": true
  }
 },
 "nbformat": 4,
 "nbformat_minor": 4
}
